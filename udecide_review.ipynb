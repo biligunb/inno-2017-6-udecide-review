{
 "cells": [
  {
   "cell_type": "markdown",
   "metadata": {},
   "source": [
    "# U decide ML feature : Intelligent Review Engine 1.0\n",
    "\n",
    "# Predicting sentiment from business reviews"
   ]
  },
  {
   "cell_type": "code",
   "execution_count": 1,
   "metadata": {
    "collapsed": true
   },
   "outputs": [],
   "source": [
    "import graphlab"
   ]
  },
  {
   "cell_type": "code",
   "execution_count": 4,
   "metadata": {},
   "outputs": [],
   "source": [
    "graphlab.set_runtime_config('GRAPHLAB_DEFAULT_NUM_PYLAMBDA_WORKERS', 4)"
   ]
  },
  {
   "cell_type": "markdown",
   "metadata": {},
   "source": [
    "# Fetching business review data "
   ]
  },
  {
   "cell_type": "code",
   "execution_count": 5,
   "metadata": {},
   "outputs": [
    {
     "data": {
      "text/html": [
       "<pre>Finished parsing file /home/um-083-misheel/Sites/Coursera/MachineLearningSpecialization/Week-3/Week 3/amazon_baby.gl/udecideReview.csv</pre>"
      ],
      "text/plain": [
       "Finished parsing file /home/um-083-misheel/Sites/Coursera/MachineLearningSpecialization/Week-3/Week 3/amazon_baby.gl/udecideReview.csv"
      ]
     },
     "metadata": {},
     "output_type": "display_data"
    },
    {
     "data": {
      "text/html": [
       "<pre>Parsing completed. Parsed 51 lines in 0.10535 secs.</pre>"
      ],
      "text/plain": [
       "Parsing completed. Parsed 51 lines in 0.10535 secs."
      ]
     },
     "metadata": {},
     "output_type": "display_data"
    },
    {
     "name": "stdout",
     "output_type": "stream",
     "text": [
      "------------------------------------------------------\n",
      "Inferred types from first 100 line(s) of file as \n",
      "column_type_hints=[str,str,int]\n",
      "If parsing fails due to incorrect types, you can correct\n",
      "the inferred type list above and pass it to read_csv in\n",
      "the column_type_hints argument\n",
      "------------------------------------------------------\n"
     ]
    },
    {
     "data": {
      "text/html": [
       "<pre>Finished parsing file /home/um-083-misheel/Sites/Coursera/MachineLearningSpecialization/Week-3/Week 3/amazon_baby.gl/udecideReview.csv</pre>"
      ],
      "text/plain": [
       "Finished parsing file /home/um-083-misheel/Sites/Coursera/MachineLearningSpecialization/Week-3/Week 3/amazon_baby.gl/udecideReview.csv"
      ]
     },
     "metadata": {},
     "output_type": "display_data"
    },
    {
     "data": {
      "text/html": [
       "<pre>Parsing completed. Parsed 51 lines in 0.04916 secs.</pre>"
      ],
      "text/plain": [
       "Parsing completed. Parsed 51 lines in 0.04916 secs."
      ]
     },
     "metadata": {},
     "output_type": "display_data"
    }
   ],
   "source": [
    "businesses = graphlab.SFrame('amazon_baby.gl/udecideReview.csv')"
   ]
  },
  {
   "cell_type": "code",
   "execution_count": 6,
   "metadata": {},
   "outputs": [
    {
     "data": {
      "text/html": [
       "<div style=\"max-height:1000px;max-width:1500px;overflow:auto;\"><table frame=\"box\" rules=\"cols\">\n",
       "    <tr>\n",
       "        <th style=\"padding-left: 1em; padding-right: 1em; text-align: center\">name</th>\n",
       "        <th style=\"padding-left: 1em; padding-right: 1em; text-align: center\">review</th>\n",
       "        <th style=\"padding-left: 1em; padding-right: 1em; text-align: center\">rating</th>\n",
       "    </tr>\n",
       "    <tr>\n",
       "        <td style=\"padding-left: 1em; padding-right: 1em; text-align: center; vertical-align: top\">Thai Express</td>\n",
       "        <td style=\"padding-left: 1em; padding-right: 1em; text-align: center; vertical-align: top\">Agaarjuulagch, AC bgui<br>mash bugchim. Hool ih ...</td>\n",
       "        <td style=\"padding-left: 1em; padding-right: 1em; text-align: center; vertical-align: top\">1</td>\n",
       "    </tr>\n",
       "    <tr>\n",
       "        <td style=\"padding-left: 1em; padding-right: 1em; text-align: center; vertical-align: top\">Thai Express</td>\n",
       "        <td style=\"padding-left: 1em; padding-right: 1em; text-align: center; vertical-align: top\">Ymar ch uilchilgeenii<br>soyl bhgui oronguut ...</td>\n",
       "        <td style=\"padding-left: 1em; padding-right: 1em; text-align: center; vertical-align: top\">1</td>\n",
       "    </tr>\n",
       "    <tr>\n",
       "        <td style=\"padding-left: 1em; padding-right: 1em; text-align: center; vertical-align: top\">Thai Express</td>\n",
       "        <td style=\"padding-left: 1em; padding-right: 1em; text-align: center; vertical-align: top\">Curry ni curry bish blaa.<br>Poorts mash myy. Dahij ...</td>\n",
       "        <td style=\"padding-left: 1em; padding-right: 1em; text-align: center; vertical-align: top\">2</td>\n",
       "    </tr>\n",
       "    <tr>\n",
       "        <td style=\"padding-left: 1em; padding-right: 1em; text-align: center; vertical-align: top\">Oishii Ramen</td>\n",
       "        <td style=\"padding-left: 1em; padding-right: 1em; text-align: center; vertical-align: top\">Mash amttai, ports saitai<br>bas hamgiin gol n busad ...</td>\n",
       "        <td style=\"padding-left: 1em; padding-right: 1em; text-align: center; vertical-align: top\">5</td>\n",
       "    </tr>\n",
       "    <tr>\n",
       "        <td style=\"padding-left: 1em; padding-right: 1em; text-align: center; vertical-align: top\">Oishii Ramen</td>\n",
       "        <td style=\"padding-left: 1em; padding-right: 1em; text-align: center; vertical-align: top\">Curry bol mash myy bn.<br>Shul shig shingen, bitvv ...</td>\n",
       "        <td style=\"padding-left: 1em; padding-right: 1em; text-align: center; vertical-align: top\">2</td>\n",
       "    </tr>\n",
       "    <tr>\n",
       "        <td style=\"padding-left: 1em; padding-right: 1em; text-align: center; vertical-align: top\">Oishii Ramen</td>\n",
       "        <td style=\"padding-left: 1em; padding-right: 1em; text-align: center; vertical-align: top\">Ih saihan tuhalag orchin<br>bas hool uneheer goy ...</td>\n",
       "        <td style=\"padding-left: 1em; padding-right: 1em; text-align: center; vertical-align: top\">5</td>\n",
       "    </tr>\n",
       "    <tr>\n",
       "        <td style=\"padding-left: 1em; padding-right: 1em; text-align: center; vertical-align: top\">Oishii Ramen</td>\n",
       "        <td style=\"padding-left: 1em; padding-right: 1em; text-align: center; vertical-align: top\">jinhene Japan rameng<br>bodwol arai ondoo ch ...</td>\n",
       "        <td style=\"padding-left: 1em; padding-right: 1em; text-align: center; vertical-align: top\">4</td>\n",
       "    </tr>\n",
       "    <tr>\n",
       "        <td style=\"padding-left: 1em; padding-right: 1em; text-align: center; vertical-align: top\">BBQ chicken Mongolia</td>\n",
       "        <td style=\"padding-left: 1em; padding-right: 1em; text-align: center; vertical-align: top\">Horoollin salbartaa<br>anhaarlaa handulaacee ...</td>\n",
       "        <td style=\"padding-left: 1em; padding-right: 1em; text-align: center; vertical-align: top\">1</td>\n",
       "    </tr>\n",
       "    <tr>\n",
       "        <td style=\"padding-left: 1em; padding-right: 1em; text-align: center; vertical-align: top\">BBQ chicken Mongolia</td>\n",
       "        <td style=\"padding-left: 1em; padding-right: 1em; text-align: center; vertical-align: top\">Hogiin gazar. Zahialga<br>ugii geheer dandaa uur ...</td>\n",
       "        <td style=\"padding-left: 1em; padding-right: 1em; text-align: center; vertical-align: top\">1</td>\n",
       "    </tr>\n",
       "    <tr>\n",
       "        <td style=\"padding-left: 1em; padding-right: 1em; text-align: center; vertical-align: top\">BBQ chicken Mongolia</td>\n",
       "        <td style=\"padding-left: 1em; padding-right: 1em; text-align: center; vertical-align: top\">Tahian shardag tosoo ern<br>solidiimu tanaih. Arai l ...</td>\n",
       "        <td style=\"padding-left: 1em; padding-right: 1em; text-align: center; vertical-align: top\">1</td>\n",
       "    </tr>\n",
       "</table>\n",
       "[10 rows x 3 columns]<br/>\n",
       "</div>"
      ],
      "text/plain": [
       "Columns:\n",
       "\tname\tstr\n",
       "\treview\tstr\n",
       "\trating\tint\n",
       "\n",
       "Rows: 10\n",
       "\n",
       "Data:\n",
       "+----------------------+-------------------------------+--------+\n",
       "|         name         |             review            | rating |\n",
       "+----------------------+-------------------------------+--------+\n",
       "|     Thai Express     | Agaarjuulagch, AC bgui mas... |   1    |\n",
       "|     Thai Express     | Ymar ch uilchilgeenii soyl... |   1    |\n",
       "|     Thai Express     | Curry ni curry bish blaa. ... |   2    |\n",
       "|     Oishii Ramen     | Mash amttai, ports saitai ... |   5    |\n",
       "|     Oishii Ramen     | Curry bol mash myy bn. Shu... |   2    |\n",
       "|     Oishii Ramen     | Ih saihan tuhalag orchin b... |   5    |\n",
       "|     Oishii Ramen     | jinhene Japan rameng bodwo... |   4    |\n",
       "| BBQ chicken Mongolia | Horoollin salbartaa anhaar... |   1    |\n",
       "| BBQ chicken Mongolia | Hogiin gazar. Zahialga ugi... |   1    |\n",
       "| BBQ chicken Mongolia | Tahian shardag tosoo ern s... |   1    |\n",
       "+----------------------+-------------------------------+--------+\n",
       "[10 rows x 3 columns]"
      ]
     },
     "execution_count": 6,
     "metadata": {},
     "output_type": "execute_result"
    }
   ],
   "source": [
    "businesses.head()"
   ]
  },
  {
   "cell_type": "markdown",
   "metadata": {},
   "source": [
    "# Generate word count vector for each reviews"
   ]
  },
  {
   "cell_type": "code",
   "execution_count": 7,
   "metadata": {
    "collapsed": true
   },
   "outputs": [],
   "source": [
    "businesses['word_count'] = graphlab.text_analytics.count_words(businesses['review'])"
   ]
  },
  {
   "cell_type": "code",
   "execution_count": 8,
   "metadata": {},
   "outputs": [
    {
     "data": {
      "text/html": [
       "<div style=\"max-height:1000px;max-width:1500px;overflow:auto;\"><table frame=\"box\" rules=\"cols\">\n",
       "    <tr>\n",
       "        <th style=\"padding-left: 1em; padding-right: 1em; text-align: center\">name</th>\n",
       "        <th style=\"padding-left: 1em; padding-right: 1em; text-align: center\">review</th>\n",
       "        <th style=\"padding-left: 1em; padding-right: 1em; text-align: center\">rating</th>\n",
       "        <th style=\"padding-left: 1em; padding-right: 1em; text-align: center\">word_count</th>\n",
       "    </tr>\n",
       "    <tr>\n",
       "        <td style=\"padding-left: 1em; padding-right: 1em; text-align: center; vertical-align: top\">Thai Express</td>\n",
       "        <td style=\"padding-left: 1em; padding-right: 1em; text-align: center; vertical-align: top\">Agaarjuulagch, AC bgui<br>mash bugchim. Hool ih ...</td>\n",
       "        <td style=\"padding-left: 1em; padding-right: 1em; text-align: center; vertical-align: top\">1</td>\n",
       "        <td style=\"padding-left: 1em; padding-right: 1em; text-align: center; vertical-align: top\">{'ni': 1, 'ih': 1,<br>'agaarjuulagch,': 1, ...</td>\n",
       "    </tr>\n",
       "    <tr>\n",
       "        <td style=\"padding-left: 1em; padding-right: 1em; text-align: center; vertical-align: top\">Thai Express</td>\n",
       "        <td style=\"padding-left: 1em; padding-right: 1em; text-align: center; vertical-align: top\">Ymar ch uilchilgeenii<br>soyl bhgui oronguut ...</td>\n",
       "        <td style=\"padding-left: 1em; padding-right: 1em; text-align: center; vertical-align: top\">1</td>\n",
       "        <td style=\"padding-left: 1em; padding-right: 1em; text-align: center; vertical-align: top\">{'ch': 1, 'yvtsgu': 1,<br>'uneheer': 1, 'sandal': ...</td>\n",
       "    </tr>\n",
       "    <tr>\n",
       "        <td style=\"padding-left: 1em; padding-right: 1em; text-align: center; vertical-align: top\">Thai Express</td>\n",
       "        <td style=\"padding-left: 1em; padding-right: 1em; text-align: center; vertical-align: top\">Curry ni curry bish blaa.<br>Poorts mash myy. Dahij ...</td>\n",
       "        <td style=\"padding-left: 1em; padding-right: 1em; text-align: center; vertical-align: top\">2</td>\n",
       "        <td style=\"padding-left: 1em; padding-right: 1em; text-align: center; vertical-align: top\">{'ni': 1, 'orohgvee.': 1,<br>'myy.': 1, 'mash': 1, ...</td>\n",
       "    </tr>\n",
       "    <tr>\n",
       "        <td style=\"padding-left: 1em; padding-right: 1em; text-align: center; vertical-align: top\">Oishii Ramen</td>\n",
       "        <td style=\"padding-left: 1em; padding-right: 1em; text-align: center; vertical-align: top\">Mash amttai, ports saitai<br>bas hamgiin gol n busad ...</td>\n",
       "        <td style=\"padding-left: 1em; padding-right: 1em; text-align: center; vertical-align: top\">5</td>\n",
       "        <td style=\"padding-left: 1em; padding-right: 1em; text-align: center; vertical-align: top\">{'zoriulsan': 1, 'gol':<br>1, 'saitai': 1, 'bas' ...</td>\n",
       "    </tr>\n",
       "    <tr>\n",
       "        <td style=\"padding-left: 1em; padding-right: 1em; text-align: center; vertical-align: top\">Oishii Ramen</td>\n",
       "        <td style=\"padding-left: 1em; padding-right: 1em; text-align: center; vertical-align: top\">Curry bol mash myy bn.<br>Shul shig shingen, bitvv ...</td>\n",
       "        <td style=\"padding-left: 1em; padding-right: 1em; text-align: center; vertical-align: top\">2</td>\n",
       "        <td style=\"padding-left: 1em; padding-right: 1em; text-align: center; vertical-align: top\">{'myy': 1, 'ch': 1,<br>'bitvv': 1, 'hezee': 1, ...</td>\n",
       "    </tr>\n",
       "    <tr>\n",
       "        <td style=\"padding-left: 1em; padding-right: 1em; text-align: center; vertical-align: top\">Oishii Ramen</td>\n",
       "        <td style=\"padding-left: 1em; padding-right: 1em; text-align: center; vertical-align: top\">Ih saihan tuhalag orchin<br>bas hool uneheer goy ...</td>\n",
       "        <td style=\"padding-left: 1em; padding-right: 1em; text-align: center; vertical-align: top\">5</td>\n",
       "        <td style=\"padding-left: 1em; padding-right: 1em; text-align: center; vertical-align: top\">{'ih': 1, 'mgld': 1,<br>'bas': 1, 'idej': 1, ...</td>\n",
       "    </tr>\n",
       "    <tr>\n",
       "        <td style=\"padding-left: 1em; padding-right: 1em; text-align: center; vertical-align: top\">Oishii Ramen</td>\n",
       "        <td style=\"padding-left: 1em; padding-right: 1em; text-align: center; vertical-align: top\">jinhene Japan rameng<br>bodwol arai ondoo ch ...</td>\n",
       "        <td style=\"padding-left: 1em; padding-right: 1em; text-align: center; vertical-align: top\">4</td>\n",
       "        <td style=\"padding-left: 1em; padding-right: 1em; text-align: center; vertical-align: top\">{'hyamdarch': 1, 'blee':<br>1, 'arai': 1, 'ch': 1, ...</td>\n",
       "    </tr>\n",
       "    <tr>\n",
       "        <td style=\"padding-left: 1em; padding-right: 1em; text-align: center; vertical-align: top\">BBQ chicken Mongolia</td>\n",
       "        <td style=\"padding-left: 1em; padding-right: 1em; text-align: center; vertical-align: top\">Horoollin salbartaa<br>anhaarlaa handulaacee ...</td>\n",
       "        <td style=\"padding-left: 1em; padding-right: 1em; text-align: center; vertical-align: top\">1</td>\n",
       "        <td style=\"padding-left: 1em; padding-right: 1em; text-align: center; vertical-align: top\">{'bvr': 1, 'hutgaa': 1,<br>'halbaga': 1, 'tawga' ...</td>\n",
       "    </tr>\n",
       "    <tr>\n",
       "        <td style=\"padding-left: 1em; padding-right: 1em; text-align: center; vertical-align: top\">BBQ chicken Mongolia</td>\n",
       "        <td style=\"padding-left: 1em; padding-right: 1em; text-align: center; vertical-align: top\">Hogiin gazar. Zahialga<br>ugii geheer dandaa uur ...</td>\n",
       "        <td style=\"padding-left: 1em; padding-right: 1em; text-align: center; vertical-align: top\">1</td>\n",
       "        <td style=\"padding-left: 1em; padding-right: 1em; text-align: center; vertical-align: top\">{'oirhon': 1, 'guihimu':<br>1, 'ued': 1, 'manaih' ...</td>\n",
       "    </tr>\n",
       "    <tr>\n",
       "        <td style=\"padding-left: 1em; padding-right: 1em; text-align: center; vertical-align: top\">BBQ chicken Mongolia</td>\n",
       "        <td style=\"padding-left: 1em; padding-right: 1em; text-align: center; vertical-align: top\">Tahian shardag tosoo ern<br>solidiimu tanaih. Arai l ...</td>\n",
       "        <td style=\"padding-left: 1em; padding-right: 1em; text-align: center; vertical-align: top\">1</td>\n",
       "        <td style=\"padding-left: 1em; padding-right: 1em; text-align: center; vertical-align: top\">{'dahij': 1, 'heterhii':<br>1, 'zahialaltgui': 1, ...</td>\n",
       "    </tr>\n",
       "</table>\n",
       "[10 rows x 4 columns]<br/>\n",
       "</div>"
      ],
      "text/plain": [
       "Columns:\n",
       "\tname\tstr\n",
       "\treview\tstr\n",
       "\trating\tint\n",
       "\tword_count\tdict\n",
       "\n",
       "Rows: 10\n",
       "\n",
       "Data:\n",
       "+----------------------+-------------------------------+--------+\n",
       "|         name         |             review            | rating |\n",
       "+----------------------+-------------------------------+--------+\n",
       "|     Thai Express     | Agaarjuulagch, AC bgui mas... |   1    |\n",
       "|     Thai Express     | Ymar ch uilchilgeenii soyl... |   1    |\n",
       "|     Thai Express     | Curry ni curry bish blaa. ... |   2    |\n",
       "|     Oishii Ramen     | Mash amttai, ports saitai ... |   5    |\n",
       "|     Oishii Ramen     | Curry bol mash myy bn. Shu... |   2    |\n",
       "|     Oishii Ramen     | Ih saihan tuhalag orchin b... |   5    |\n",
       "|     Oishii Ramen     | jinhene Japan rameng bodwo... |   4    |\n",
       "| BBQ chicken Mongolia | Horoollin salbartaa anhaar... |   1    |\n",
       "| BBQ chicken Mongolia | Hogiin gazar. Zahialga ugi... |   1    |\n",
       "| BBQ chicken Mongolia | Tahian shardag tosoo ern s... |   1    |\n",
       "+----------------------+-------------------------------+--------+\n",
       "+-------------------------------+\n",
       "|           word_count          |\n",
       "+-------------------------------+\n",
       "| {'ni': 1, 'ih': 1, 'agaarj... |\n",
       "| {'ch': 1, 'yvtsgu': 1, 'un... |\n",
       "| {'ni': 1, 'orohgvee.': 1, ... |\n",
       "| {'zoriulsan': 1, 'gol': 1,... |\n",
       "| {'myy': 1, 'ch': 1, 'bitvv... |\n",
       "| {'ih': 1, 'mgld': 1, 'bas'... |\n",
       "| {'hyamdarch': 1, 'blee': 1... |\n",
       "| {'bvr': 1, 'hutgaa': 1, 'h... |\n",
       "| {'oirhon': 1, 'guihimu': 1... |\n",
       "| {'dahij': 1, 'heterhii': 1... |\n",
       "+-------------------------------+\n",
       "[10 rows x 4 columns]"
      ]
     },
     "execution_count": 8,
     "metadata": {},
     "output_type": "execute_result"
    }
   ],
   "source": [
    "businesses.head()"
   ]
  },
  {
   "cell_type": "code",
   "execution_count": 9,
   "metadata": {
    "collapsed": true
   },
   "outputs": [],
   "source": [
    "graphlab.canvas.set_target('ipynb')"
   ]
  },
  {
   "cell_type": "code",
   "execution_count": 10,
   "metadata": {},
   "outputs": [
    {
     "data": {
      "application/javascript": [
       "$(\"head\").append($(\"<link/>\").attr({\n",
       "  rel:  \"stylesheet\",\n",
       "  type: \"text/css\",\n",
       "  href: \"//cdnjs.cloudflare.com/ajax/libs/font-awesome/4.1.0/css/font-awesome.min.css\"\n",
       "}));\n",
       "$(\"head\").append($(\"<link/>\").attr({\n",
       "  rel:  \"stylesheet\",\n",
       "  type: \"text/css\",\n",
       "  href: \"https://static.turi.com/products/graphlab-create/2.1/canvas/css/canvas.css\"\n",
       "}));\n",
       "\n",
       "            (function(){\n",
       "\n",
       "                var e = null;\n",
       "                if (typeof element == 'undefined') {\n",
       "                    var scripts = document.getElementsByTagName('script');\n",
       "                    var thisScriptTag = scripts[scripts.length-1];\n",
       "                    var parentDiv = thisScriptTag.parentNode;\n",
       "                    e = document.createElement('div');\n",
       "                    parentDiv.appendChild(e);\n",
       "                } else {\n",
       "                    e = element[0];\n",
       "                }\n",
       "\n",
       "                if (typeof requirejs !== 'undefined') {\n",
       "                    // disable load timeout; ipython_app.js is large and can take a while to load.\n",
       "                    requirejs.config({waitSeconds: 0});\n",
       "                }\n",
       "\n",
       "                require(['https://static.turi.com/products/graphlab-create/2.1/canvas/js/ipython_app.js'], function(IPythonApp){\n",
       "                    var app = new IPythonApp();\n",
       "                    app.attachView('sarray','Categorical', {\"ipython\": true, \"sketch\": {\"complete\": true, \"numeric\": false, \"num_unique\": 12, \"num_undefined\": 0, \"progress\": 1.0, \"frequent_items\": {\"Horned Owl Food Symphony\": {\"frequency\": 8, \"value\": \"Horned Owl Food ...\"}, \"BBQ chicken Mongolia\": {\"frequency\": 9, \"value\": \"BBQ chicken ...\"}, \"BD's mongolian barbecue\": {\"frequency\": 2, \"value\": \"BD's mongolian ...\"}, \"Pizza Hut Mongolia\": {\"frequency\": 6, \"value\": \"Pizza Hut Mongolia\"}, \"Oishii Ramen\": {\"frequency\": 4, \"value\": \"Oishii Ramen\"}, \"Burger King Mongolia\": {\"frequency\": 11, \"value\": \"Burger King ...\"}, \"Bojangles Grill Restaurant & Bar\": {\"frequency\": 1, \"value\": \"Bojangles Grill ...\"}, \"Beer house\": {\"frequency\": 1, \"value\": \"Beer house\"}, \"Food park shangrila mall\": {\"frequency\": 4, \"value\": \"Food park ...\"}, \"Thai Express\": {\"frequency\": 3, \"value\": \"Thai Express\"}, \"KFC mongolia\": {\"frequency\": 1, \"value\": \"KFC mongolia\"}, \"Rosewood Kitchen + Enoteca\": {\"frequency\": 1, \"value\": \"Rosewood Kitchen + ...\"}}, \"size\": 51}, \"selected_variable\": {\"name\": [\"<SArray>\"], \"dtype\": \"str\", \"view_component\": \"Categorical\", \"view_file\": \"sarray\", \"descriptives\": {\"rows\": 51}, \"type\": \"SArray\", \"view_components\": [\"Categorical\"]}, \"histogram\": null}, e);\n",
       "                });\n",
       "            })();\n",
       "        "
      ]
     },
     "metadata": {},
     "output_type": "display_data"
    }
   ],
   "source": [
    "businesses['name'].show()\n",
    "\n",
    "# businesses['rating'].show()"
   ]
  },
  {
   "cell_type": "markdown",
   "metadata": {},
   "source": [
    "# Examining the reviews for popular business:"
   ]
  },
  {
   "cell_type": "code",
   "execution_count": 11,
   "metadata": {
    "collapsed": true
   },
   "outputs": [],
   "source": [
    "business_reviews = businesses[businesses['name'] == 'BBQ chicken Mongolia']"
   ]
  },
  {
   "cell_type": "code",
   "execution_count": 12,
   "metadata": {},
   "outputs": [
    {
     "data": {
      "text/plain": [
       "9"
      ]
     },
     "execution_count": 12,
     "metadata": {},
     "output_type": "execute_result"
    }
   ],
   "source": [
    "len(business_reviews)"
   ]
  },
  {
   "cell_type": "code",
   "execution_count": 13,
   "metadata": {},
   "outputs": [
    {
     "data": {
      "application/javascript": [
       "$(\"head\").append($(\"<link/>\").attr({\n",
       "  rel:  \"stylesheet\",\n",
       "  type: \"text/css\",\n",
       "  href: \"//cdnjs.cloudflare.com/ajax/libs/font-awesome/4.1.0/css/font-awesome.min.css\"\n",
       "}));\n",
       "$(\"head\").append($(\"<link/>\").attr({\n",
       "  rel:  \"stylesheet\",\n",
       "  type: \"text/css\",\n",
       "  href: \"https://static.turi.com/products/graphlab-create/2.1/canvas/css/canvas.css\"\n",
       "}));\n",
       "\n",
       "            (function(){\n",
       "\n",
       "                var e = null;\n",
       "                if (typeof element == 'undefined') {\n",
       "                    var scripts = document.getElementsByTagName('script');\n",
       "                    var thisScriptTag = scripts[scripts.length-1];\n",
       "                    var parentDiv = thisScriptTag.parentNode;\n",
       "                    e = document.createElement('div');\n",
       "                    parentDiv.appendChild(e);\n",
       "                } else {\n",
       "                    e = element[0];\n",
       "                }\n",
       "\n",
       "                if (typeof requirejs !== 'undefined') {\n",
       "                    // disable load timeout; ipython_app.js is large and can take a while to load.\n",
       "                    requirejs.config({waitSeconds: 0});\n",
       "                }\n",
       "\n",
       "                require(['https://static.turi.com/products/graphlab-create/2.1/canvas/js/ipython_app.js'], function(IPythonApp){\n",
       "                    var app = new IPythonApp();\n",
       "                    app.attachView('sarray','Categorical', {\"ipython\": true, \"sketch\": {\"std\": 1.8324913891634047, \"complete\": true, \"min\": 1.0, \"max\": 5.0, \"quantile\": [1.0, 1.0, 1.0, 1.0, 1.0, 1.0, 1.0, 1.0, 1.0, 1.0, 1.0, 1.0, 1.0, 1.0, 1.0, 1.0, 1.0, 1.0, 1.0, 1.0, 1.0, 1.0, 1.0, 1.0, 1.0, 1.0, 1.0, 1.0, 1.0, 1.0, 1.0, 1.0, 1.0, 1.0, 1.0, 1.0, 1.0, 1.0, 1.0, 1.0, 1.0, 1.0, 1.0, 1.0, 1.0, 1.0, 1.0, 1.0, 1.0, 1.0, 1.0, 1.0, 1.0, 1.0, 1.0, 1.0, 3.0, 3.0, 3.0, 3.0, 3.0, 3.0, 3.0, 3.0, 3.0, 3.0, 3.0, 5.0, 5.0, 5.0, 5.0, 5.0, 5.0, 5.0, 5.0, 5.0, 5.0, 5.0, 5.0, 5.0, 5.0, 5.0, 5.0, 5.0, 5.0, 5.0, 5.0, 5.0, 5.0, 5.0, 5.0, 5.0, 5.0, 5.0, 5.0, 5.0, 5.0, 5.0, 5.0, 5.0, 5.0], \"median\": 1.0, \"numeric\": true, \"num_unique\": 3, \"num_undefined\": 0, \"var\": 3.3580246913580245, \"progress\": 1.0, \"size\": 9, \"frequent_items\": {\"1\": {\"frequency\": 5, \"value\": 1}, \"3\": {\"frequency\": 1, \"value\": 3}, \"5\": {\"frequency\": 3, \"value\": 5}}, \"mean\": 2.5555555555555554}, \"selected_variable\": {\"name\": [\"<SArray>\"], \"dtype\": \"int\", \"view_component\": \"Categorical\", \"view_file\": \"sarray\", \"descriptives\": {\"rows\": 9}, \"type\": \"SArray\", \"view_components\": [\"Numeric\", \"Categorical\"]}, \"histogram\": {\"progress\": 1.0, \"histogram\": {\"max\": 5.029320000000034, \"bins\": [5, 0, 0, 0, 0, 1, 0, 0, 0, 0, 0, 3], \"min\": 0.9742799999999994}, \"min\": 1, \"complete\": 1, \"max\": 5}}, e);\n",
       "                });\n",
       "            })();\n",
       "        "
      ]
     },
     "metadata": {},
     "output_type": "display_data"
    }
   ],
   "source": [
    "business_reviews['rating'].show(view='Categorical')"
   ]
  },
  {
   "cell_type": "markdown",
   "metadata": {},
   "source": [
    "# Centiment classifier"
   ]
  },
  {
   "cell_type": "code",
   "execution_count": 14,
   "metadata": {},
   "outputs": [
    {
     "data": {
      "application/javascript": [
       "$(\"head\").append($(\"<link/>\").attr({\n",
       "  rel:  \"stylesheet\",\n",
       "  type: \"text/css\",\n",
       "  href: \"//cdnjs.cloudflare.com/ajax/libs/font-awesome/4.1.0/css/font-awesome.min.css\"\n",
       "}));\n",
       "$(\"head\").append($(\"<link/>\").attr({\n",
       "  rel:  \"stylesheet\",\n",
       "  type: \"text/css\",\n",
       "  href: \"https://static.turi.com/products/graphlab-create/2.1/canvas/css/canvas.css\"\n",
       "}));\n",
       "\n",
       "            (function(){\n",
       "\n",
       "                var e = null;\n",
       "                if (typeof element == 'undefined') {\n",
       "                    var scripts = document.getElementsByTagName('script');\n",
       "                    var thisScriptTag = scripts[scripts.length-1];\n",
       "                    var parentDiv = thisScriptTag.parentNode;\n",
       "                    e = document.createElement('div');\n",
       "                    parentDiv.appendChild(e);\n",
       "                } else {\n",
       "                    e = element[0];\n",
       "                }\n",
       "\n",
       "                if (typeof requirejs !== 'undefined') {\n",
       "                    // disable load timeout; ipython_app.js is large and can take a while to load.\n",
       "                    requirejs.config({waitSeconds: 0});\n",
       "                }\n",
       "\n",
       "                require(['https://static.turi.com/products/graphlab-create/2.1/canvas/js/ipython_app.js'], function(IPythonApp){\n",
       "                    var app = new IPythonApp();\n",
       "                    app.attachView('sarray','Categorical', {\"ipython\": true, \"sketch\": {\"std\": 1.729273926301909, \"complete\": true, \"min\": 1.0, \"max\": 5.0, \"quantile\": [1.0, 1.0, 1.0, 1.0, 1.0, 1.0, 1.0, 1.0, 1.0, 1.0, 1.0, 1.0, 1.0, 1.0, 1.0, 1.0, 1.0, 1.0, 1.0, 1.0, 1.0, 1.0, 1.0, 1.0, 1.0, 1.0, 1.0, 1.0, 1.0, 1.0, 1.0, 1.0, 1.0, 1.0, 1.0, 1.0, 1.0, 1.0, 1.0, 1.0, 1.0, 1.0, 1.0, 1.0, 1.0, 1.0, 2.0, 2.0, 2.0, 2.0, 2.0, 2.0, 2.0, 2.0, 2.0, 2.0, 2.0, 2.0, 2.0, 2.0, 2.0, 3.0, 3.0, 3.0, 3.0, 3.0, 3.0, 4.0, 4.0, 4.0, 4.0, 5.0, 5.0, 5.0, 5.0, 5.0, 5.0, 5.0, 5.0, 5.0, 5.0, 5.0, 5.0, 5.0, 5.0, 5.0, 5.0, 5.0, 5.0, 5.0, 5.0, 5.0, 5.0, 5.0, 5.0, 5.0, 5.0, 5.0, 5.0, 5.0, 5.0], \"median\": 2.0, \"numeric\": true, \"num_unique\": 5, \"num_undefined\": 0, \"var\": 2.99038831218762, \"progress\": 1.0, \"size\": 51, \"frequent_items\": {\"1\": {\"frequency\": 23, \"value\": 1}, \"2\": {\"frequency\": 8, \"value\": 2}, \"3\": {\"frequency\": 3, \"value\": 3}, \"4\": {\"frequency\": 2, \"value\": 4}, \"5\": {\"frequency\": 15, \"value\": 5}}, \"mean\": 2.5686274509803924}, \"selected_variable\": {\"name\": [\"<SArray>\"], \"dtype\": \"int\", \"view_component\": \"Categorical\", \"view_file\": \"sarray\", \"descriptives\": {\"rows\": 51}, \"type\": \"SArray\", \"view_components\": [\"Numeric\", \"Categorical\"]}, \"histogram\": {\"progress\": 1.0, \"histogram\": {\"max\": 5.029320000000034, \"bins\": [23, 0, 0, 8, 0, 3, 0, 0, 2, 0, 0, 15], \"min\": 0.9742799999999994}, \"min\": 1, \"complete\": 1, \"max\": 5}}, e);\n",
       "                });\n",
       "            })();\n",
       "        "
      ]
     },
     "metadata": {},
     "output_type": "display_data"
    }
   ],
   "source": [
    "businesses['rating'].show(view='Categorical')"
   ]
  },
  {
   "cell_type": "markdown",
   "metadata": {},
   "source": [
    "# Define what's a positive and a negative sentiment\n",
    "\n",
    "Ignore reviews with rating = 3, cause those are neither positive nor negative meaning. Reviews >= 4 are positives, Reviews <= 2 are negatives."
   ]
  },
  {
   "cell_type": "code",
   "execution_count": 15,
   "metadata": {
    "collapsed": true
   },
   "outputs": [],
   "source": [
    "businesses = businesses[businesses['rating'] != 3] # excluding reviews with value of 3. "
   ]
  },
  {
   "cell_type": "code",
   "execution_count": 16,
   "metadata": {
    "collapsed": true
   },
   "outputs": [],
   "source": [
    "businesses['sentiment'] = businesses['rating'] >= 4 # positive reviews 1, negatives 0 "
   ]
  },
  {
   "cell_type": "code",
   "execution_count": 17,
   "metadata": {},
   "outputs": [
    {
     "data": {
      "text/html": [
       "<div style=\"max-height:1000px;max-width:1500px;overflow:auto;\"><table frame=\"box\" rules=\"cols\">\n",
       "    <tr>\n",
       "        <th style=\"padding-left: 1em; padding-right: 1em; text-align: center\">name</th>\n",
       "        <th style=\"padding-left: 1em; padding-right: 1em; text-align: center\">review</th>\n",
       "        <th style=\"padding-left: 1em; padding-right: 1em; text-align: center\">rating</th>\n",
       "        <th style=\"padding-left: 1em; padding-right: 1em; text-align: center\">word_count</th>\n",
       "        <th style=\"padding-left: 1em; padding-right: 1em; text-align: center\">sentiment</th>\n",
       "    </tr>\n",
       "    <tr>\n",
       "        <td style=\"padding-left: 1em; padding-right: 1em; text-align: center; vertical-align: top\">Oishii Ramen</td>\n",
       "        <td style=\"padding-left: 1em; padding-right: 1em; text-align: center; vertical-align: top\">Mash amttai, ports saitai<br>bas hamgiin gol n busad ...</td>\n",
       "        <td style=\"padding-left: 1em; padding-right: 1em; text-align: center; vertical-align: top\">5</td>\n",
       "        <td style=\"padding-left: 1em; padding-right: 1em; text-align: center; vertical-align: top\">{'zoriulsan': 1, 'gol':<br>1, 'saitai': 1, 'bas' ...</td>\n",
       "        <td style=\"padding-left: 1em; padding-right: 1em; text-align: center; vertical-align: top\">1</td>\n",
       "    </tr>\n",
       "    <tr>\n",
       "        <td style=\"padding-left: 1em; padding-right: 1em; text-align: center; vertical-align: top\">Oishii Ramen</td>\n",
       "        <td style=\"padding-left: 1em; padding-right: 1em; text-align: center; vertical-align: top\">Ih saihan tuhalag orchin<br>bas hool uneheer goy ...</td>\n",
       "        <td style=\"padding-left: 1em; padding-right: 1em; text-align: center; vertical-align: top\">5</td>\n",
       "        <td style=\"padding-left: 1em; padding-right: 1em; text-align: center; vertical-align: top\">{'ih': 1, 'mgld': 1,<br>'bas': 1, 'idej': 1, ...</td>\n",
       "        <td style=\"padding-left: 1em; padding-right: 1em; text-align: center; vertical-align: top\">1</td>\n",
       "    </tr>\n",
       "    <tr>\n",
       "        <td style=\"padding-left: 1em; padding-right: 1em; text-align: center; vertical-align: top\">BBQ chicken Mongolia</td>\n",
       "        <td style=\"padding-left: 1em; padding-right: 1em; text-align: center; vertical-align: top\">Guurnii door bdag<br>salbariin uilchilgee ...</td>\n",
       "        <td style=\"padding-left: 1em; padding-right: 1em; text-align: center; vertical-align: top\">5</td>\n",
       "        <td style=\"padding-left: 1em; padding-right: 1em; text-align: center; vertical-align: top\">{'door': 1, 'taalagdlaa':<br>1, 'salbariin': 1, ...</td>\n",
       "        <td style=\"padding-left: 1em; padding-right: 1em; text-align: center; vertical-align: top\">1</td>\n",
       "    </tr>\n",
       "    <tr>\n",
       "        <td style=\"padding-left: 1em; padding-right: 1em; text-align: center; vertical-align: top\">BBQ chicken Mongolia</td>\n",
       "        <td style=\"padding-left: 1em; padding-right: 1em; text-align: center; vertical-align: top\">Chicken dukbab bol nice2<br>jhn hymd bval humuus ih ...</td>\n",
       "        <td style=\"padding-left: 1em; padding-right: 1em; text-align: center; vertical-align: top\">5</td>\n",
       "        <td style=\"padding-left: 1em; padding-right: 1em; text-align: center; vertical-align: top\">{'daa': 1, 'nice2': 1,<br>'dukbab': 1, 'humuus' ...</td>\n",
       "        <td style=\"padding-left: 1em; padding-right: 1em; text-align: center; vertical-align: top\">1</td>\n",
       "    </tr>\n",
       "    <tr>\n",
       "        <td style=\"padding-left: 1em; padding-right: 1em; text-align: center; vertical-align: top\">BBQ chicken Mongolia</td>\n",
       "        <td style=\"padding-left: 1em; padding-right: 1em; text-align: center; vertical-align: top\">bbg hamt olond ajiln<br>amjilt orh durtai gazarn ...</td>\n",
       "        <td style=\"padding-left: 1em; padding-right: 1em; text-align: center; vertical-align: top\">5</td>\n",
       "        <td style=\"padding-left: 1em; padding-right: 1em; text-align: center; vertical-align: top\">{'hamt': 1, 'ajiln': 1,<br>'bbg': 1, 'neg': 1, ...</td>\n",
       "        <td style=\"padding-left: 1em; padding-right: 1em; text-align: center; vertical-align: top\">1</td>\n",
       "    </tr>\n",
       "    <tr>\n",
       "        <td style=\"padding-left: 1em; padding-right: 1em; text-align: center; vertical-align: top\">Bojangles Grill<br>Restaurant &amp; Bar ...</td>\n",
       "        <td style=\"padding-left: 1em; padding-right: 1em; text-align: center; vertical-align: top\">goe yum</td>\n",
       "        <td style=\"padding-left: 1em; padding-right: 1em; text-align: center; vertical-align: top\">5</td>\n",
       "        <td style=\"padding-left: 1em; padding-right: 1em; text-align: center; vertical-align: top\">{'goe': 1, 'yum': 1}</td>\n",
       "        <td style=\"padding-left: 1em; padding-right: 1em; text-align: center; vertical-align: top\">1</td>\n",
       "    </tr>\n",
       "    <tr>\n",
       "        <td style=\"padding-left: 1em; padding-right: 1em; text-align: center; vertical-align: top\">KFC mongolia</td>\n",
       "        <td style=\"padding-left: 1em; padding-right: 1em; text-align: center; vertical-align: top\">goe amtai bas tanaid<br>ajild oroh huselt tawij ...</td>\n",
       "        <td style=\"padding-left: 1em; padding-right: 1em; text-align: center; vertical-align: top\">5</td>\n",
       "        <td style=\"padding-left: 1em; padding-right: 1em; text-align: center; vertical-align: top\">{'bas': 1, 'tanaid': 1,<br>'goe': 1, 'huselt': 1, ...</td>\n",
       "        <td style=\"padding-left: 1em; padding-right: 1em; text-align: center; vertical-align: top\">1</td>\n",
       "    </tr>\n",
       "    <tr>\n",
       "        <td style=\"padding-left: 1em; padding-right: 1em; text-align: center; vertical-align: top\">Burger King Mongolia</td>\n",
       "        <td style=\"padding-left: 1em; padding-right: 1em; text-align: center; vertical-align: top\">Burer king-d huuhduud<br>maani durtai ger buleere ...</td>\n",
       "        <td style=\"padding-left: 1em; padding-right: 1em; text-align: center; vertical-align: top\">5</td>\n",
       "        <td style=\"padding-left: 1em; padding-right: 1em; text-align: center; vertical-align: top\">{'ch': 1, 'tsew': 1,<br>'deer': 1, 'ghiin': 1, ...</td>\n",
       "        <td style=\"padding-left: 1em; padding-right: 1em; text-align: center; vertical-align: top\">1</td>\n",
       "    </tr>\n",
       "    <tr>\n",
       "        <td style=\"padding-left: 1em; padding-right: 1em; text-align: center; vertical-align: top\">Food park shangrila mall</td>\n",
       "        <td style=\"padding-left: 1em; padding-right: 1em; text-align: center; vertical-align: top\">Endii pizza-g udur bolgn<br>ideed ch uidkumaa�. ...</td>\n",
       "        <td style=\"padding-left: 1em; padding-right: 1em; text-align: center; vertical-align: top\">5</td>\n",
       "        <td style=\"padding-left: 1em; padding-right: 1em; text-align: center; vertical-align: top\">{'hamt': 1, 'ch': 1,<br>'pizza-g': 1, 'ideed' ...</td>\n",
       "        <td style=\"padding-left: 1em; padding-right: 1em; text-align: center; vertical-align: top\">1</td>\n",
       "    </tr>\n",
       "    <tr>\n",
       "        <td style=\"padding-left: 1em; padding-right: 1em; text-align: center; vertical-align: top\">Horned Owl Food Symphony</td>\n",
       "        <td style=\"padding-left: 1em; padding-right: 1em; text-align: center; vertical-align: top\">Saikhan hooltoi<br>uulchulgee sain bsan, ...</td>\n",
       "        <td style=\"padding-left: 1em; padding-right: 1em; text-align: center; vertical-align: top\">5</td>\n",
       "        <td style=\"padding-left: 1em; padding-right: 1em; text-align: center; vertical-align: top\">{'sain': 1, 'taalagdsan':<br>1, 'bsan,': 1, 'saikh ...</td>\n",
       "        <td style=\"padding-left: 1em; padding-right: 1em; text-align: center; vertical-align: top\">1</td>\n",
       "    </tr>\n",
       "</table>\n",
       "[10 rows x 5 columns]<br/>\n",
       "</div>"
      ],
      "text/plain": [
       "Columns:\n",
       "\tname\tstr\n",
       "\treview\tstr\n",
       "\trating\tint\n",
       "\tword_count\tdict\n",
       "\tsentiment\tint\n",
       "\n",
       "Rows: 10\n",
       "\n",
       "Data:\n",
       "+-------------------------------+-------------------------------+--------+\n",
       "|              name             |             review            | rating |\n",
       "+-------------------------------+-------------------------------+--------+\n",
       "|          Oishii Ramen         | Mash amttai, ports saitai ... |   5    |\n",
       "|          Oishii Ramen         | Ih saihan tuhalag orchin b... |   5    |\n",
       "|      BBQ chicken Mongolia     | Guurnii door bdag salbarii... |   5    |\n",
       "|      BBQ chicken Mongolia     | Chicken dukbab bol nice2 j... |   5    |\n",
       "|      BBQ chicken Mongolia     | bbg hamt olond ajiln amjil... |   5    |\n",
       "| Bojangles Grill Restaurant... |            goe yum            |   5    |\n",
       "|          KFC mongolia         | goe amtai bas tanaid ajild... |   5    |\n",
       "|      Burger King Mongolia     | Burer king-d huuhduud maan... |   5    |\n",
       "|    Food park shangrila mall   | Endii pizza-g udur bolgn i... |   5    |\n",
       "|    Horned Owl Food Symphony   | Saikhan hooltoi uulchulgee... |   5    |\n",
       "+-------------------------------+-------------------------------+--------+\n",
       "+-------------------------------+-----------+\n",
       "|           word_count          | sentiment |\n",
       "+-------------------------------+-----------+\n",
       "| {'zoriulsan': 1, 'gol': 1,... |     1     |\n",
       "| {'ih': 1, 'mgld': 1, 'bas'... |     1     |\n",
       "| {'door': 1, 'taalagdlaa': ... |     1     |\n",
       "| {'daa': 1, 'nice2': 1, 'du... |     1     |\n",
       "| {'hamt': 1, 'ajiln': 1, 'b... |     1     |\n",
       "|      {'goe': 1, 'yum': 1}     |     1     |\n",
       "| {'bas': 1, 'tanaid': 1, 'g... |     1     |\n",
       "| {'ch': 1, 'tsew': 1, 'deer... |     1     |\n",
       "| {'hamt': 1, 'ch': 1, 'pizz... |     1     |\n",
       "| {'sain': 1, 'taalagdsan': ... |     1     |\n",
       "+-------------------------------+-----------+\n",
       "[10 rows x 5 columns]"
      ]
     },
     "execution_count": 17,
     "metadata": {},
     "output_type": "execute_result"
    }
   ],
   "source": [
    "businesses[businesses['rating'] == 5].head()"
   ]
  },
  {
   "cell_type": "markdown",
   "metadata": {},
   "source": [
    "# Train the sentiment classifier"
   ]
  },
  {
   "cell_type": "code",
   "execution_count": 18,
   "metadata": {
    "collapsed": true
   },
   "outputs": [],
   "source": [
    "train_data, test_data = businesses.random_split(.8, seed=0)"
   ]
  },
  {
   "cell_type": "code",
   "execution_count": 19,
   "metadata": {},
   "outputs": [
    {
     "data": {
      "text/html": [
       "<div style=\"max-height:1000px;max-width:1500px;overflow:auto;\"><table frame=\"box\" rules=\"cols\">\n",
       "    <tr>\n",
       "        <th style=\"padding-left: 1em; padding-right: 1em; text-align: center\">name</th>\n",
       "        <th style=\"padding-left: 1em; padding-right: 1em; text-align: center\">review</th>\n",
       "        <th style=\"padding-left: 1em; padding-right: 1em; text-align: center\">rating</th>\n",
       "        <th style=\"padding-left: 1em; padding-right: 1em; text-align: center\">word_count</th>\n",
       "        <th style=\"padding-left: 1em; padding-right: 1em; text-align: center\">sentiment</th>\n",
       "    </tr>\n",
       "    <tr>\n",
       "        <td style=\"padding-left: 1em; padding-right: 1em; text-align: center; vertical-align: top\">Thai Express</td>\n",
       "        <td style=\"padding-left: 1em; padding-right: 1em; text-align: center; vertical-align: top\">Agaarjuulagch, AC bgui<br>mash bugchim. Hool ih ...</td>\n",
       "        <td style=\"padding-left: 1em; padding-right: 1em; text-align: center; vertical-align: top\">1</td>\n",
       "        <td style=\"padding-left: 1em; padding-right: 1em; text-align: center; vertical-align: top\">{'ni': 1, 'ih': 1,<br>'agaarjuulagch,': 1, ...</td>\n",
       "        <td style=\"padding-left: 1em; padding-right: 1em; text-align: center; vertical-align: top\">0</td>\n",
       "    </tr>\n",
       "    <tr>\n",
       "        <td style=\"padding-left: 1em; padding-right: 1em; text-align: center; vertical-align: top\">Thai Express</td>\n",
       "        <td style=\"padding-left: 1em; padding-right: 1em; text-align: center; vertical-align: top\">Ymar ch uilchilgeenii<br>soyl bhgui oronguut ...</td>\n",
       "        <td style=\"padding-left: 1em; padding-right: 1em; text-align: center; vertical-align: top\">1</td>\n",
       "        <td style=\"padding-left: 1em; padding-right: 1em; text-align: center; vertical-align: top\">{'ch': 1, 'yvtsgu': 1,<br>'uneheer': 1, 'sandal': ...</td>\n",
       "        <td style=\"padding-left: 1em; padding-right: 1em; text-align: center; vertical-align: top\">0</td>\n",
       "    </tr>\n",
       "    <tr>\n",
       "        <td style=\"padding-left: 1em; padding-right: 1em; text-align: center; vertical-align: top\">Thai Express</td>\n",
       "        <td style=\"padding-left: 1em; padding-right: 1em; text-align: center; vertical-align: top\">Curry ni curry bish blaa.<br>Poorts mash myy. Dahij ...</td>\n",
       "        <td style=\"padding-left: 1em; padding-right: 1em; text-align: center; vertical-align: top\">2</td>\n",
       "        <td style=\"padding-left: 1em; padding-right: 1em; text-align: center; vertical-align: top\">{'ni': 1, 'orohgvee.': 1,<br>'myy.': 1, 'mash': 1, ...</td>\n",
       "        <td style=\"padding-left: 1em; padding-right: 1em; text-align: center; vertical-align: top\">0</td>\n",
       "    </tr>\n",
       "    <tr>\n",
       "        <td style=\"padding-left: 1em; padding-right: 1em; text-align: center; vertical-align: top\">Oishii Ramen</td>\n",
       "        <td style=\"padding-left: 1em; padding-right: 1em; text-align: center; vertical-align: top\">Mash amttai, ports saitai<br>bas hamgiin gol n busad ...</td>\n",
       "        <td style=\"padding-left: 1em; padding-right: 1em; text-align: center; vertical-align: top\">5</td>\n",
       "        <td style=\"padding-left: 1em; padding-right: 1em; text-align: center; vertical-align: top\">{'zoriulsan': 1, 'gol':<br>1, 'saitai': 1, 'bas' ...</td>\n",
       "        <td style=\"padding-left: 1em; padding-right: 1em; text-align: center; vertical-align: top\">1</td>\n",
       "    </tr>\n",
       "    <tr>\n",
       "        <td style=\"padding-left: 1em; padding-right: 1em; text-align: center; vertical-align: top\">Oishii Ramen</td>\n",
       "        <td style=\"padding-left: 1em; padding-right: 1em; text-align: center; vertical-align: top\">Curry bol mash myy bn.<br>Shul shig shingen, bitvv ...</td>\n",
       "        <td style=\"padding-left: 1em; padding-right: 1em; text-align: center; vertical-align: top\">2</td>\n",
       "        <td style=\"padding-left: 1em; padding-right: 1em; text-align: center; vertical-align: top\">{'myy': 1, 'ch': 1,<br>'bitvv': 1, 'hezee': 1, ...</td>\n",
       "        <td style=\"padding-left: 1em; padding-right: 1em; text-align: center; vertical-align: top\">0</td>\n",
       "    </tr>\n",
       "    <tr>\n",
       "        <td style=\"padding-left: 1em; padding-right: 1em; text-align: center; vertical-align: top\">Oishii Ramen</td>\n",
       "        <td style=\"padding-left: 1em; padding-right: 1em; text-align: center; vertical-align: top\">Ih saihan tuhalag orchin<br>bas hool uneheer goy ...</td>\n",
       "        <td style=\"padding-left: 1em; padding-right: 1em; text-align: center; vertical-align: top\">5</td>\n",
       "        <td style=\"padding-left: 1em; padding-right: 1em; text-align: center; vertical-align: top\">{'ih': 1, 'mgld': 1,<br>'bas': 1, 'idej': 1, ...</td>\n",
       "        <td style=\"padding-left: 1em; padding-right: 1em; text-align: center; vertical-align: top\">1</td>\n",
       "    </tr>\n",
       "    <tr>\n",
       "        <td style=\"padding-left: 1em; padding-right: 1em; text-align: center; vertical-align: top\">Oishii Ramen</td>\n",
       "        <td style=\"padding-left: 1em; padding-right: 1em; text-align: center; vertical-align: top\">jinhene Japan rameng<br>bodwol arai ondoo ch ...</td>\n",
       "        <td style=\"padding-left: 1em; padding-right: 1em; text-align: center; vertical-align: top\">4</td>\n",
       "        <td style=\"padding-left: 1em; padding-right: 1em; text-align: center; vertical-align: top\">{'hyamdarch': 1, 'blee':<br>1, 'arai': 1, 'ch': 1, ...</td>\n",
       "        <td style=\"padding-left: 1em; padding-right: 1em; text-align: center; vertical-align: top\">1</td>\n",
       "    </tr>\n",
       "    <tr>\n",
       "        <td style=\"padding-left: 1em; padding-right: 1em; text-align: center; vertical-align: top\">BBQ chicken Mongolia</td>\n",
       "        <td style=\"padding-left: 1em; padding-right: 1em; text-align: center; vertical-align: top\">Horoollin salbartaa<br>anhaarlaa handulaacee ...</td>\n",
       "        <td style=\"padding-left: 1em; padding-right: 1em; text-align: center; vertical-align: top\">1</td>\n",
       "        <td style=\"padding-left: 1em; padding-right: 1em; text-align: center; vertical-align: top\">{'bvr': 1, 'hutgaa': 1,<br>'halbaga': 1, 'tawga' ...</td>\n",
       "        <td style=\"padding-left: 1em; padding-right: 1em; text-align: center; vertical-align: top\">0</td>\n",
       "    </tr>\n",
       "    <tr>\n",
       "        <td style=\"padding-left: 1em; padding-right: 1em; text-align: center; vertical-align: top\">BBQ chicken Mongolia</td>\n",
       "        <td style=\"padding-left: 1em; padding-right: 1em; text-align: center; vertical-align: top\">Hogiin gazar. Zahialga<br>ugii geheer dandaa uur ...</td>\n",
       "        <td style=\"padding-left: 1em; padding-right: 1em; text-align: center; vertical-align: top\">1</td>\n",
       "        <td style=\"padding-left: 1em; padding-right: 1em; text-align: center; vertical-align: top\">{'oirhon': 1, 'guihimu':<br>1, 'ued': 1, 'manaih' ...</td>\n",
       "        <td style=\"padding-left: 1em; padding-right: 1em; text-align: center; vertical-align: top\">0</td>\n",
       "    </tr>\n",
       "    <tr>\n",
       "        <td style=\"padding-left: 1em; padding-right: 1em; text-align: center; vertical-align: top\">BBQ chicken Mongolia</td>\n",
       "        <td style=\"padding-left: 1em; padding-right: 1em; text-align: center; vertical-align: top\">Tahian shardag tosoo ern<br>solidiimu tanaih. Arai l ...</td>\n",
       "        <td style=\"padding-left: 1em; padding-right: 1em; text-align: center; vertical-align: top\">1</td>\n",
       "        <td style=\"padding-left: 1em; padding-right: 1em; text-align: center; vertical-align: top\">{'dahij': 1, 'heterhii':<br>1, 'zahialaltgui': 1, ...</td>\n",
       "        <td style=\"padding-left: 1em; padding-right: 1em; text-align: center; vertical-align: top\">0</td>\n",
       "    </tr>\n",
       "</table>\n",
       "[10 rows x 5 columns]<br/>\n",
       "</div>"
      ],
      "text/plain": [
       "Columns:\n",
       "\tname\tstr\n",
       "\treview\tstr\n",
       "\trating\tint\n",
       "\tword_count\tdict\n",
       "\tsentiment\tint\n",
       "\n",
       "Rows: 10\n",
       "\n",
       "Data:\n",
       "+----------------------+-------------------------------+--------+\n",
       "|         name         |             review            | rating |\n",
       "+----------------------+-------------------------------+--------+\n",
       "|     Thai Express     | Agaarjuulagch, AC bgui mas... |   1    |\n",
       "|     Thai Express     | Ymar ch uilchilgeenii soyl... |   1    |\n",
       "|     Thai Express     | Curry ni curry bish blaa. ... |   2    |\n",
       "|     Oishii Ramen     | Mash amttai, ports saitai ... |   5    |\n",
       "|     Oishii Ramen     | Curry bol mash myy bn. Shu... |   2    |\n",
       "|     Oishii Ramen     | Ih saihan tuhalag orchin b... |   5    |\n",
       "|     Oishii Ramen     | jinhene Japan rameng bodwo... |   4    |\n",
       "| BBQ chicken Mongolia | Horoollin salbartaa anhaar... |   1    |\n",
       "| BBQ chicken Mongolia | Hogiin gazar. Zahialga ugi... |   1    |\n",
       "| BBQ chicken Mongolia | Tahian shardag tosoo ern s... |   1    |\n",
       "+----------------------+-------------------------------+--------+\n",
       "+-------------------------------+-----------+\n",
       "|           word_count          | sentiment |\n",
       "+-------------------------------+-----------+\n",
       "| {'ni': 1, 'ih': 1, 'agaarj... |     0     |\n",
       "| {'ch': 1, 'yvtsgu': 1, 'un... |     0     |\n",
       "| {'ni': 1, 'orohgvee.': 1, ... |     0     |\n",
       "| {'zoriulsan': 1, 'gol': 1,... |     1     |\n",
       "| {'myy': 1, 'ch': 1, 'bitvv... |     0     |\n",
       "| {'ih': 1, 'mgld': 1, 'bas'... |     1     |\n",
       "| {'hyamdarch': 1, 'blee': 1... |     1     |\n",
       "| {'bvr': 1, 'hutgaa': 1, 'h... |     0     |\n",
       "| {'oirhon': 1, 'guihimu': 1... |     0     |\n",
       "| {'dahij': 1, 'heterhii': 1... |     0     |\n",
       "+-------------------------------+-----------+\n",
       "[10 rows x 5 columns]"
      ]
     },
     "execution_count": 19,
     "metadata": {},
     "output_type": "execute_result"
    }
   ],
   "source": [
    "# check train data \n",
    "train_data.head()"
   ]
  },
  {
   "cell_type": "code",
   "execution_count": 20,
   "metadata": {},
   "outputs": [
    {
     "data": {
      "text/html": [
       "<div style=\"max-height:1000px;max-width:1500px;overflow:auto;\"><table frame=\"box\" rules=\"cols\">\n",
       "    <tr>\n",
       "        <th style=\"padding-left: 1em; padding-right: 1em; text-align: center\">name</th>\n",
       "        <th style=\"padding-left: 1em; padding-right: 1em; text-align: center\">review</th>\n",
       "        <th style=\"padding-left: 1em; padding-right: 1em; text-align: center\">rating</th>\n",
       "        <th style=\"padding-left: 1em; padding-right: 1em; text-align: center\">word_count</th>\n",
       "        <th style=\"padding-left: 1em; padding-right: 1em; text-align: center\">sentiment</th>\n",
       "    </tr>\n",
       "    <tr>\n",
       "        <td style=\"padding-left: 1em; padding-right: 1em; text-align: center; vertical-align: top\">BBQ chicken Mongolia</td>\n",
       "        <td style=\"padding-left: 1em; padding-right: 1em; text-align: center; vertical-align: top\">Guurnii door bdag<br>salbariin uilchilgee ...</td>\n",
       "        <td style=\"padding-left: 1em; padding-right: 1em; text-align: center; vertical-align: top\">5</td>\n",
       "        <td style=\"padding-left: 1em; padding-right: 1em; text-align: center; vertical-align: top\">{'door': 1, 'taalagdlaa':<br>1, 'salbariin': 1, ...</td>\n",
       "        <td style=\"padding-left: 1em; padding-right: 1em; text-align: center; vertical-align: top\">1</td>\n",
       "    </tr>\n",
       "    <tr>\n",
       "        <td style=\"padding-left: 1em; padding-right: 1em; text-align: center; vertical-align: top\">Bojangles Grill<br>Restaurant &amp; Bar ...</td>\n",
       "        <td style=\"padding-left: 1em; padding-right: 1em; text-align: center; vertical-align: top\">goe yum</td>\n",
       "        <td style=\"padding-left: 1em; padding-right: 1em; text-align: center; vertical-align: top\">5</td>\n",
       "        <td style=\"padding-left: 1em; padding-right: 1em; text-align: center; vertical-align: top\">{'goe': 1, 'yum': 1}</td>\n",
       "        <td style=\"padding-left: 1em; padding-right: 1em; text-align: center; vertical-align: top\">1</td>\n",
       "    </tr>\n",
       "    <tr>\n",
       "        <td style=\"padding-left: 1em; padding-right: 1em; text-align: center; vertical-align: top\">Burger King Mongolia</td>\n",
       "        <td style=\"padding-left: 1em; padding-right: 1em; text-align: center; vertical-align: top\">Burer king-d huuhduud<br>maani durtai ger buleere ...</td>\n",
       "        <td style=\"padding-left: 1em; padding-right: 1em; text-align: center; vertical-align: top\">5</td>\n",
       "        <td style=\"padding-left: 1em; padding-right: 1em; text-align: center; vertical-align: top\">{'ch': 1, 'tsew': 1,<br>'deer': 1, 'ghiin': 1, ...</td>\n",
       "        <td style=\"padding-left: 1em; padding-right: 1em; text-align: center; vertical-align: top\">1</td>\n",
       "    </tr>\n",
       "    <tr>\n",
       "        <td style=\"padding-left: 1em; padding-right: 1em; text-align: center; vertical-align: top\">Burger King Mongolia</td>\n",
       "        <td style=\"padding-left: 1em; padding-right: 1em; text-align: center; vertical-align: top\">burgernii chin baitsaa<br>bol arai shuu. hool ...</td>\n",
       "        <td style=\"padding-left: 1em; padding-right: 1em; text-align: center; vertical-align: top\">1</td>\n",
       "        <td style=\"padding-left: 1em; padding-right: 1em; text-align: center; vertical-align: top\">{'ve': 1, 'ideed': 1,<br>'baitsaa': 3, 'chin': 1, ...</td>\n",
       "        <td style=\"padding-left: 1em; padding-right: 1em; text-align: center; vertical-align: top\">0</td>\n",
       "    </tr>\n",
       "    <tr>\n",
       "        <td style=\"padding-left: 1em; padding-right: 1em; text-align: center; vertical-align: top\">Burger King Mongolia</td>\n",
       "        <td style=\"padding-left: 1em; padding-right: 1em; text-align: center; vertical-align: top\">Bi l lav dahij Burger<br>King orohgui, Amt ntr ...</td>\n",
       "        <td style=\"padding-left: 1em; padding-right: 1em; text-align: center; vertical-align: top\">1</td>\n",
       "        <td style=\"padding-left: 1em; padding-right: 1em; text-align: center; vertical-align: top\">{'bagts': 1, 'burger': 1,<br>'aimshigtai': 1, ...</td>\n",
       "        <td style=\"padding-left: 1em; padding-right: 1em; text-align: center; vertical-align: top\">0</td>\n",
       "    </tr>\n",
       "    <tr>\n",
       "        <td style=\"padding-left: 1em; padding-right: 1em; text-align: center; vertical-align: top\">Food park shangrila mall</td>\n",
       "        <td style=\"padding-left: 1em; padding-right: 1em; text-align: center; vertical-align: top\">Endii pizza-g udur bolgn<br>ideed ch uidkumaa�. ...</td>\n",
       "        <td style=\"padding-left: 1em; padding-right: 1em; text-align: center; vertical-align: top\">5</td>\n",
       "        <td style=\"padding-left: 1em; padding-right: 1em; text-align: center; vertical-align: top\">{'hamt': 1, 'ch': 1,<br>'pizza-g': 1, 'ideed' ...</td>\n",
       "        <td style=\"padding-left: 1em; padding-right: 1em; text-align: center; vertical-align: top\">1</td>\n",
       "    </tr>\n",
       "    <tr>\n",
       "        <td style=\"padding-left: 1em; padding-right: 1em; text-align: center; vertical-align: top\">Horned Owl Food Symphony</td>\n",
       "        <td style=\"padding-left: 1em; padding-right: 1em; text-align: center; vertical-align: top\">Goy zuragnuud haraad<br>nzuudiigaa urialaad ...</td>\n",
       "        <td style=\"padding-left: 1em; padding-right: 1em; text-align: center; vertical-align: top\">2</td>\n",
       "        <td style=\"padding-left: 1em; padding-right: 1em; text-align: center; vertical-align: top\">{'butsaad': 1, 'garah':<br>1, 'hoolnii': 1, 'ih' ...</td>\n",
       "        <td style=\"padding-left: 1em; padding-right: 1em; text-align: center; vertical-align: top\">0</td>\n",
       "    </tr>\n",
       "</table>\n",
       "[7 rows x 5 columns]<br/>\n",
       "</div>"
      ],
      "text/plain": [
       "Columns:\n",
       "\tname\tstr\n",
       "\treview\tstr\n",
       "\trating\tint\n",
       "\tword_count\tdict\n",
       "\tsentiment\tint\n",
       "\n",
       "Rows: 7\n",
       "\n",
       "Data:\n",
       "+-------------------------------+-------------------------------+--------+\n",
       "|              name             |             review            | rating |\n",
       "+-------------------------------+-------------------------------+--------+\n",
       "|      BBQ chicken Mongolia     | Guurnii door bdag salbarii... |   5    |\n",
       "| Bojangles Grill Restaurant... |            goe yum            |   5    |\n",
       "|      Burger King Mongolia     | Burer king-d huuhduud maan... |   5    |\n",
       "|      Burger King Mongolia     | burgernii chin baitsaa bol... |   1    |\n",
       "|      Burger King Mongolia     | Bi l lav dahij Burger King... |   1    |\n",
       "|    Food park shangrila mall   | Endii pizza-g udur bolgn i... |   5    |\n",
       "|    Horned Owl Food Symphony   | Goy zuragnuud haraad nzuud... |   2    |\n",
       "+-------------------------------+-------------------------------+--------+\n",
       "+-------------------------------+-----------+\n",
       "|           word_count          | sentiment |\n",
       "+-------------------------------+-----------+\n",
       "| {'door': 1, 'taalagdlaa': ... |     1     |\n",
       "|      {'goe': 1, 'yum': 1}     |     1     |\n",
       "| {'ch': 1, 'tsew': 1, 'deer... |     1     |\n",
       "| {'ve': 1, 'ideed': 1, 'bai... |     0     |\n",
       "| {'bagts': 1, 'burger': 1, ... |     0     |\n",
       "| {'hamt': 1, 'ch': 1, 'pizz... |     1     |\n",
       "| {'butsaad': 1, 'garah': 1,... |     0     |\n",
       "+-------------------------------+-----------+\n",
       "[7 rows x 5 columns]"
      ]
     },
     "execution_count": 20,
     "metadata": {},
     "output_type": "execute_result"
    }
   ],
   "source": [
    "# check test data \n",
    "test_data.head()"
   ]
  },
  {
   "cell_type": "code",
   "execution_count": null,
   "metadata": {
    "collapsed": true
   },
   "outputs": [],
   "source": []
  },
  {
   "cell_type": "code",
   "execution_count": 21,
   "metadata": {},
   "outputs": [
    {
     "data": {
      "text/html": [
       "<pre>WARNING: The number of feature dimensions in this problem is very large in comparison with the number of examples. Unless an appropriate regularization value is set, this model may not provide accurate predictions for a validation/test set.</pre>"
      ],
      "text/plain": [
       "WARNING: The number of feature dimensions in this problem is very large in comparison with the number of examples. Unless an appropriate regularization value is set, this model may not provide accurate predictions for a validation/test set."
      ]
     },
     "metadata": {},
     "output_type": "display_data"
    },
    {
     "data": {
      "text/html": [
       "<pre>Logistic regression:</pre>"
      ],
      "text/plain": [
       "Logistic regression:"
      ]
     },
     "metadata": {},
     "output_type": "display_data"
    },
    {
     "data": {
      "text/html": [
       "<pre>--------------------------------------------------------</pre>"
      ],
      "text/plain": [
       "--------------------------------------------------------"
      ]
     },
     "metadata": {},
     "output_type": "display_data"
    },
    {
     "data": {
      "text/html": [
       "<pre>Number of examples          : 41</pre>"
      ],
      "text/plain": [
       "Number of examples          : 41"
      ]
     },
     "metadata": {},
     "output_type": "display_data"
    },
    {
     "data": {
      "text/html": [
       "<pre>Number of classes           : 2</pre>"
      ],
      "text/plain": [
       "Number of classes           : 2"
      ]
     },
     "metadata": {},
     "output_type": "display_data"
    },
    {
     "data": {
      "text/html": [
       "<pre>Number of feature columns   : 1</pre>"
      ],
      "text/plain": [
       "Number of feature columns   : 1"
      ]
     },
     "metadata": {},
     "output_type": "display_data"
    },
    {
     "data": {
      "text/html": [
       "<pre>Number of unpacked features : 742</pre>"
      ],
      "text/plain": [
       "Number of unpacked features : 742"
      ]
     },
     "metadata": {},
     "output_type": "display_data"
    },
    {
     "data": {
      "text/html": [
       "<pre>Number of coefficients    : 743</pre>"
      ],
      "text/plain": [
       "Number of coefficients    : 743"
      ]
     },
     "metadata": {},
     "output_type": "display_data"
    },
    {
     "data": {
      "text/html": [
       "<pre>Starting L-BFGS</pre>"
      ],
      "text/plain": [
       "Starting L-BFGS"
      ]
     },
     "metadata": {},
     "output_type": "display_data"
    },
    {
     "data": {
      "text/html": [
       "<pre>--------------------------------------------------------</pre>"
      ],
      "text/plain": [
       "--------------------------------------------------------"
      ]
     },
     "metadata": {},
     "output_type": "display_data"
    },
    {
     "data": {
      "text/html": [
       "<pre>+-----------+----------+-----------+--------------+-------------------+---------------------+</pre>"
      ],
      "text/plain": [
       "+-----------+----------+-----------+--------------+-------------------+---------------------+"
      ]
     },
     "metadata": {},
     "output_type": "display_data"
    },
    {
     "data": {
      "text/html": [
       "<pre>| Iteration | Passes   | Step size | Elapsed Time | Training-accuracy | Validation-accuracy |</pre>"
      ],
      "text/plain": [
       "| Iteration | Passes   | Step size | Elapsed Time | Training-accuracy | Validation-accuracy |"
      ]
     },
     "metadata": {},
     "output_type": "display_data"
    },
    {
     "data": {
      "text/html": [
       "<pre>+-----------+----------+-----------+--------------+-------------------+---------------------+</pre>"
      ],
      "text/plain": [
       "+-----------+----------+-----------+--------------+-------------------+---------------------+"
      ]
     },
     "metadata": {},
     "output_type": "display_data"
    },
    {
     "data": {
      "text/html": [
       "<pre>| 1         | 3        | 0.024390  | 1.005651     | 1.000000          | 0.571429            |</pre>"
      ],
      "text/plain": [
       "| 1         | 3        | 0.024390  | 1.005651     | 1.000000          | 0.571429            |"
      ]
     },
     "metadata": {},
     "output_type": "display_data"
    },
    {
     "data": {
      "text/html": [
       "<pre>| 2         | 5        | 1.000000  | 1.013692     | 1.000000          | 0.571429            |</pre>"
      ],
      "text/plain": [
       "| 2         | 5        | 1.000000  | 1.013692     | 1.000000          | 0.571429            |"
      ]
     },
     "metadata": {},
     "output_type": "display_data"
    },
    {
     "data": {
      "text/html": [
       "<pre>| 3         | 6        | 1.000000  | 1.018958     | 1.000000          | 0.571429            |</pre>"
      ],
      "text/plain": [
       "| 3         | 6        | 1.000000  | 1.018958     | 1.000000          | 0.571429            |"
      ]
     },
     "metadata": {},
     "output_type": "display_data"
    },
    {
     "data": {
      "text/html": [
       "<pre>| 4         | 7        | 1.000000  | 1.024473     | 1.000000          | 0.571429            |</pre>"
      ],
      "text/plain": [
       "| 4         | 7        | 1.000000  | 1.024473     | 1.000000          | 0.571429            |"
      ]
     },
     "metadata": {},
     "output_type": "display_data"
    },
    {
     "data": {
      "text/html": [
       "<pre>| 5         | 8        | 1.000000  | 1.030008     | 1.000000          | 0.571429            |</pre>"
      ],
      "text/plain": [
       "| 5         | 8        | 1.000000  | 1.030008     | 1.000000          | 0.571429            |"
      ]
     },
     "metadata": {},
     "output_type": "display_data"
    },
    {
     "data": {
      "text/html": [
       "<pre>| 6         | 9        | 1.000000  | 1.035516     | 1.000000          | 0.571429            |</pre>"
      ],
      "text/plain": [
       "| 6         | 9        | 1.000000  | 1.035516     | 1.000000          | 0.571429            |"
      ]
     },
     "metadata": {},
     "output_type": "display_data"
    },
    {
     "data": {
      "text/html": [
       "<pre>+-----------+----------+-----------+--------------+-------------------+---------------------+</pre>"
      ],
      "text/plain": [
       "+-----------+----------+-----------+--------------+-------------------+---------------------+"
      ]
     },
     "metadata": {},
     "output_type": "display_data"
    },
    {
     "data": {
      "text/html": [
       "<pre>SUCCESS: Optimal solution found.</pre>"
      ],
      "text/plain": [
       "SUCCESS: Optimal solution found."
      ]
     },
     "metadata": {},
     "output_type": "display_data"
    },
    {
     "data": {
      "text/html": [
       "<pre></pre>"
      ],
      "text/plain": []
     },
     "metadata": {},
     "output_type": "display_data"
    }
   ],
   "source": [
    "# logistic classifier is for binary values such as negative, positive, hotdog, not hotdog etc... \n",
    "\n",
    "sentiment_model = graphlab.logistic_classifier.create(train_data, \n",
    "                                                     target='sentiment',\n",
    "                                                     features=['word_count'],\n",
    "                                                     validation_set=test_data)"
   ]
  },
  {
   "cell_type": "markdown",
   "metadata": {},
   "source": [
    "# Now let's evaluate the trained model "
   ]
  },
  {
   "cell_type": "code",
   "execution_count": 22,
   "metadata": {},
   "outputs": [
    {
     "data": {
      "text/plain": [
       "{'roc_curve': Columns:\n",
       " \tthreshold\tfloat\n",
       " \tfpr\tfloat\n",
       " \ttpr\tfloat\n",
       " \tp\tint\n",
       " \tn\tint\n",
       " \n",
       " Rows: 100001\n",
       " \n",
       " Data:\n",
       " +-----------+-----+-----+---+---+\n",
       " | threshold | fpr | tpr | p | n |\n",
       " +-----------+-----+-----+---+---+\n",
       " |    0.0    | 1.0 | 1.0 | 4 | 3 |\n",
       " |   1e-05   | 1.0 | 1.0 | 4 | 3 |\n",
       " |   2e-05   | 1.0 | 1.0 | 4 | 3 |\n",
       " |   3e-05   | 1.0 | 1.0 | 4 | 3 |\n",
       " |   4e-05   | 1.0 | 1.0 | 4 | 3 |\n",
       " |   5e-05   | 1.0 | 1.0 | 4 | 3 |\n",
       " |   6e-05   | 1.0 | 1.0 | 4 | 3 |\n",
       " |   7e-05   | 1.0 | 1.0 | 4 | 3 |\n",
       " |   8e-05   | 1.0 | 1.0 | 4 | 3 |\n",
       " |   9e-05   | 1.0 | 1.0 | 4 | 3 |\n",
       " +-----------+-----+-----+---+---+\n",
       " [100001 rows x 5 columns]\n",
       " Note: Only the head of the SFrame is printed.\n",
       " You can use print_rows(num_rows=m, num_columns=n) to print more rows and columns.}"
      ]
     },
     "execution_count": 22,
     "metadata": {},
     "output_type": "execute_result"
    }
   ],
   "source": [
    "# roc_curve metric is graphical plot for binary classifier\n",
    "\n",
    "sentiment_model.evaluate(test_data, metric='roc_curve')"
   ]
  },
  {
   "cell_type": "code",
   "execution_count": 23,
   "metadata": {},
   "outputs": [
    {
     "data": {
      "application/javascript": [
       "$(\"head\").append($(\"<link/>\").attr({\n",
       "  rel:  \"stylesheet\",\n",
       "  type: \"text/css\",\n",
       "  href: \"//cdnjs.cloudflare.com/ajax/libs/font-awesome/4.1.0/css/font-awesome.min.css\"\n",
       "}));\n",
       "$(\"head\").append($(\"<link/>\").attr({\n",
       "  rel:  \"stylesheet\",\n",
       "  type: \"text/css\",\n",
       "  href: \"https://static.turi.com/products/graphlab-create/2.1/canvas/css/canvas.css\"\n",
       "}));\n",
       "\n",
       "            (function(){\n",
       "\n",
       "                var e = null;\n",
       "                if (typeof element == 'undefined') {\n",
       "                    var scripts = document.getElementsByTagName('script');\n",
       "                    var thisScriptTag = scripts[scripts.length-1];\n",
       "                    var parentDiv = thisScriptTag.parentNode;\n",
       "                    e = document.createElement('div');\n",
       "                    parentDiv.appendChild(e);\n",
       "                } else {\n",
       "                    e = element[0];\n",
       "                }\n",
       "\n",
       "                if (typeof requirejs !== 'undefined') {\n",
       "                    // disable load timeout; ipython_app.js is large and can take a while to load.\n",
       "                    requirejs.config({waitSeconds: 0});\n",
       "                }\n",
       "\n",
       "                require(['https://static.turi.com/products/graphlab-create/2.1/canvas/js/ipython_app.js'], function(IPythonApp){\n",
       "                    var app = new IPythonApp();\n",
       "                    app.attachView('model','Evaluation', {\"comparison\": null, \"selected_variable\": {\"comparison\": null, \"name\": [\"sentiment_model\"], \"view_file\": \"model\", \"view_component\": \"Evaluation\", \"view_params\": {\"model_type\": \"regression\", \"view\": \"Evaluation\"}, \"view_components\": [\"Summary\", \"Evaluation\", \"Comparison\"], \"model_type\": \"regression\", \"attributes\": {\"section_titles\": [\"Schema\", \"Hyperparameters\", \"Training Summary\", \"Settings\", \"Highest Positive Coefficients\", \"Lowest Negative Coefficients\"], \"sections\": [[[\"Number of coefficients\", 743], [\"Number of examples\", 41], [\"Number of classes\", 2], [\"Number of feature columns\", 1], [\"Number of unpacked features\", 742]], [[\"L1 penalty\", 0.0], [\"L2 penalty\", 0.01]], [[\"Solver\", \"lbfgs\"], [\"Solver iterations\", 8], [\"Solver status\", \"SUCCESS: Optimal solution found.\"], [\"Training time (sec)\", 1.0503]], [[\"Log-likelihood\", 0.0127]], [[\"word_count[xuntei]\", 1.9047], [\"word_count[zasalttai]\", 1.9047], [\"word_count[uulchulgee]\", 1.0924], [\"word_count[bsan,]\", 1.0924], [\"word_count[sain]\", 1.0924]], [[\"word_count[yumoo]\", -1.2937], [\"word_count[uzsenguu]\", -1.2922], [\"word_count[amidraldaa]\", -1.2922], [\"word_count[za]\", -1.2922], [\"word_count[eeldee]\", -1.2922]]]}, \"evaluations\": [[\"test_data\", {\"roc_curve\": [{\"threshold\": 0.0, \"p\": 4, \"fpr\": 1.0, \"tpr\": 1.0, \"n\": 3}, {\"threshold\": 0.001, \"p\": 4, \"fpr\": 0.6666666666666666, \"tpr\": 1.0, \"n\": 3}, {\"threshold\": 0.002, \"p\": 4, \"fpr\": 0.6666666666666666, \"tpr\": 1.0, \"n\": 3}, {\"threshold\": 0.003, \"p\": 4, \"fpr\": 0.6666666666666666, \"tpr\": 1.0, \"n\": 3}, {\"threshold\": 0.004, \"p\": 4, \"fpr\": 0.6666666666666666, \"tpr\": 1.0, \"n\": 3}, {\"threshold\": 0.005, \"p\": 4, \"fpr\": 0.6666666666666666, \"tpr\": 1.0, \"n\": 3}, {\"threshold\": 0.006, \"p\": 4, \"fpr\": 0.6666666666666666, \"tpr\": 1.0, \"n\": 3}, {\"threshold\": 0.007, \"p\": 4, \"fpr\": 0.6666666666666666, \"tpr\": 1.0, \"n\": 3}, {\"threshold\": 0.008, \"p\": 4, \"fpr\": 0.6666666666666666, \"tpr\": 1.0, \"n\": 3}, {\"threshold\": 0.009, \"p\": 4, \"fpr\": 0.6666666666666666, \"tpr\": 1.0, \"n\": 3}, {\"threshold\": 0.01, \"p\": 4, \"fpr\": 0.6666666666666666, \"tpr\": 1.0, \"n\": 3}, {\"threshold\": 0.011, \"p\": 4, \"fpr\": 0.6666666666666666, \"tpr\": 1.0, \"n\": 3}, {\"threshold\": 0.012, \"p\": 4, \"fpr\": 0.6666666666666666, \"tpr\": 1.0, \"n\": 3}, {\"threshold\": 0.013, \"p\": 4, \"fpr\": 0.6666666666666666, \"tpr\": 1.0, \"n\": 3}, {\"threshold\": 0.014, \"p\": 4, \"fpr\": 0.6666666666666666, \"tpr\": 1.0, \"n\": 3}, {\"threshold\": 0.015, \"p\": 4, \"fpr\": 0.6666666666666666, \"tpr\": 1.0, \"n\": 3}, {\"threshold\": 0.016, \"p\": 4, \"fpr\": 0.6666666666666666, \"tpr\": 1.0, \"n\": 3}, {\"threshold\": 0.017, \"p\": 4, \"fpr\": 0.6666666666666666, \"tpr\": 1.0, \"n\": 3}, {\"threshold\": 0.018, \"p\": 4, \"fpr\": 0.6666666666666666, \"tpr\": 1.0, \"n\": 3}, {\"threshold\": 0.019, \"p\": 4, \"fpr\": 0.6666666666666666, \"tpr\": 1.0, \"n\": 3}, {\"threshold\": 0.02, \"p\": 4, \"fpr\": 0.6666666666666666, \"tpr\": 1.0, \"n\": 3}, {\"threshold\": 0.021, \"p\": 4, \"fpr\": 0.6666666666666666, \"tpr\": 1.0, \"n\": 3}, {\"threshold\": 0.022, \"p\": 4, \"fpr\": 0.6666666666666666, \"tpr\": 1.0, \"n\": 3}, {\"threshold\": 0.023, \"p\": 4, \"fpr\": 0.6666666666666666, \"tpr\": 1.0, \"n\": 3}, {\"threshold\": 0.024, \"p\": 4, \"fpr\": 0.6666666666666666, \"tpr\": 1.0, \"n\": 3}, {\"threshold\": 0.025, \"p\": 4, \"fpr\": 0.6666666666666666, \"tpr\": 1.0, \"n\": 3}, {\"threshold\": 0.026, \"p\": 4, \"fpr\": 0.6666666666666666, \"tpr\": 1.0, \"n\": 3}, {\"threshold\": 0.027, \"p\": 4, \"fpr\": 0.6666666666666666, \"tpr\": 1.0, \"n\": 3}, {\"threshold\": 0.028, \"p\": 4, \"fpr\": 0.3333333333333333, \"tpr\": 1.0, \"n\": 3}, {\"threshold\": 0.029, \"p\": 4, \"fpr\": 0.3333333333333333, \"tpr\": 1.0, \"n\": 3}, {\"threshold\": 0.03, \"p\": 4, \"fpr\": 0.3333333333333333, \"tpr\": 1.0, \"n\": 3}, {\"threshold\": 0.031, \"p\": 4, \"fpr\": 0.3333333333333333, \"tpr\": 1.0, \"n\": 3}, {\"threshold\": 0.032, \"p\": 4, \"fpr\": 0.3333333333333333, \"tpr\": 1.0, \"n\": 3}, {\"threshold\": 0.033, \"p\": 4, \"fpr\": 0.3333333333333333, \"tpr\": 1.0, \"n\": 3}, {\"threshold\": 0.034, \"p\": 4, \"fpr\": 0.3333333333333333, \"tpr\": 1.0, \"n\": 3}, {\"threshold\": 0.035, \"p\": 4, \"fpr\": 0.3333333333333333, \"tpr\": 1.0, \"n\": 3}, {\"threshold\": 0.036, \"p\": 4, \"fpr\": 0.3333333333333333, \"tpr\": 1.0, \"n\": 3}, {\"threshold\": 0.037, \"p\": 4, \"fpr\": 0.3333333333333333, \"tpr\": 1.0, \"n\": 3}, {\"threshold\": 0.038, \"p\": 4, \"fpr\": 0.3333333333333333, \"tpr\": 1.0, \"n\": 3}, {\"threshold\": 0.039, \"p\": 4, \"fpr\": 0.3333333333333333, \"tpr\": 1.0, \"n\": 3}, {\"threshold\": 0.04, \"p\": 4, \"fpr\": 0.3333333333333333, \"tpr\": 1.0, \"n\": 3}, {\"threshold\": 0.041, \"p\": 4, \"fpr\": 0.3333333333333333, \"tpr\": 1.0, \"n\": 3}, {\"threshold\": 0.042, \"p\": 4, \"fpr\": 0.3333333333333333, \"tpr\": 1.0, \"n\": 3}, {\"threshold\": 0.043, \"p\": 4, \"fpr\": 0.3333333333333333, \"tpr\": 1.0, \"n\": 3}, {\"threshold\": 0.044, \"p\": 4, \"fpr\": 0.3333333333333333, \"tpr\": 1.0, \"n\": 3}, {\"threshold\": 0.045, \"p\": 4, \"fpr\": 0.3333333333333333, \"tpr\": 1.0, \"n\": 3}, {\"threshold\": 0.046, \"p\": 4, \"fpr\": 0.3333333333333333, \"tpr\": 1.0, \"n\": 3}, {\"threshold\": 0.047, \"p\": 4, \"fpr\": 0.3333333333333333, \"tpr\": 1.0, \"n\": 3}, {\"threshold\": 0.048, \"p\": 4, \"fpr\": 0.3333333333333333, \"tpr\": 1.0, \"n\": 3}, {\"threshold\": 0.049, \"p\": 4, \"fpr\": 0.3333333333333333, \"tpr\": 1.0, \"n\": 3}, {\"threshold\": 0.05, \"p\": 4, \"fpr\": 0.3333333333333333, \"tpr\": 1.0, \"n\": 3}, {\"threshold\": 0.051, \"p\": 4, \"fpr\": 0.3333333333333333, \"tpr\": 1.0, \"n\": 3}, {\"threshold\": 0.052, \"p\": 4, \"fpr\": 0.3333333333333333, \"tpr\": 1.0, \"n\": 3}, {\"threshold\": 0.053, \"p\": 4, \"fpr\": 0.3333333333333333, \"tpr\": 1.0, \"n\": 3}, {\"threshold\": 0.054, \"p\": 4, \"fpr\": 0.3333333333333333, \"tpr\": 1.0, \"n\": 3}, {\"threshold\": 0.055, \"p\": 4, \"fpr\": 0.3333333333333333, \"tpr\": 1.0, \"n\": 3}, {\"threshold\": 0.056, \"p\": 4, \"fpr\": 0.3333333333333333, \"tpr\": 1.0, \"n\": 3}, {\"threshold\": 0.057, \"p\": 4, \"fpr\": 0.3333333333333333, \"tpr\": 1.0, \"n\": 3}, {\"threshold\": 0.058, \"p\": 4, \"fpr\": 0.3333333333333333, \"tpr\": 1.0, \"n\": 3}, {\"threshold\": 0.059, \"p\": 4, \"fpr\": 0.3333333333333333, \"tpr\": 1.0, \"n\": 3}, {\"threshold\": 0.06, \"p\": 4, \"fpr\": 0.3333333333333333, \"tpr\": 1.0, \"n\": 3}, {\"threshold\": 0.061, \"p\": 4, \"fpr\": 0.3333333333333333, \"tpr\": 1.0, \"n\": 3}, {\"threshold\": 0.062, \"p\": 4, \"fpr\": 0.3333333333333333, \"tpr\": 1.0, \"n\": 3}, {\"threshold\": 0.063, \"p\": 4, \"fpr\": 0.3333333333333333, \"tpr\": 0.75, \"n\": 3}, {\"threshold\": 0.064, \"p\": 4, \"fpr\": 0.3333333333333333, \"tpr\": 0.75, \"n\": 3}, {\"threshold\": 0.065, \"p\": 4, \"fpr\": 0.3333333333333333, \"tpr\": 0.75, \"n\": 3}, {\"threshold\": 0.066, \"p\": 4, \"fpr\": 0.3333333333333333, \"tpr\": 0.75, \"n\": 3}, {\"threshold\": 0.067, \"p\": 4, \"fpr\": 0.3333333333333333, \"tpr\": 0.75, \"n\": 3}, {\"threshold\": 0.068, \"p\": 4, \"fpr\": 0.3333333333333333, \"tpr\": 0.75, \"n\": 3}, {\"threshold\": 0.069, \"p\": 4, \"fpr\": 0.3333333333333333, \"tpr\": 0.75, \"n\": 3}, {\"threshold\": 0.07, \"p\": 4, \"fpr\": 0.3333333333333333, \"tpr\": 0.75, \"n\": 3}, {\"threshold\": 0.071, \"p\": 4, \"fpr\": 0.3333333333333333, \"tpr\": 0.75, \"n\": 3}, {\"threshold\": 0.072, \"p\": 4, \"fpr\": 0.3333333333333333, \"tpr\": 0.75, \"n\": 3}, {\"threshold\": 0.073, \"p\": 4, \"fpr\": 0.3333333333333333, \"tpr\": 0.75, \"n\": 3}, {\"threshold\": 0.074, \"p\": 4, \"fpr\": 0.3333333333333333, \"tpr\": 0.75, \"n\": 3}, {\"threshold\": 0.075, \"p\": 4, \"fpr\": 0.3333333333333333, \"tpr\": 0.75, \"n\": 3}, {\"threshold\": 0.076, \"p\": 4, \"fpr\": 0.3333333333333333, \"tpr\": 0.75, \"n\": 3}, {\"threshold\": 0.077, \"p\": 4, \"fpr\": 0.3333333333333333, \"tpr\": 0.75, \"n\": 3}, {\"threshold\": 0.078, \"p\": 4, \"fpr\": 0.3333333333333333, \"tpr\": 0.75, \"n\": 3}, {\"threshold\": 0.079, \"p\": 4, \"fpr\": 0.3333333333333333, \"tpr\": 0.75, \"n\": 3}, {\"threshold\": 0.08, \"p\": 4, \"fpr\": 0.3333333333333333, \"tpr\": 0.75, \"n\": 3}, {\"threshold\": 0.081, \"p\": 4, \"fpr\": 0.3333333333333333, \"tpr\": 0.75, \"n\": 3}, {\"threshold\": 0.082, \"p\": 4, \"fpr\": 0.3333333333333333, \"tpr\": 0.75, \"n\": 3}, {\"threshold\": 0.083, \"p\": 4, \"fpr\": 0.3333333333333333, \"tpr\": 0.75, \"n\": 3}, {\"threshold\": 0.084, \"p\": 4, \"fpr\": 0.3333333333333333, \"tpr\": 0.75, \"n\": 3}, {\"threshold\": 0.085, \"p\": 4, \"fpr\": 0.3333333333333333, \"tpr\": 0.75, \"n\": 3}, {\"threshold\": 0.086, \"p\": 4, \"fpr\": 0.3333333333333333, \"tpr\": 0.75, \"n\": 3}, {\"threshold\": 0.087, \"p\": 4, \"fpr\": 0.3333333333333333, \"tpr\": 0.75, \"n\": 3}, {\"threshold\": 0.088, \"p\": 4, \"fpr\": 0.3333333333333333, \"tpr\": 0.75, \"n\": 3}, {\"threshold\": 0.089, \"p\": 4, \"fpr\": 0.3333333333333333, \"tpr\": 0.75, \"n\": 3}, {\"threshold\": 0.09, \"p\": 4, \"fpr\": 0.3333333333333333, \"tpr\": 0.75, \"n\": 3}, {\"threshold\": 0.091, \"p\": 4, \"fpr\": 0.3333333333333333, \"tpr\": 0.75, \"n\": 3}, {\"threshold\": 0.092, \"p\": 4, \"fpr\": 0.3333333333333333, \"tpr\": 0.75, \"n\": 3}, {\"threshold\": 0.093, \"p\": 4, \"fpr\": 0.3333333333333333, \"tpr\": 0.75, \"n\": 3}, {\"threshold\": 0.094, \"p\": 4, \"fpr\": 0.3333333333333333, \"tpr\": 0.75, \"n\": 3}, {\"threshold\": 0.095, \"p\": 4, \"fpr\": 0.3333333333333333, \"tpr\": 0.75, \"n\": 3}, {\"threshold\": 0.096, \"p\": 4, \"fpr\": 0.3333333333333333, \"tpr\": 0.75, \"n\": 3}, {\"threshold\": 0.097, \"p\": 4, \"fpr\": 0.3333333333333333, \"tpr\": 0.75, \"n\": 3}, {\"threshold\": 0.098, \"p\": 4, \"fpr\": 0.3333333333333333, \"tpr\": 0.75, \"n\": 3}, {\"threshold\": 0.099, \"p\": 4, \"fpr\": 0.3333333333333333, \"tpr\": 0.75, \"n\": 3}, {\"threshold\": 0.1, \"p\": 4, \"fpr\": 0.3333333333333333, \"tpr\": 0.75, \"n\": 3}, {\"threshold\": 0.101, \"p\": 4, \"fpr\": 0.3333333333333333, \"tpr\": 0.75, \"n\": 3}, {\"threshold\": 0.102, \"p\": 4, \"fpr\": 0.3333333333333333, \"tpr\": 0.75, \"n\": 3}, {\"threshold\": 0.103, \"p\": 4, \"fpr\": 0.3333333333333333, \"tpr\": 0.75, \"n\": 3}, {\"threshold\": 0.104, \"p\": 4, \"fpr\": 0.3333333333333333, \"tpr\": 0.75, \"n\": 3}, {\"threshold\": 0.105, \"p\": 4, \"fpr\": 0.3333333333333333, \"tpr\": 0.75, \"n\": 3}, {\"threshold\": 0.106, \"p\": 4, \"fpr\": 0.3333333333333333, \"tpr\": 0.75, \"n\": 3}, {\"threshold\": 0.107, \"p\": 4, \"fpr\": 0.3333333333333333, \"tpr\": 0.75, \"n\": 3}, {\"threshold\": 0.108, \"p\": 4, \"fpr\": 0.3333333333333333, \"tpr\": 0.75, \"n\": 3}, {\"threshold\": 0.109, \"p\": 4, \"fpr\": 0.3333333333333333, \"tpr\": 0.75, \"n\": 3}, {\"threshold\": 0.11, \"p\": 4, \"fpr\": 0.3333333333333333, \"tpr\": 0.75, \"n\": 3}, {\"threshold\": 0.111, \"p\": 4, \"fpr\": 0.3333333333333333, \"tpr\": 0.75, \"n\": 3}, {\"threshold\": 0.112, \"p\": 4, \"fpr\": 0.3333333333333333, \"tpr\": 0.75, \"n\": 3}, {\"threshold\": 0.113, \"p\": 4, \"fpr\": 0.3333333333333333, \"tpr\": 0.75, \"n\": 3}, {\"threshold\": 0.114, \"p\": 4, \"fpr\": 0.3333333333333333, \"tpr\": 0.75, \"n\": 3}, {\"threshold\": 0.115, \"p\": 4, \"fpr\": 0.3333333333333333, \"tpr\": 0.75, \"n\": 3}, {\"threshold\": 0.116, \"p\": 4, \"fpr\": 0.3333333333333333, \"tpr\": 0.75, \"n\": 3}, {\"threshold\": 0.117, \"p\": 4, \"fpr\": 0.3333333333333333, \"tpr\": 0.75, \"n\": 3}, {\"threshold\": 0.118, \"p\": 4, \"fpr\": 0.3333333333333333, \"tpr\": 0.75, \"n\": 3}, {\"threshold\": 0.119, \"p\": 4, \"fpr\": 0.3333333333333333, \"tpr\": 0.75, \"n\": 3}, {\"threshold\": 0.12, \"p\": 4, \"fpr\": 0.3333333333333333, \"tpr\": 0.75, \"n\": 3}, {\"threshold\": 0.121, \"p\": 4, \"fpr\": 0.3333333333333333, \"tpr\": 0.75, \"n\": 3}, {\"threshold\": 0.122, \"p\": 4, \"fpr\": 0.3333333333333333, \"tpr\": 0.75, \"n\": 3}, {\"threshold\": 0.123, \"p\": 4, \"fpr\": 0.3333333333333333, \"tpr\": 0.75, \"n\": 3}, {\"threshold\": 0.124, \"p\": 4, \"fpr\": 0.3333333333333333, \"tpr\": 0.75, \"n\": 3}, {\"threshold\": 0.125, \"p\": 4, \"fpr\": 0.3333333333333333, \"tpr\": 0.75, \"n\": 3}, {\"threshold\": 0.126, \"p\": 4, \"fpr\": 0.3333333333333333, \"tpr\": 0.75, \"n\": 3}, {\"threshold\": 0.127, \"p\": 4, \"fpr\": 0.3333333333333333, \"tpr\": 0.75, \"n\": 3}, {\"threshold\": 0.128, \"p\": 4, \"fpr\": 0.3333333333333333, \"tpr\": 0.75, \"n\": 3}, {\"threshold\": 0.129, \"p\": 4, \"fpr\": 0.3333333333333333, \"tpr\": 0.75, \"n\": 3}, {\"threshold\": 0.13, \"p\": 4, \"fpr\": 0.3333333333333333, \"tpr\": 0.75, \"n\": 3}, {\"threshold\": 0.131, \"p\": 4, \"fpr\": 0.3333333333333333, \"tpr\": 0.75, \"n\": 3}, {\"threshold\": 0.132, \"p\": 4, \"fpr\": 0.3333333333333333, \"tpr\": 0.75, \"n\": 3}, {\"threshold\": 0.133, \"p\": 4, \"fpr\": 0.3333333333333333, \"tpr\": 0.75, \"n\": 3}, {\"threshold\": 0.134, \"p\": 4, \"fpr\": 0.3333333333333333, \"tpr\": 0.75, \"n\": 3}, {\"threshold\": 0.135, \"p\": 4, \"fpr\": 0.3333333333333333, \"tpr\": 0.75, \"n\": 3}, {\"threshold\": 0.136, \"p\": 4, \"fpr\": 0.3333333333333333, \"tpr\": 0.75, \"n\": 3}, {\"threshold\": 0.137, \"p\": 4, \"fpr\": 0.3333333333333333, \"tpr\": 0.75, \"n\": 3}, {\"threshold\": 0.138, \"p\": 4, \"fpr\": 0.3333333333333333, \"tpr\": 0.75, \"n\": 3}, {\"threshold\": 0.139, \"p\": 4, \"fpr\": 0.3333333333333333, \"tpr\": 0.75, \"n\": 3}, {\"threshold\": 0.14, \"p\": 4, \"fpr\": 0.3333333333333333, \"tpr\": 0.75, \"n\": 3}, {\"threshold\": 0.141, \"p\": 4, \"fpr\": 0.3333333333333333, \"tpr\": 0.75, \"n\": 3}, {\"threshold\": 0.142, \"p\": 4, \"fpr\": 0.3333333333333333, \"tpr\": 0.75, \"n\": 3}, {\"threshold\": 0.143, \"p\": 4, \"fpr\": 0.3333333333333333, \"tpr\": 0.75, \"n\": 3}, {\"threshold\": 0.144, \"p\": 4, \"fpr\": 0.3333333333333333, \"tpr\": 0.75, \"n\": 3}, {\"threshold\": 0.145, \"p\": 4, \"fpr\": 0.3333333333333333, \"tpr\": 0.75, \"n\": 3}, {\"threshold\": 0.146, \"p\": 4, \"fpr\": 0.3333333333333333, \"tpr\": 0.75, \"n\": 3}, {\"threshold\": 0.147, \"p\": 4, \"fpr\": 0.3333333333333333, \"tpr\": 0.75, \"n\": 3}, {\"threshold\": 0.148, \"p\": 4, \"fpr\": 0.3333333333333333, \"tpr\": 0.75, \"n\": 3}, {\"threshold\": 0.149, \"p\": 4, \"fpr\": 0.3333333333333333, \"tpr\": 0.75, \"n\": 3}, {\"threshold\": 0.15, \"p\": 4, \"fpr\": 0.3333333333333333, \"tpr\": 0.75, \"n\": 3}, {\"threshold\": 0.151, \"p\": 4, \"fpr\": 0.3333333333333333, \"tpr\": 0.75, \"n\": 3}, {\"threshold\": 0.152, \"p\": 4, \"fpr\": 0.3333333333333333, \"tpr\": 0.75, \"n\": 3}, {\"threshold\": 0.153, \"p\": 4, \"fpr\": 0.3333333333333333, \"tpr\": 0.75, \"n\": 3}, {\"threshold\": 0.154, \"p\": 4, \"fpr\": 0.3333333333333333, \"tpr\": 0.75, \"n\": 3}, {\"threshold\": 0.155, \"p\": 4, \"fpr\": 0.3333333333333333, \"tpr\": 0.75, \"n\": 3}, {\"threshold\": 0.156, \"p\": 4, \"fpr\": 0.3333333333333333, \"tpr\": 0.75, \"n\": 3}, {\"threshold\": 0.157, \"p\": 4, \"fpr\": 0.3333333333333333, \"tpr\": 0.75, \"n\": 3}, {\"threshold\": 0.158, \"p\": 4, \"fpr\": 0.3333333333333333, \"tpr\": 0.75, \"n\": 3}, {\"threshold\": 0.159, \"p\": 4, \"fpr\": 0.3333333333333333, \"tpr\": 0.75, \"n\": 3}, {\"threshold\": 0.16, \"p\": 4, \"fpr\": 0.3333333333333333, \"tpr\": 0.75, \"n\": 3}, {\"threshold\": 0.161, \"p\": 4, \"fpr\": 0.3333333333333333, \"tpr\": 0.75, \"n\": 3}, {\"threshold\": 0.162, \"p\": 4, \"fpr\": 0.3333333333333333, \"tpr\": 0.75, \"n\": 3}, {\"threshold\": 0.163, \"p\": 4, \"fpr\": 0.3333333333333333, \"tpr\": 0.75, \"n\": 3}, {\"threshold\": 0.164, \"p\": 4, \"fpr\": 0.3333333333333333, \"tpr\": 0.75, \"n\": 3}, {\"threshold\": 0.165, \"p\": 4, \"fpr\": 0.3333333333333333, \"tpr\": 0.75, \"n\": 3}, {\"threshold\": 0.166, \"p\": 4, \"fpr\": 0.3333333333333333, \"tpr\": 0.75, \"n\": 3}, {\"threshold\": 0.167, \"p\": 4, \"fpr\": 0.3333333333333333, \"tpr\": 0.75, \"n\": 3}, {\"threshold\": 0.168, \"p\": 4, \"fpr\": 0.3333333333333333, \"tpr\": 0.75, \"n\": 3}, {\"threshold\": 0.169, \"p\": 4, \"fpr\": 0.3333333333333333, \"tpr\": 0.75, \"n\": 3}, {\"threshold\": 0.17, \"p\": 4, \"fpr\": 0.3333333333333333, \"tpr\": 0.75, \"n\": 3}, {\"threshold\": 0.171, \"p\": 4, \"fpr\": 0.3333333333333333, \"tpr\": 0.75, \"n\": 3}, {\"threshold\": 0.172, \"p\": 4, \"fpr\": 0.3333333333333333, \"tpr\": 0.75, \"n\": 3}, {\"threshold\": 0.173, \"p\": 4, \"fpr\": 0.3333333333333333, \"tpr\": 0.75, \"n\": 3}, {\"threshold\": 0.174, \"p\": 4, \"fpr\": 0.3333333333333333, \"tpr\": 0.75, \"n\": 3}, {\"threshold\": 0.175, \"p\": 4, \"fpr\": 0.3333333333333333, \"tpr\": 0.75, \"n\": 3}, {\"threshold\": 0.176, \"p\": 4, \"fpr\": 0.3333333333333333, \"tpr\": 0.75, \"n\": 3}, {\"threshold\": 0.177, \"p\": 4, \"fpr\": 0.3333333333333333, \"tpr\": 0.75, \"n\": 3}, {\"threshold\": 0.178, \"p\": 4, \"fpr\": 0.3333333333333333, \"tpr\": 0.75, \"n\": 3}, {\"threshold\": 0.179, \"p\": 4, \"fpr\": 0.3333333333333333, \"tpr\": 0.75, \"n\": 3}, {\"threshold\": 0.18, \"p\": 4, \"fpr\": 0.3333333333333333, \"tpr\": 0.75, \"n\": 3}, {\"threshold\": 0.181, \"p\": 4, \"fpr\": 0.3333333333333333, \"tpr\": 0.75, \"n\": 3}, {\"threshold\": 0.182, \"p\": 4, \"fpr\": 0.3333333333333333, \"tpr\": 0.75, \"n\": 3}, {\"threshold\": 0.183, \"p\": 4, \"fpr\": 0.3333333333333333, \"tpr\": 0.75, \"n\": 3}, {\"threshold\": 0.184, \"p\": 4, \"fpr\": 0.3333333333333333, \"tpr\": 0.75, \"n\": 3}, {\"threshold\": 0.185, \"p\": 4, \"fpr\": 0.3333333333333333, \"tpr\": 0.75, \"n\": 3}, {\"threshold\": 0.186, \"p\": 4, \"fpr\": 0.3333333333333333, \"tpr\": 0.75, \"n\": 3}, {\"threshold\": 0.187, \"p\": 4, \"fpr\": 0.3333333333333333, \"tpr\": 0.75, \"n\": 3}, {\"threshold\": 0.188, \"p\": 4, \"fpr\": 0.3333333333333333, \"tpr\": 0.75, \"n\": 3}, {\"threshold\": 0.189, \"p\": 4, \"fpr\": 0.3333333333333333, \"tpr\": 0.75, \"n\": 3}, {\"threshold\": 0.19, \"p\": 4, \"fpr\": 0.3333333333333333, \"tpr\": 0.75, \"n\": 3}, {\"threshold\": 0.191, \"p\": 4, \"fpr\": 0.3333333333333333, \"tpr\": 0.75, \"n\": 3}, {\"threshold\": 0.192, \"p\": 4, \"fpr\": 0.3333333333333333, \"tpr\": 0.75, \"n\": 3}, {\"threshold\": 0.193, \"p\": 4, \"fpr\": 0.3333333333333333, \"tpr\": 0.75, \"n\": 3}, {\"threshold\": 0.194, \"p\": 4, \"fpr\": 0.3333333333333333, \"tpr\": 0.75, \"n\": 3}, {\"threshold\": 0.195, \"p\": 4, \"fpr\": 0.3333333333333333, \"tpr\": 0.75, \"n\": 3}, {\"threshold\": 0.196, \"p\": 4, \"fpr\": 0.3333333333333333, \"tpr\": 0.75, \"n\": 3}, {\"threshold\": 0.197, \"p\": 4, \"fpr\": 0.3333333333333333, \"tpr\": 0.75, \"n\": 3}, {\"threshold\": 0.198, \"p\": 4, \"fpr\": 0.3333333333333333, \"tpr\": 0.75, \"n\": 3}, {\"threshold\": 0.199, \"p\": 4, \"fpr\": 0.3333333333333333, \"tpr\": 0.75, \"n\": 3}, {\"threshold\": 0.2, \"p\": 4, \"fpr\": 0.3333333333333333, \"tpr\": 0.75, \"n\": 3}, {\"threshold\": 0.201, \"p\": 4, \"fpr\": 0.3333333333333333, \"tpr\": 0.75, \"n\": 3}, {\"threshold\": 0.202, \"p\": 4, \"fpr\": 0.3333333333333333, \"tpr\": 0.75, \"n\": 3}, {\"threshold\": 0.203, \"p\": 4, \"fpr\": 0.3333333333333333, \"tpr\": 0.75, \"n\": 3}, {\"threshold\": 0.204, \"p\": 4, \"fpr\": 0.3333333333333333, \"tpr\": 0.75, \"n\": 3}, {\"threshold\": 0.205, \"p\": 4, \"fpr\": 0.3333333333333333, \"tpr\": 0.75, \"n\": 3}, {\"threshold\": 0.206, \"p\": 4, \"fpr\": 0.3333333333333333, \"tpr\": 0.75, \"n\": 3}, {\"threshold\": 0.207, \"p\": 4, \"fpr\": 0.3333333333333333, \"tpr\": 0.75, \"n\": 3}, {\"threshold\": 0.208, \"p\": 4, \"fpr\": 0.3333333333333333, \"tpr\": 0.75, \"n\": 3}, {\"threshold\": 0.209, \"p\": 4, \"fpr\": 0.3333333333333333, \"tpr\": 0.75, \"n\": 3}, {\"threshold\": 0.21, \"p\": 4, \"fpr\": 0.3333333333333333, \"tpr\": 0.75, \"n\": 3}, {\"threshold\": 0.211, \"p\": 4, \"fpr\": 0.3333333333333333, \"tpr\": 0.75, \"n\": 3}, {\"threshold\": 0.212, \"p\": 4, \"fpr\": 0.3333333333333333, \"tpr\": 0.75, \"n\": 3}, {\"threshold\": 0.213, \"p\": 4, \"fpr\": 0.3333333333333333, \"tpr\": 0.75, \"n\": 3}, {\"threshold\": 0.214, \"p\": 4, \"fpr\": 0.3333333333333333, \"tpr\": 0.75, \"n\": 3}, {\"threshold\": 0.215, \"p\": 4, \"fpr\": 0.3333333333333333, \"tpr\": 0.75, \"n\": 3}, {\"threshold\": 0.216, \"p\": 4, \"fpr\": 0.3333333333333333, \"tpr\": 0.75, \"n\": 3}, {\"threshold\": 0.217, \"p\": 4, \"fpr\": 0.3333333333333333, \"tpr\": 0.75, \"n\": 3}, {\"threshold\": 0.218, \"p\": 4, \"fpr\": 0.3333333333333333, \"tpr\": 0.75, \"n\": 3}, {\"threshold\": 0.219, \"p\": 4, \"fpr\": 0.3333333333333333, \"tpr\": 0.75, \"n\": 3}, {\"threshold\": 0.22, \"p\": 4, \"fpr\": 0.3333333333333333, \"tpr\": 0.75, \"n\": 3}, {\"threshold\": 0.221, \"p\": 4, \"fpr\": 0.3333333333333333, \"tpr\": 0.75, \"n\": 3}, {\"threshold\": 0.222, \"p\": 4, \"fpr\": 0.3333333333333333, \"tpr\": 0.75, \"n\": 3}, {\"threshold\": 0.223, \"p\": 4, \"fpr\": 0.3333333333333333, \"tpr\": 0.75, \"n\": 3}, {\"threshold\": 0.224, \"p\": 4, \"fpr\": 0.3333333333333333, \"tpr\": 0.75, \"n\": 3}, {\"threshold\": 0.225, \"p\": 4, \"fpr\": 0.3333333333333333, \"tpr\": 0.75, \"n\": 3}, {\"threshold\": 0.226, \"p\": 4, \"fpr\": 0.3333333333333333, \"tpr\": 0.75, \"n\": 3}, {\"threshold\": 0.227, \"p\": 4, \"fpr\": 0.3333333333333333, \"tpr\": 0.75, \"n\": 3}, {\"threshold\": 0.228, \"p\": 4, \"fpr\": 0.3333333333333333, \"tpr\": 0.75, \"n\": 3}, {\"threshold\": 0.229, \"p\": 4, \"fpr\": 0.3333333333333333, \"tpr\": 0.75, \"n\": 3}, {\"threshold\": 0.23, \"p\": 4, \"fpr\": 0.3333333333333333, \"tpr\": 0.75, \"n\": 3}, {\"threshold\": 0.231, \"p\": 4, \"fpr\": 0.3333333333333333, \"tpr\": 0.75, \"n\": 3}, {\"threshold\": 0.232, \"p\": 4, \"fpr\": 0.3333333333333333, \"tpr\": 0.75, \"n\": 3}, {\"threshold\": 0.233, \"p\": 4, \"fpr\": 0.3333333333333333, \"tpr\": 0.75, \"n\": 3}, {\"threshold\": 0.234, \"p\": 4, \"fpr\": 0.3333333333333333, \"tpr\": 0.75, \"n\": 3}, {\"threshold\": 0.235, \"p\": 4, \"fpr\": 0.3333333333333333, \"tpr\": 0.75, \"n\": 3}, {\"threshold\": 0.236, \"p\": 4, \"fpr\": 0.3333333333333333, \"tpr\": 0.75, \"n\": 3}, {\"threshold\": 0.237, \"p\": 4, \"fpr\": 0.3333333333333333, \"tpr\": 0.75, \"n\": 3}, {\"threshold\": 0.238, \"p\": 4, \"fpr\": 0.0, \"tpr\": 0.75, \"n\": 3}, {\"threshold\": 0.239, \"p\": 4, \"fpr\": 0.0, \"tpr\": 0.75, \"n\": 3}, {\"threshold\": 0.24, \"p\": 4, \"fpr\": 0.0, \"tpr\": 0.75, \"n\": 3}, {\"threshold\": 0.241, \"p\": 4, \"fpr\": 0.0, \"tpr\": 0.75, \"n\": 3}, {\"threshold\": 0.242, \"p\": 4, \"fpr\": 0.0, \"tpr\": 0.75, \"n\": 3}, {\"threshold\": 0.243, \"p\": 4, \"fpr\": 0.0, \"tpr\": 0.75, \"n\": 3}, {\"threshold\": 0.244, \"p\": 4, \"fpr\": 0.0, \"tpr\": 0.75, \"n\": 3}, {\"threshold\": 0.245, \"p\": 4, \"fpr\": 0.0, \"tpr\": 0.75, \"n\": 3}, {\"threshold\": 0.246, \"p\": 4, \"fpr\": 0.0, \"tpr\": 0.75, \"n\": 3}, {\"threshold\": 0.247, \"p\": 4, \"fpr\": 0.0, \"tpr\": 0.75, \"n\": 3}, {\"threshold\": 0.248, \"p\": 4, \"fpr\": 0.0, \"tpr\": 0.75, \"n\": 3}, {\"threshold\": 0.249, \"p\": 4, \"fpr\": 0.0, \"tpr\": 0.75, \"n\": 3}, {\"threshold\": 0.25, \"p\": 4, \"fpr\": 0.0, \"tpr\": 0.75, \"n\": 3}, {\"threshold\": 0.251, \"p\": 4, \"fpr\": 0.0, \"tpr\": 0.75, \"n\": 3}, {\"threshold\": 0.252, \"p\": 4, \"fpr\": 0.0, \"tpr\": 0.75, \"n\": 3}, {\"threshold\": 0.253, \"p\": 4, \"fpr\": 0.0, \"tpr\": 0.75, \"n\": 3}, {\"threshold\": 0.254, \"p\": 4, \"fpr\": 0.0, \"tpr\": 0.75, \"n\": 3}, {\"threshold\": 0.255, \"p\": 4, \"fpr\": 0.0, \"tpr\": 0.75, \"n\": 3}, {\"threshold\": 0.256, \"p\": 4, \"fpr\": 0.0, \"tpr\": 0.75, \"n\": 3}, {\"threshold\": 0.257, \"p\": 4, \"fpr\": 0.0, \"tpr\": 0.75, \"n\": 3}, {\"threshold\": 0.258, \"p\": 4, \"fpr\": 0.0, \"tpr\": 0.75, \"n\": 3}, {\"threshold\": 0.259, \"p\": 4, \"fpr\": 0.0, \"tpr\": 0.75, \"n\": 3}, {\"threshold\": 0.26, \"p\": 4, \"fpr\": 0.0, \"tpr\": 0.75, \"n\": 3}, {\"threshold\": 0.261, \"p\": 4, \"fpr\": 0.0, \"tpr\": 0.75, \"n\": 3}, {\"threshold\": 0.262, \"p\": 4, \"fpr\": 0.0, \"tpr\": 0.75, \"n\": 3}, {\"threshold\": 0.263, \"p\": 4, \"fpr\": 0.0, \"tpr\": 0.75, \"n\": 3}, {\"threshold\": 0.264, \"p\": 4, \"fpr\": 0.0, \"tpr\": 0.75, \"n\": 3}, {\"threshold\": 0.265, \"p\": 4, \"fpr\": 0.0, \"tpr\": 0.75, \"n\": 3}, {\"threshold\": 0.266, \"p\": 4, \"fpr\": 0.0, \"tpr\": 0.75, \"n\": 3}, {\"threshold\": 0.267, \"p\": 4, \"fpr\": 0.0, \"tpr\": 0.75, \"n\": 3}, {\"threshold\": 0.268, \"p\": 4, \"fpr\": 0.0, \"tpr\": 0.75, \"n\": 3}, {\"threshold\": 0.269, \"p\": 4, \"fpr\": 0.0, \"tpr\": 0.75, \"n\": 3}, {\"threshold\": 0.27, \"p\": 4, \"fpr\": 0.0, \"tpr\": 0.75, \"n\": 3}, {\"threshold\": 0.271, \"p\": 4, \"fpr\": 0.0, \"tpr\": 0.75, \"n\": 3}, {\"threshold\": 0.272, \"p\": 4, \"fpr\": 0.0, \"tpr\": 0.75, \"n\": 3}, {\"threshold\": 0.273, \"p\": 4, \"fpr\": 0.0, \"tpr\": 0.75, \"n\": 3}, {\"threshold\": 0.274, \"p\": 4, \"fpr\": 0.0, \"tpr\": 0.75, \"n\": 3}, {\"threshold\": 0.275, \"p\": 4, \"fpr\": 0.0, \"tpr\": 0.75, \"n\": 3}, {\"threshold\": 0.276, \"p\": 4, \"fpr\": 0.0, \"tpr\": 0.75, \"n\": 3}, {\"threshold\": 0.277, \"p\": 4, \"fpr\": 0.0, \"tpr\": 0.75, \"n\": 3}, {\"threshold\": 0.278, \"p\": 4, \"fpr\": 0.0, \"tpr\": 0.75, \"n\": 3}, {\"threshold\": 0.279, \"p\": 4, \"fpr\": 0.0, \"tpr\": 0.75, \"n\": 3}, {\"threshold\": 0.28, \"p\": 4, \"fpr\": 0.0, \"tpr\": 0.75, \"n\": 3}, {\"threshold\": 0.281, \"p\": 4, \"fpr\": 0.0, \"tpr\": 0.75, \"n\": 3}, {\"threshold\": 0.282, \"p\": 4, \"fpr\": 0.0, \"tpr\": 0.75, \"n\": 3}, {\"threshold\": 0.283, \"p\": 4, \"fpr\": 0.0, \"tpr\": 0.75, \"n\": 3}, {\"threshold\": 0.284, \"p\": 4, \"fpr\": 0.0, \"tpr\": 0.75, \"n\": 3}, {\"threshold\": 0.285, \"p\": 4, \"fpr\": 0.0, \"tpr\": 0.75, \"n\": 3}, {\"threshold\": 0.286, \"p\": 4, \"fpr\": 0.0, \"tpr\": 0.75, \"n\": 3}, {\"threshold\": 0.287, \"p\": 4, \"fpr\": 0.0, \"tpr\": 0.75, \"n\": 3}, {\"threshold\": 0.288, \"p\": 4, \"fpr\": 0.0, \"tpr\": 0.75, \"n\": 3}, {\"threshold\": 0.289, \"p\": 4, \"fpr\": 0.0, \"tpr\": 0.75, \"n\": 3}, {\"threshold\": 0.29, \"p\": 4, \"fpr\": 0.0, \"tpr\": 0.75, \"n\": 3}, {\"threshold\": 0.291, \"p\": 4, \"fpr\": 0.0, \"tpr\": 0.75, \"n\": 3}, {\"threshold\": 0.292, \"p\": 4, \"fpr\": 0.0, \"tpr\": 0.75, \"n\": 3}, {\"threshold\": 0.293, \"p\": 4, \"fpr\": 0.0, \"tpr\": 0.75, \"n\": 3}, {\"threshold\": 0.294, \"p\": 4, \"fpr\": 0.0, \"tpr\": 0.75, \"n\": 3}, {\"threshold\": 0.295, \"p\": 4, \"fpr\": 0.0, \"tpr\": 0.75, \"n\": 3}, {\"threshold\": 0.296, \"p\": 4, \"fpr\": 0.0, \"tpr\": 0.75, \"n\": 3}, {\"threshold\": 0.297, \"p\": 4, \"fpr\": 0.0, \"tpr\": 0.75, \"n\": 3}, {\"threshold\": 0.298, \"p\": 4, \"fpr\": 0.0, \"tpr\": 0.75, \"n\": 3}, {\"threshold\": 0.299, \"p\": 4, \"fpr\": 0.0, \"tpr\": 0.75, \"n\": 3}, {\"threshold\": 0.3, \"p\": 4, \"fpr\": 0.0, \"tpr\": 0.75, \"n\": 3}, {\"threshold\": 0.301, \"p\": 4, \"fpr\": 0.0, \"tpr\": 0.75, \"n\": 3}, {\"threshold\": 0.302, \"p\": 4, \"fpr\": 0.0, \"tpr\": 0.75, \"n\": 3}, {\"threshold\": 0.303, \"p\": 4, \"fpr\": 0.0, \"tpr\": 0.75, \"n\": 3}, {\"threshold\": 0.304, \"p\": 4, \"fpr\": 0.0, \"tpr\": 0.75, \"n\": 3}, {\"threshold\": 0.305, \"p\": 4, \"fpr\": 0.0, \"tpr\": 0.75, \"n\": 3}, {\"threshold\": 0.306, \"p\": 4, \"fpr\": 0.0, \"tpr\": 0.75, \"n\": 3}, {\"threshold\": 0.307, \"p\": 4, \"fpr\": 0.0, \"tpr\": 0.75, \"n\": 3}, {\"threshold\": 0.308, \"p\": 4, \"fpr\": 0.0, \"tpr\": 0.75, \"n\": 3}, {\"threshold\": 0.309, \"p\": 4, \"fpr\": 0.0, \"tpr\": 0.75, \"n\": 3}, {\"threshold\": 0.31, \"p\": 4, \"fpr\": 0.0, \"tpr\": 0.75, \"n\": 3}, {\"threshold\": 0.311, \"p\": 4, \"fpr\": 0.0, \"tpr\": 0.75, \"n\": 3}, {\"threshold\": 0.312, \"p\": 4, \"fpr\": 0.0, \"tpr\": 0.75, \"n\": 3}, {\"threshold\": 0.313, \"p\": 4, \"fpr\": 0.0, \"tpr\": 0.75, \"n\": 3}, {\"threshold\": 0.314, \"p\": 4, \"fpr\": 0.0, \"tpr\": 0.75, \"n\": 3}, {\"threshold\": 0.315, \"p\": 4, \"fpr\": 0.0, \"tpr\": 0.75, \"n\": 3}, {\"threshold\": 0.316, \"p\": 4, \"fpr\": 0.0, \"tpr\": 0.75, \"n\": 3}, {\"threshold\": 0.317, \"p\": 4, \"fpr\": 0.0, \"tpr\": 0.75, \"n\": 3}, {\"threshold\": 0.318, \"p\": 4, \"fpr\": 0.0, \"tpr\": 0.75, \"n\": 3}, {\"threshold\": 0.319, \"p\": 4, \"fpr\": 0.0, \"tpr\": 0.75, \"n\": 3}, {\"threshold\": 0.32, \"p\": 4, \"fpr\": 0.0, \"tpr\": 0.75, \"n\": 3}, {\"threshold\": 0.321, \"p\": 4, \"fpr\": 0.0, \"tpr\": 0.75, \"n\": 3}, {\"threshold\": 0.322, \"p\": 4, \"fpr\": 0.0, \"tpr\": 0.75, \"n\": 3}, {\"threshold\": 0.323, \"p\": 4, \"fpr\": 0.0, \"tpr\": 0.75, \"n\": 3}, {\"threshold\": 0.324, \"p\": 4, \"fpr\": 0.0, \"tpr\": 0.75, \"n\": 3}, {\"threshold\": 0.325, \"p\": 4, \"fpr\": 0.0, \"tpr\": 0.75, \"n\": 3}, {\"threshold\": 0.326, \"p\": 4, \"fpr\": 0.0, \"tpr\": 0.75, \"n\": 3}, {\"threshold\": 0.327, \"p\": 4, \"fpr\": 0.0, \"tpr\": 0.75, \"n\": 3}, {\"threshold\": 0.328, \"p\": 4, \"fpr\": 0.0, \"tpr\": 0.75, \"n\": 3}, {\"threshold\": 0.329, \"p\": 4, \"fpr\": 0.0, \"tpr\": 0.75, \"n\": 3}, {\"threshold\": 0.33, \"p\": 4, \"fpr\": 0.0, \"tpr\": 0.5, \"n\": 3}, {\"threshold\": 0.331, \"p\": 4, \"fpr\": 0.0, \"tpr\": 0.5, \"n\": 3}, {\"threshold\": 0.332, \"p\": 4, \"fpr\": 0.0, \"tpr\": 0.5, \"n\": 3}, {\"threshold\": 0.333, \"p\": 4, \"fpr\": 0.0, \"tpr\": 0.5, \"n\": 3}, {\"threshold\": 0.334, \"p\": 4, \"fpr\": 0.0, \"tpr\": 0.5, \"n\": 3}, {\"threshold\": 0.335, \"p\": 4, \"fpr\": 0.0, \"tpr\": 0.5, \"n\": 3}, {\"threshold\": 0.336, \"p\": 4, \"fpr\": 0.0, \"tpr\": 0.5, \"n\": 3}, {\"threshold\": 0.337, \"p\": 4, \"fpr\": 0.0, \"tpr\": 0.5, \"n\": 3}, {\"threshold\": 0.338, \"p\": 4, \"fpr\": 0.0, \"tpr\": 0.5, \"n\": 3}, {\"threshold\": 0.339, \"p\": 4, \"fpr\": 0.0, \"tpr\": 0.5, \"n\": 3}, {\"threshold\": 0.34, \"p\": 4, \"fpr\": 0.0, \"tpr\": 0.5, \"n\": 3}, {\"threshold\": 0.341, \"p\": 4, \"fpr\": 0.0, \"tpr\": 0.5, \"n\": 3}, {\"threshold\": 0.342, \"p\": 4, \"fpr\": 0.0, \"tpr\": 0.5, \"n\": 3}, {\"threshold\": 0.343, \"p\": 4, \"fpr\": 0.0, \"tpr\": 0.5, \"n\": 3}, {\"threshold\": 0.344, \"p\": 4, \"fpr\": 0.0, \"tpr\": 0.5, \"n\": 3}, {\"threshold\": 0.345, \"p\": 4, \"fpr\": 0.0, \"tpr\": 0.5, \"n\": 3}, {\"threshold\": 0.346, \"p\": 4, \"fpr\": 0.0, \"tpr\": 0.5, \"n\": 3}, {\"threshold\": 0.347, \"p\": 4, \"fpr\": 0.0, \"tpr\": 0.5, \"n\": 3}, {\"threshold\": 0.348, \"p\": 4, \"fpr\": 0.0, \"tpr\": 0.5, \"n\": 3}, {\"threshold\": 0.349, \"p\": 4, \"fpr\": 0.0, \"tpr\": 0.5, \"n\": 3}, {\"threshold\": 0.35, \"p\": 4, \"fpr\": 0.0, \"tpr\": 0.5, \"n\": 3}, {\"threshold\": 0.351, \"p\": 4, \"fpr\": 0.0, \"tpr\": 0.5, \"n\": 3}, {\"threshold\": 0.352, \"p\": 4, \"fpr\": 0.0, \"tpr\": 0.5, \"n\": 3}, {\"threshold\": 0.353, \"p\": 4, \"fpr\": 0.0, \"tpr\": 0.5, \"n\": 3}, {\"threshold\": 0.354, \"p\": 4, \"fpr\": 0.0, \"tpr\": 0.5, \"n\": 3}, {\"threshold\": 0.355, \"p\": 4, \"fpr\": 0.0, \"tpr\": 0.5, \"n\": 3}, {\"threshold\": 0.356, \"p\": 4, \"fpr\": 0.0, \"tpr\": 0.5, \"n\": 3}, {\"threshold\": 0.357, \"p\": 4, \"fpr\": 0.0, \"tpr\": 0.5, \"n\": 3}, {\"threshold\": 0.358, \"p\": 4, \"fpr\": 0.0, \"tpr\": 0.5, \"n\": 3}, {\"threshold\": 0.359, \"p\": 4, \"fpr\": 0.0, \"tpr\": 0.5, \"n\": 3}, {\"threshold\": 0.36, \"p\": 4, \"fpr\": 0.0, \"tpr\": 0.5, \"n\": 3}, {\"threshold\": 0.361, \"p\": 4, \"fpr\": 0.0, \"tpr\": 0.5, \"n\": 3}, {\"threshold\": 0.362, \"p\": 4, \"fpr\": 0.0, \"tpr\": 0.5, \"n\": 3}, {\"threshold\": 0.363, \"p\": 4, \"fpr\": 0.0, \"tpr\": 0.5, \"n\": 3}, {\"threshold\": 0.364, \"p\": 4, \"fpr\": 0.0, \"tpr\": 0.5, \"n\": 3}, {\"threshold\": 0.365, \"p\": 4, \"fpr\": 0.0, \"tpr\": 0.5, \"n\": 3}, {\"threshold\": 0.366, \"p\": 4, \"fpr\": 0.0, \"tpr\": 0.5, \"n\": 3}, {\"threshold\": 0.367, \"p\": 4, \"fpr\": 0.0, \"tpr\": 0.5, \"n\": 3}, {\"threshold\": 0.368, \"p\": 4, \"fpr\": 0.0, \"tpr\": 0.5, \"n\": 3}, {\"threshold\": 0.369, \"p\": 4, \"fpr\": 0.0, \"tpr\": 0.5, \"n\": 3}, {\"threshold\": 0.37, \"p\": 4, \"fpr\": 0.0, \"tpr\": 0.5, \"n\": 3}, {\"threshold\": 0.371, \"p\": 4, \"fpr\": 0.0, \"tpr\": 0.5, \"n\": 3}, {\"threshold\": 0.372, \"p\": 4, \"fpr\": 0.0, \"tpr\": 0.5, \"n\": 3}, {\"threshold\": 0.373, \"p\": 4, \"fpr\": 0.0, \"tpr\": 0.5, \"n\": 3}, {\"threshold\": 0.374, \"p\": 4, \"fpr\": 0.0, \"tpr\": 0.5, \"n\": 3}, {\"threshold\": 0.375, \"p\": 4, \"fpr\": 0.0, \"tpr\": 0.5, \"n\": 3}, {\"threshold\": 0.376, \"p\": 4, \"fpr\": 0.0, \"tpr\": 0.5, \"n\": 3}, {\"threshold\": 0.377, \"p\": 4, \"fpr\": 0.0, \"tpr\": 0.5, \"n\": 3}, {\"threshold\": 0.378, \"p\": 4, \"fpr\": 0.0, \"tpr\": 0.5, \"n\": 3}, {\"threshold\": 0.379, \"p\": 4, \"fpr\": 0.0, \"tpr\": 0.5, \"n\": 3}, {\"threshold\": 0.38, \"p\": 4, \"fpr\": 0.0, \"tpr\": 0.5, \"n\": 3}, {\"threshold\": 0.381, \"p\": 4, \"fpr\": 0.0, \"tpr\": 0.5, \"n\": 3}, {\"threshold\": 0.382, \"p\": 4, \"fpr\": 0.0, \"tpr\": 0.5, \"n\": 3}, {\"threshold\": 0.383, \"p\": 4, \"fpr\": 0.0, \"tpr\": 0.5, \"n\": 3}, {\"threshold\": 0.384, \"p\": 4, \"fpr\": 0.0, \"tpr\": 0.5, \"n\": 3}, {\"threshold\": 0.385, \"p\": 4, \"fpr\": 0.0, \"tpr\": 0.5, \"n\": 3}, {\"threshold\": 0.386, \"p\": 4, \"fpr\": 0.0, \"tpr\": 0.5, \"n\": 3}, {\"threshold\": 0.387, \"p\": 4, \"fpr\": 0.0, \"tpr\": 0.5, \"n\": 3}, {\"threshold\": 0.388, \"p\": 4, \"fpr\": 0.0, \"tpr\": 0.5, \"n\": 3}, {\"threshold\": 0.389, \"p\": 4, \"fpr\": 0.0, \"tpr\": 0.5, \"n\": 3}, {\"threshold\": 0.39, \"p\": 4, \"fpr\": 0.0, \"tpr\": 0.5, \"n\": 3}, {\"threshold\": 0.391, \"p\": 4, \"fpr\": 0.0, \"tpr\": 0.5, \"n\": 3}, {\"threshold\": 0.392, \"p\": 4, \"fpr\": 0.0, \"tpr\": 0.5, \"n\": 3}, {\"threshold\": 0.393, \"p\": 4, \"fpr\": 0.0, \"tpr\": 0.5, \"n\": 3}, {\"threshold\": 0.394, \"p\": 4, \"fpr\": 0.0, \"tpr\": 0.5, \"n\": 3}, {\"threshold\": 0.395, \"p\": 4, \"fpr\": 0.0, \"tpr\": 0.5, \"n\": 3}, {\"threshold\": 0.396, \"p\": 4, \"fpr\": 0.0, \"tpr\": 0.5, \"n\": 3}, {\"threshold\": 0.397, \"p\": 4, \"fpr\": 0.0, \"tpr\": 0.5, \"n\": 3}, {\"threshold\": 0.398, \"p\": 4, \"fpr\": 0.0, \"tpr\": 0.5, \"n\": 3}, {\"threshold\": 0.399, \"p\": 4, \"fpr\": 0.0, \"tpr\": 0.5, \"n\": 3}, {\"threshold\": 0.4, \"p\": 4, \"fpr\": 0.0, \"tpr\": 0.5, \"n\": 3}, {\"threshold\": 0.401, \"p\": 4, \"fpr\": 0.0, \"tpr\": 0.5, \"n\": 3}, {\"threshold\": 0.402, \"p\": 4, \"fpr\": 0.0, \"tpr\": 0.5, \"n\": 3}, {\"threshold\": 0.403, \"p\": 4, \"fpr\": 0.0, \"tpr\": 0.5, \"n\": 3}, {\"threshold\": 0.404, \"p\": 4, \"fpr\": 0.0, \"tpr\": 0.5, \"n\": 3}, {\"threshold\": 0.405, \"p\": 4, \"fpr\": 0.0, \"tpr\": 0.5, \"n\": 3}, {\"threshold\": 0.406, \"p\": 4, \"fpr\": 0.0, \"tpr\": 0.5, \"n\": 3}, {\"threshold\": 0.407, \"p\": 4, \"fpr\": 0.0, \"tpr\": 0.5, \"n\": 3}, {\"threshold\": 0.408, \"p\": 4, \"fpr\": 0.0, \"tpr\": 0.5, \"n\": 3}, {\"threshold\": 0.409, \"p\": 4, \"fpr\": 0.0, \"tpr\": 0.5, \"n\": 3}, {\"threshold\": 0.41, \"p\": 4, \"fpr\": 0.0, \"tpr\": 0.5, \"n\": 3}, {\"threshold\": 0.411, \"p\": 4, \"fpr\": 0.0, \"tpr\": 0.5, \"n\": 3}, {\"threshold\": 0.412, \"p\": 4, \"fpr\": 0.0, \"tpr\": 0.5, \"n\": 3}, {\"threshold\": 0.413, \"p\": 4, \"fpr\": 0.0, \"tpr\": 0.5, \"n\": 3}, {\"threshold\": 0.414, \"p\": 4, \"fpr\": 0.0, \"tpr\": 0.5, \"n\": 3}, {\"threshold\": 0.415, \"p\": 4, \"fpr\": 0.0, \"tpr\": 0.5, \"n\": 3}, {\"threshold\": 0.416, \"p\": 4, \"fpr\": 0.0, \"tpr\": 0.5, \"n\": 3}, {\"threshold\": 0.417, \"p\": 4, \"fpr\": 0.0, \"tpr\": 0.5, \"n\": 3}, {\"threshold\": 0.418, \"p\": 4, \"fpr\": 0.0, \"tpr\": 0.5, \"n\": 3}, {\"threshold\": 0.419, \"p\": 4, \"fpr\": 0.0, \"tpr\": 0.5, \"n\": 3}, {\"threshold\": 0.42, \"p\": 4, \"fpr\": 0.0, \"tpr\": 0.5, \"n\": 3}, {\"threshold\": 0.421, \"p\": 4, \"fpr\": 0.0, \"tpr\": 0.5, \"n\": 3}, {\"threshold\": 0.422, \"p\": 4, \"fpr\": 0.0, \"tpr\": 0.5, \"n\": 3}, {\"threshold\": 0.423, \"p\": 4, \"fpr\": 0.0, \"tpr\": 0.5, \"n\": 3}, {\"threshold\": 0.424, \"p\": 4, \"fpr\": 0.0, \"tpr\": 0.5, \"n\": 3}, {\"threshold\": 0.425, \"p\": 4, \"fpr\": 0.0, \"tpr\": 0.5, \"n\": 3}, {\"threshold\": 0.426, \"p\": 4, \"fpr\": 0.0, \"tpr\": 0.5, \"n\": 3}, {\"threshold\": 0.427, \"p\": 4, \"fpr\": 0.0, \"tpr\": 0.5, \"n\": 3}, {\"threshold\": 0.428, \"p\": 4, \"fpr\": 0.0, \"tpr\": 0.5, \"n\": 3}, {\"threshold\": 0.429, \"p\": 4, \"fpr\": 0.0, \"tpr\": 0.5, \"n\": 3}, {\"threshold\": 0.43, \"p\": 4, \"fpr\": 0.0, \"tpr\": 0.5, \"n\": 3}, {\"threshold\": 0.431, \"p\": 4, \"fpr\": 0.0, \"tpr\": 0.25, \"n\": 3}, {\"threshold\": 0.432, \"p\": 4, \"fpr\": 0.0, \"tpr\": 0.25, \"n\": 3}, {\"threshold\": 0.433, \"p\": 4, \"fpr\": 0.0, \"tpr\": 0.25, \"n\": 3}, {\"threshold\": 0.434, \"p\": 4, \"fpr\": 0.0, \"tpr\": 0.25, \"n\": 3}, {\"threshold\": 0.435, \"p\": 4, \"fpr\": 0.0, \"tpr\": 0.25, \"n\": 3}, {\"threshold\": 0.436, \"p\": 4, \"fpr\": 0.0, \"tpr\": 0.25, \"n\": 3}, {\"threshold\": 0.437, \"p\": 4, \"fpr\": 0.0, \"tpr\": 0.25, \"n\": 3}, {\"threshold\": 0.438, \"p\": 4, \"fpr\": 0.0, \"tpr\": 0.25, \"n\": 3}, {\"threshold\": 0.439, \"p\": 4, \"fpr\": 0.0, \"tpr\": 0.25, \"n\": 3}, {\"threshold\": 0.44, \"p\": 4, \"fpr\": 0.0, \"tpr\": 0.25, \"n\": 3}, {\"threshold\": 0.441, \"p\": 4, \"fpr\": 0.0, \"tpr\": 0.25, \"n\": 3}, {\"threshold\": 0.442, \"p\": 4, \"fpr\": 0.0, \"tpr\": 0.25, \"n\": 3}, {\"threshold\": 0.443, \"p\": 4, \"fpr\": 0.0, \"tpr\": 0.25, \"n\": 3}, {\"threshold\": 0.444, \"p\": 4, \"fpr\": 0.0, \"tpr\": 0.25, \"n\": 3}, {\"threshold\": 0.445, \"p\": 4, \"fpr\": 0.0, \"tpr\": 0.25, \"n\": 3}, {\"threshold\": 0.446, \"p\": 4, \"fpr\": 0.0, \"tpr\": 0.25, \"n\": 3}, {\"threshold\": 0.447, \"p\": 4, \"fpr\": 0.0, \"tpr\": 0.25, \"n\": 3}, {\"threshold\": 0.448, \"p\": 4, \"fpr\": 0.0, \"tpr\": 0.25, \"n\": 3}, {\"threshold\": 0.449, \"p\": 4, \"fpr\": 0.0, \"tpr\": 0.25, \"n\": 3}, {\"threshold\": 0.45, \"p\": 4, \"fpr\": 0.0, \"tpr\": 0.25, \"n\": 3}, {\"threshold\": 0.451, \"p\": 4, \"fpr\": 0.0, \"tpr\": 0.25, \"n\": 3}, {\"threshold\": 0.452, \"p\": 4, \"fpr\": 0.0, \"tpr\": 0.25, \"n\": 3}, {\"threshold\": 0.453, \"p\": 4, \"fpr\": 0.0, \"tpr\": 0.25, \"n\": 3}, {\"threshold\": 0.454, \"p\": 4, \"fpr\": 0.0, \"tpr\": 0.25, \"n\": 3}, {\"threshold\": 0.455, \"p\": 4, \"fpr\": 0.0, \"tpr\": 0.25, \"n\": 3}, {\"threshold\": 0.456, \"p\": 4, \"fpr\": 0.0, \"tpr\": 0.25, \"n\": 3}, {\"threshold\": 0.457, \"p\": 4, \"fpr\": 0.0, \"tpr\": 0.25, \"n\": 3}, {\"threshold\": 0.458, \"p\": 4, \"fpr\": 0.0, \"tpr\": 0.25, \"n\": 3}, {\"threshold\": 0.459, \"p\": 4, \"fpr\": 0.0, \"tpr\": 0.25, \"n\": 3}, {\"threshold\": 0.46, \"p\": 4, \"fpr\": 0.0, \"tpr\": 0.25, \"n\": 3}, {\"threshold\": 0.461, \"p\": 4, \"fpr\": 0.0, \"tpr\": 0.25, \"n\": 3}, {\"threshold\": 0.462, \"p\": 4, \"fpr\": 0.0, \"tpr\": 0.25, \"n\": 3}, {\"threshold\": 0.463, \"p\": 4, \"fpr\": 0.0, \"tpr\": 0.25, \"n\": 3}, {\"threshold\": 0.464, \"p\": 4, \"fpr\": 0.0, \"tpr\": 0.25, \"n\": 3}, {\"threshold\": 0.465, \"p\": 4, \"fpr\": 0.0, \"tpr\": 0.25, \"n\": 3}, {\"threshold\": 0.466, \"p\": 4, \"fpr\": 0.0, \"tpr\": 0.25, \"n\": 3}, {\"threshold\": 0.467, \"p\": 4, \"fpr\": 0.0, \"tpr\": 0.25, \"n\": 3}, {\"threshold\": 0.468, \"p\": 4, \"fpr\": 0.0, \"tpr\": 0.25, \"n\": 3}, {\"threshold\": 0.469, \"p\": 4, \"fpr\": 0.0, \"tpr\": 0.25, \"n\": 3}, {\"threshold\": 0.47, \"p\": 4, \"fpr\": 0.0, \"tpr\": 0.25, \"n\": 3}, {\"threshold\": 0.471, \"p\": 4, \"fpr\": 0.0, \"tpr\": 0.25, \"n\": 3}, {\"threshold\": 0.472, \"p\": 4, \"fpr\": 0.0, \"tpr\": 0.25, \"n\": 3}, {\"threshold\": 0.473, \"p\": 4, \"fpr\": 0.0, \"tpr\": 0.25, \"n\": 3}, {\"threshold\": 0.474, \"p\": 4, \"fpr\": 0.0, \"tpr\": 0.25, \"n\": 3}, {\"threshold\": 0.475, \"p\": 4, \"fpr\": 0.0, \"tpr\": 0.25, \"n\": 3}, {\"threshold\": 0.476, \"p\": 4, \"fpr\": 0.0, \"tpr\": 0.25, \"n\": 3}, {\"threshold\": 0.477, \"p\": 4, \"fpr\": 0.0, \"tpr\": 0.25, \"n\": 3}, {\"threshold\": 0.478, \"p\": 4, \"fpr\": 0.0, \"tpr\": 0.25, \"n\": 3}, {\"threshold\": 0.479, \"p\": 4, \"fpr\": 0.0, \"tpr\": 0.25, \"n\": 3}, {\"threshold\": 0.48, \"p\": 4, \"fpr\": 0.0, \"tpr\": 0.25, \"n\": 3}, {\"threshold\": 0.481, \"p\": 4, \"fpr\": 0.0, \"tpr\": 0.25, \"n\": 3}, {\"threshold\": 0.482, \"p\": 4, \"fpr\": 0.0, \"tpr\": 0.25, \"n\": 3}, {\"threshold\": 0.483, \"p\": 4, \"fpr\": 0.0, \"tpr\": 0.25, \"n\": 3}, {\"threshold\": 0.484, \"p\": 4, \"fpr\": 0.0, \"tpr\": 0.25, \"n\": 3}, {\"threshold\": 0.485, \"p\": 4, \"fpr\": 0.0, \"tpr\": 0.25, \"n\": 3}, {\"threshold\": 0.486, \"p\": 4, \"fpr\": 0.0, \"tpr\": 0.25, \"n\": 3}, {\"threshold\": 0.487, \"p\": 4, \"fpr\": 0.0, \"tpr\": 0.25, \"n\": 3}, {\"threshold\": 0.488, \"p\": 4, \"fpr\": 0.0, \"tpr\": 0.25, \"n\": 3}, {\"threshold\": 0.489, \"p\": 4, \"fpr\": 0.0, \"tpr\": 0.25, \"n\": 3}, {\"threshold\": 0.49, \"p\": 4, \"fpr\": 0.0, \"tpr\": 0.25, \"n\": 3}, {\"threshold\": 0.491, \"p\": 4, \"fpr\": 0.0, \"tpr\": 0.25, \"n\": 3}, {\"threshold\": 0.492, \"p\": 4, \"fpr\": 0.0, \"tpr\": 0.25, \"n\": 3}, {\"threshold\": 0.493, \"p\": 4, \"fpr\": 0.0, \"tpr\": 0.25, \"n\": 3}, {\"threshold\": 0.494, \"p\": 4, \"fpr\": 0.0, \"tpr\": 0.25, \"n\": 3}, {\"threshold\": 0.495, \"p\": 4, \"fpr\": 0.0, \"tpr\": 0.25, \"n\": 3}, {\"threshold\": 0.496, \"p\": 4, \"fpr\": 0.0, \"tpr\": 0.25, \"n\": 3}, {\"threshold\": 0.497, \"p\": 4, \"fpr\": 0.0, \"tpr\": 0.25, \"n\": 3}, {\"threshold\": 0.498, \"p\": 4, \"fpr\": 0.0, \"tpr\": 0.25, \"n\": 3}, {\"threshold\": 0.499, \"p\": 4, \"fpr\": 0.0, \"tpr\": 0.25, \"n\": 3}, {\"threshold\": 0.5, \"p\": 4, \"fpr\": 0.0, \"tpr\": 0.25, \"n\": 3}, {\"threshold\": 0.501, \"p\": 4, \"fpr\": 0.0, \"tpr\": 0.25, \"n\": 3}, {\"threshold\": 0.502, \"p\": 4, \"fpr\": 0.0, \"tpr\": 0.25, \"n\": 3}, {\"threshold\": 0.503, \"p\": 4, \"fpr\": 0.0, \"tpr\": 0.25, \"n\": 3}, {\"threshold\": 0.504, \"p\": 4, \"fpr\": 0.0, \"tpr\": 0.25, \"n\": 3}, {\"threshold\": 0.505, \"p\": 4, \"fpr\": 0.0, \"tpr\": 0.25, \"n\": 3}, {\"threshold\": 0.506, \"p\": 4, \"fpr\": 0.0, \"tpr\": 0.25, \"n\": 3}, {\"threshold\": 0.507, \"p\": 4, \"fpr\": 0.0, \"tpr\": 0.25, \"n\": 3}, {\"threshold\": 0.508, \"p\": 4, \"fpr\": 0.0, \"tpr\": 0.25, \"n\": 3}, {\"threshold\": 0.509, \"p\": 4, \"fpr\": 0.0, \"tpr\": 0.25, \"n\": 3}, {\"threshold\": 0.51, \"p\": 4, \"fpr\": 0.0, \"tpr\": 0.25, \"n\": 3}, {\"threshold\": 0.511, \"p\": 4, \"fpr\": 0.0, \"tpr\": 0.25, \"n\": 3}, {\"threshold\": 0.512, \"p\": 4, \"fpr\": 0.0, \"tpr\": 0.25, \"n\": 3}, {\"threshold\": 0.513, \"p\": 4, \"fpr\": 0.0, \"tpr\": 0.25, \"n\": 3}, {\"threshold\": 0.514, \"p\": 4, \"fpr\": 0.0, \"tpr\": 0.25, \"n\": 3}, {\"threshold\": 0.515, \"p\": 4, \"fpr\": 0.0, \"tpr\": 0.25, \"n\": 3}, {\"threshold\": 0.516, \"p\": 4, \"fpr\": 0.0, \"tpr\": 0.25, \"n\": 3}, {\"threshold\": 0.517, \"p\": 4, \"fpr\": 0.0, \"tpr\": 0.25, \"n\": 3}, {\"threshold\": 0.518, \"p\": 4, \"fpr\": 0.0, \"tpr\": 0.25, \"n\": 3}, {\"threshold\": 0.519, \"p\": 4, \"fpr\": 0.0, \"tpr\": 0.25, \"n\": 3}, {\"threshold\": 0.52, \"p\": 4, \"fpr\": 0.0, \"tpr\": 0.25, \"n\": 3}, {\"threshold\": 0.521, \"p\": 4, \"fpr\": 0.0, \"tpr\": 0.25, \"n\": 3}, {\"threshold\": 0.522, \"p\": 4, \"fpr\": 0.0, \"tpr\": 0.25, \"n\": 3}, {\"threshold\": 0.523, \"p\": 4, \"fpr\": 0.0, \"tpr\": 0.25, \"n\": 3}, {\"threshold\": 0.524, \"p\": 4, \"fpr\": 0.0, \"tpr\": 0.25, \"n\": 3}, {\"threshold\": 0.525, \"p\": 4, \"fpr\": 0.0, \"tpr\": 0.25, \"n\": 3}, {\"threshold\": 0.526, \"p\": 4, \"fpr\": 0.0, \"tpr\": 0.25, \"n\": 3}, {\"threshold\": 0.527, \"p\": 4, \"fpr\": 0.0, \"tpr\": 0.25, \"n\": 3}, {\"threshold\": 0.528, \"p\": 4, \"fpr\": 0.0, \"tpr\": 0.25, \"n\": 3}, {\"threshold\": 0.529, \"p\": 4, \"fpr\": 0.0, \"tpr\": 0.25, \"n\": 3}, {\"threshold\": 0.53, \"p\": 4, \"fpr\": 0.0, \"tpr\": 0.25, \"n\": 3}, {\"threshold\": 0.531, \"p\": 4, \"fpr\": 0.0, \"tpr\": 0.25, \"n\": 3}, {\"threshold\": 0.532, \"p\": 4, \"fpr\": 0.0, \"tpr\": 0.25, \"n\": 3}, {\"threshold\": 0.533, \"p\": 4, \"fpr\": 0.0, \"tpr\": 0.25, \"n\": 3}, {\"threshold\": 0.534, \"p\": 4, \"fpr\": 0.0, \"tpr\": 0.25, \"n\": 3}, {\"threshold\": 0.535, \"p\": 4, \"fpr\": 0.0, \"tpr\": 0.25, \"n\": 3}, {\"threshold\": 0.536, \"p\": 4, \"fpr\": 0.0, \"tpr\": 0.25, \"n\": 3}, {\"threshold\": 0.537, \"p\": 4, \"fpr\": 0.0, \"tpr\": 0.25, \"n\": 3}, {\"threshold\": 0.538, \"p\": 4, \"fpr\": 0.0, \"tpr\": 0.25, \"n\": 3}, {\"threshold\": 0.539, \"p\": 4, \"fpr\": 0.0, \"tpr\": 0.25, \"n\": 3}, {\"threshold\": 0.54, \"p\": 4, \"fpr\": 0.0, \"tpr\": 0.25, \"n\": 3}, {\"threshold\": 0.541, \"p\": 4, \"fpr\": 0.0, \"tpr\": 0.25, \"n\": 3}, {\"threshold\": 0.542, \"p\": 4, \"fpr\": 0.0, \"tpr\": 0.25, \"n\": 3}, {\"threshold\": 0.543, \"p\": 4, \"fpr\": 0.0, \"tpr\": 0.25, \"n\": 3}, {\"threshold\": 0.544, \"p\": 4, \"fpr\": 0.0, \"tpr\": 0.25, \"n\": 3}, {\"threshold\": 0.545, \"p\": 4, \"fpr\": 0.0, \"tpr\": 0.25, \"n\": 3}, {\"threshold\": 0.546, \"p\": 4, \"fpr\": 0.0, \"tpr\": 0.25, \"n\": 3}, {\"threshold\": 0.547, \"p\": 4, \"fpr\": 0.0, \"tpr\": 0.25, \"n\": 3}, {\"threshold\": 0.548, \"p\": 4, \"fpr\": 0.0, \"tpr\": 0.25, \"n\": 3}, {\"threshold\": 0.549, \"p\": 4, \"fpr\": 0.0, \"tpr\": 0.25, \"n\": 3}, {\"threshold\": 0.55, \"p\": 4, \"fpr\": 0.0, \"tpr\": 0.25, \"n\": 3}, {\"threshold\": 0.551, \"p\": 4, \"fpr\": 0.0, \"tpr\": 0.25, \"n\": 3}, {\"threshold\": 0.552, \"p\": 4, \"fpr\": 0.0, \"tpr\": 0.25, \"n\": 3}, {\"threshold\": 0.553, \"p\": 4, \"fpr\": 0.0, \"tpr\": 0.25, \"n\": 3}, {\"threshold\": 0.554, \"p\": 4, \"fpr\": 0.0, \"tpr\": 0.25, \"n\": 3}, {\"threshold\": 0.555, \"p\": 4, \"fpr\": 0.0, \"tpr\": 0.25, \"n\": 3}, {\"threshold\": 0.556, \"p\": 4, \"fpr\": 0.0, \"tpr\": 0.25, \"n\": 3}, {\"threshold\": 0.557, \"p\": 4, \"fpr\": 0.0, \"tpr\": 0.25, \"n\": 3}, {\"threshold\": 0.558, \"p\": 4, \"fpr\": 0.0, \"tpr\": 0.25, \"n\": 3}, {\"threshold\": 0.559, \"p\": 4, \"fpr\": 0.0, \"tpr\": 0.25, \"n\": 3}, {\"threshold\": 0.56, \"p\": 4, \"fpr\": 0.0, \"tpr\": 0.25, \"n\": 3}, {\"threshold\": 0.561, \"p\": 4, \"fpr\": 0.0, \"tpr\": 0.25, \"n\": 3}, {\"threshold\": 0.562, \"p\": 4, \"fpr\": 0.0, \"tpr\": 0.25, \"n\": 3}, {\"threshold\": 0.563, \"p\": 4, \"fpr\": 0.0, \"tpr\": 0.25, \"n\": 3}, {\"threshold\": 0.564, \"p\": 4, \"fpr\": 0.0, \"tpr\": 0.25, \"n\": 3}, {\"threshold\": 0.565, \"p\": 4, \"fpr\": 0.0, \"tpr\": 0.25, \"n\": 3}, {\"threshold\": 0.566, \"p\": 4, \"fpr\": 0.0, \"tpr\": 0.25, \"n\": 3}, {\"threshold\": 0.567, \"p\": 4, \"fpr\": 0.0, \"tpr\": 0.25, \"n\": 3}, {\"threshold\": 0.568, \"p\": 4, \"fpr\": 0.0, \"tpr\": 0.25, \"n\": 3}, {\"threshold\": 0.569, \"p\": 4, \"fpr\": 0.0, \"tpr\": 0.25, \"n\": 3}, {\"threshold\": 0.57, \"p\": 4, \"fpr\": 0.0, \"tpr\": 0.25, \"n\": 3}, {\"threshold\": 0.571, \"p\": 4, \"fpr\": 0.0, \"tpr\": 0.25, \"n\": 3}, {\"threshold\": 0.572, \"p\": 4, \"fpr\": 0.0, \"tpr\": 0.25, \"n\": 3}, {\"threshold\": 0.573, \"p\": 4, \"fpr\": 0.0, \"tpr\": 0.25, \"n\": 3}, {\"threshold\": 0.574, \"p\": 4, \"fpr\": 0.0, \"tpr\": 0.25, \"n\": 3}, {\"threshold\": 0.575, \"p\": 4, \"fpr\": 0.0, \"tpr\": 0.25, \"n\": 3}, {\"threshold\": 0.576, \"p\": 4, \"fpr\": 0.0, \"tpr\": 0.25, \"n\": 3}, {\"threshold\": 0.577, \"p\": 4, \"fpr\": 0.0, \"tpr\": 0.25, \"n\": 3}, {\"threshold\": 0.578, \"p\": 4, \"fpr\": 0.0, \"tpr\": 0.25, \"n\": 3}, {\"threshold\": 0.579, \"p\": 4, \"fpr\": 0.0, \"tpr\": 0.25, \"n\": 3}, {\"threshold\": 0.58, \"p\": 4, \"fpr\": 0.0, \"tpr\": 0.25, \"n\": 3}, {\"threshold\": 0.581, \"p\": 4, \"fpr\": 0.0, \"tpr\": 0.25, \"n\": 3}, {\"threshold\": 0.582, \"p\": 4, \"fpr\": 0.0, \"tpr\": 0.25, \"n\": 3}, {\"threshold\": 0.583, \"p\": 4, \"fpr\": 0.0, \"tpr\": 0.25, \"n\": 3}, {\"threshold\": 0.584, \"p\": 4, \"fpr\": 0.0, \"tpr\": 0.25, \"n\": 3}, {\"threshold\": 0.585, \"p\": 4, \"fpr\": 0.0, \"tpr\": 0.25, \"n\": 3}, {\"threshold\": 0.586, \"p\": 4, \"fpr\": 0.0, \"tpr\": 0.25, \"n\": 3}, {\"threshold\": 0.587, \"p\": 4, \"fpr\": 0.0, \"tpr\": 0.25, \"n\": 3}, {\"threshold\": 0.588, \"p\": 4, \"fpr\": 0.0, \"tpr\": 0.25, \"n\": 3}, {\"threshold\": 0.589, \"p\": 4, \"fpr\": 0.0, \"tpr\": 0.25, \"n\": 3}, {\"threshold\": 0.59, \"p\": 4, \"fpr\": 0.0, \"tpr\": 0.25, \"n\": 3}, {\"threshold\": 0.591, \"p\": 4, \"fpr\": 0.0, \"tpr\": 0.25, \"n\": 3}, {\"threshold\": 0.592, \"p\": 4, \"fpr\": 0.0, \"tpr\": 0.25, \"n\": 3}, {\"threshold\": 0.593, \"p\": 4, \"fpr\": 0.0, \"tpr\": 0.25, \"n\": 3}, {\"threshold\": 0.594, \"p\": 4, \"fpr\": 0.0, \"tpr\": 0.25, \"n\": 3}, {\"threshold\": 0.595, \"p\": 4, \"fpr\": 0.0, \"tpr\": 0.25, \"n\": 3}, {\"threshold\": 0.596, \"p\": 4, \"fpr\": 0.0, \"tpr\": 0.25, \"n\": 3}, {\"threshold\": 0.597, \"p\": 4, \"fpr\": 0.0, \"tpr\": 0.25, \"n\": 3}, {\"threshold\": 0.598, \"p\": 4, \"fpr\": 0.0, \"tpr\": 0.25, \"n\": 3}, {\"threshold\": 0.599, \"p\": 4, \"fpr\": 0.0, \"tpr\": 0.25, \"n\": 3}, {\"threshold\": 0.6, \"p\": 4, \"fpr\": 0.0, \"tpr\": 0.25, \"n\": 3}, {\"threshold\": 0.601, \"p\": 4, \"fpr\": 0.0, \"tpr\": 0.25, \"n\": 3}, {\"threshold\": 0.602, \"p\": 4, \"fpr\": 0.0, \"tpr\": 0.25, \"n\": 3}, {\"threshold\": 0.603, \"p\": 4, \"fpr\": 0.0, \"tpr\": 0.25, \"n\": 3}, {\"threshold\": 0.604, \"p\": 4, \"fpr\": 0.0, \"tpr\": 0.25, \"n\": 3}, {\"threshold\": 0.605, \"p\": 4, \"fpr\": 0.0, \"tpr\": 0.25, \"n\": 3}, {\"threshold\": 0.606, \"p\": 4, \"fpr\": 0.0, \"tpr\": 0.25, \"n\": 3}, {\"threshold\": 0.607, \"p\": 4, \"fpr\": 0.0, \"tpr\": 0.25, \"n\": 3}, {\"threshold\": 0.608, \"p\": 4, \"fpr\": 0.0, \"tpr\": 0.25, \"n\": 3}, {\"threshold\": 0.609, \"p\": 4, \"fpr\": 0.0, \"tpr\": 0.25, \"n\": 3}, {\"threshold\": 0.61, \"p\": 4, \"fpr\": 0.0, \"tpr\": 0.25, \"n\": 3}, {\"threshold\": 0.611, \"p\": 4, \"fpr\": 0.0, \"tpr\": 0.25, \"n\": 3}, {\"threshold\": 0.612, \"p\": 4, \"fpr\": 0.0, \"tpr\": 0.25, \"n\": 3}, {\"threshold\": 0.613, \"p\": 4, \"fpr\": 0.0, \"tpr\": 0.25, \"n\": 3}, {\"threshold\": 0.614, \"p\": 4, \"fpr\": 0.0, \"tpr\": 0.25, \"n\": 3}, {\"threshold\": 0.615, \"p\": 4, \"fpr\": 0.0, \"tpr\": 0.25, \"n\": 3}, {\"threshold\": 0.616, \"p\": 4, \"fpr\": 0.0, \"tpr\": 0.25, \"n\": 3}, {\"threshold\": 0.617, \"p\": 4, \"fpr\": 0.0, \"tpr\": 0.25, \"n\": 3}, {\"threshold\": 0.618, \"p\": 4, \"fpr\": 0.0, \"tpr\": 0.25, \"n\": 3}, {\"threshold\": 0.619, \"p\": 4, \"fpr\": 0.0, \"tpr\": 0.25, \"n\": 3}, {\"threshold\": 0.62, \"p\": 4, \"fpr\": 0.0, \"tpr\": 0.25, \"n\": 3}, {\"threshold\": 0.621, \"p\": 4, \"fpr\": 0.0, \"tpr\": 0.25, \"n\": 3}, {\"threshold\": 0.622, \"p\": 4, \"fpr\": 0.0, \"tpr\": 0.25, \"n\": 3}, {\"threshold\": 0.623, \"p\": 4, \"fpr\": 0.0, \"tpr\": 0.25, \"n\": 3}, {\"threshold\": 0.624, \"p\": 4, \"fpr\": 0.0, \"tpr\": 0.25, \"n\": 3}, {\"threshold\": 0.625, \"p\": 4, \"fpr\": 0.0, \"tpr\": 0.25, \"n\": 3}, {\"threshold\": 0.626, \"p\": 4, \"fpr\": 0.0, \"tpr\": 0.25, \"n\": 3}, {\"threshold\": 0.627, \"p\": 4, \"fpr\": 0.0, \"tpr\": 0.25, \"n\": 3}, {\"threshold\": 0.628, \"p\": 4, \"fpr\": 0.0, \"tpr\": 0.25, \"n\": 3}, {\"threshold\": 0.629, \"p\": 4, \"fpr\": 0.0, \"tpr\": 0.25, \"n\": 3}, {\"threshold\": 0.63, \"p\": 4, \"fpr\": 0.0, \"tpr\": 0.25, \"n\": 3}, {\"threshold\": 0.631, \"p\": 4, \"fpr\": 0.0, \"tpr\": 0.25, \"n\": 3}, {\"threshold\": 0.632, \"p\": 4, \"fpr\": 0.0, \"tpr\": 0.25, \"n\": 3}, {\"threshold\": 0.633, \"p\": 4, \"fpr\": 0.0, \"tpr\": 0.25, \"n\": 3}, {\"threshold\": 0.634, \"p\": 4, \"fpr\": 0.0, \"tpr\": 0.25, \"n\": 3}, {\"threshold\": 0.635, \"p\": 4, \"fpr\": 0.0, \"tpr\": 0.25, \"n\": 3}, {\"threshold\": 0.636, \"p\": 4, \"fpr\": 0.0, \"tpr\": 0.25, \"n\": 3}, {\"threshold\": 0.637, \"p\": 4, \"fpr\": 0.0, \"tpr\": 0.25, \"n\": 3}, {\"threshold\": 0.638, \"p\": 4, \"fpr\": 0.0, \"tpr\": 0.25, \"n\": 3}, {\"threshold\": 0.639, \"p\": 4, \"fpr\": 0.0, \"tpr\": 0.25, \"n\": 3}, {\"threshold\": 0.64, \"p\": 4, \"fpr\": 0.0, \"tpr\": 0.25, \"n\": 3}, {\"threshold\": 0.641, \"p\": 4, \"fpr\": 0.0, \"tpr\": 0.25, \"n\": 3}, {\"threshold\": 0.642, \"p\": 4, \"fpr\": 0.0, \"tpr\": 0.25, \"n\": 3}, {\"threshold\": 0.643, \"p\": 4, \"fpr\": 0.0, \"tpr\": 0.25, \"n\": 3}, {\"threshold\": 0.644, \"p\": 4, \"fpr\": 0.0, \"tpr\": 0.25, \"n\": 3}, {\"threshold\": 0.645, \"p\": 4, \"fpr\": 0.0, \"tpr\": 0.25, \"n\": 3}, {\"threshold\": 0.646, \"p\": 4, \"fpr\": 0.0, \"tpr\": 0.25, \"n\": 3}, {\"threshold\": 0.647, \"p\": 4, \"fpr\": 0.0, \"tpr\": 0.25, \"n\": 3}, {\"threshold\": 0.648, \"p\": 4, \"fpr\": 0.0, \"tpr\": 0.25, \"n\": 3}, {\"threshold\": 0.649, \"p\": 4, \"fpr\": 0.0, \"tpr\": 0.25, \"n\": 3}, {\"threshold\": 0.65, \"p\": 4, \"fpr\": 0.0, \"tpr\": 0.25, \"n\": 3}, {\"threshold\": 0.651, \"p\": 4, \"fpr\": 0.0, \"tpr\": 0.25, \"n\": 3}, {\"threshold\": 0.652, \"p\": 4, \"fpr\": 0.0, \"tpr\": 0.25, \"n\": 3}, {\"threshold\": 0.653, \"p\": 4, \"fpr\": 0.0, \"tpr\": 0.25, \"n\": 3}, {\"threshold\": 0.654, \"p\": 4, \"fpr\": 0.0, \"tpr\": 0.25, \"n\": 3}, {\"threshold\": 0.655, \"p\": 4, \"fpr\": 0.0, \"tpr\": 0.25, \"n\": 3}, {\"threshold\": 0.656, \"p\": 4, \"fpr\": 0.0, \"tpr\": 0.25, \"n\": 3}, {\"threshold\": 0.657, \"p\": 4, \"fpr\": 0.0, \"tpr\": 0.25, \"n\": 3}, {\"threshold\": 0.658, \"p\": 4, \"fpr\": 0.0, \"tpr\": 0.25, \"n\": 3}, {\"threshold\": 0.659, \"p\": 4, \"fpr\": 0.0, \"tpr\": 0.25, \"n\": 3}, {\"threshold\": 0.66, \"p\": 4, \"fpr\": 0.0, \"tpr\": 0.25, \"n\": 3}, {\"threshold\": 0.661, \"p\": 4, \"fpr\": 0.0, \"tpr\": 0.25, \"n\": 3}, {\"threshold\": 0.662, \"p\": 4, \"fpr\": 0.0, \"tpr\": 0.25, \"n\": 3}, {\"threshold\": 0.663, \"p\": 4, \"fpr\": 0.0, \"tpr\": 0.25, \"n\": 3}, {\"threshold\": 0.664, \"p\": 4, \"fpr\": 0.0, \"tpr\": 0.25, \"n\": 3}, {\"threshold\": 0.665, \"p\": 4, \"fpr\": 0.0, \"tpr\": 0.25, \"n\": 3}, {\"threshold\": 0.666, \"p\": 4, \"fpr\": 0.0, \"tpr\": 0.25, \"n\": 3}, {\"threshold\": 0.667, \"p\": 4, \"fpr\": 0.0, \"tpr\": 0.25, \"n\": 3}, {\"threshold\": 0.668, \"p\": 4, \"fpr\": 0.0, \"tpr\": 0.25, \"n\": 3}, {\"threshold\": 0.669, \"p\": 4, \"fpr\": 0.0, \"tpr\": 0.25, \"n\": 3}, {\"threshold\": 0.67, \"p\": 4, \"fpr\": 0.0, \"tpr\": 0.25, \"n\": 3}, {\"threshold\": 0.671, \"p\": 4, \"fpr\": 0.0, \"tpr\": 0.25, \"n\": 3}, {\"threshold\": 0.672, \"p\": 4, \"fpr\": 0.0, \"tpr\": 0.25, \"n\": 3}, {\"threshold\": 0.673, \"p\": 4, \"fpr\": 0.0, \"tpr\": 0.25, \"n\": 3}, {\"threshold\": 0.674, \"p\": 4, \"fpr\": 0.0, \"tpr\": 0.25, \"n\": 3}, {\"threshold\": 0.675, \"p\": 4, \"fpr\": 0.0, \"tpr\": 0.25, \"n\": 3}, {\"threshold\": 0.676, \"p\": 4, \"fpr\": 0.0, \"tpr\": 0.25, \"n\": 3}, {\"threshold\": 0.677, \"p\": 4, \"fpr\": 0.0, \"tpr\": 0.25, \"n\": 3}, {\"threshold\": 0.678, \"p\": 4, \"fpr\": 0.0, \"tpr\": 0.25, \"n\": 3}, {\"threshold\": 0.679, \"p\": 4, \"fpr\": 0.0, \"tpr\": 0.25, \"n\": 3}, {\"threshold\": 0.68, \"p\": 4, \"fpr\": 0.0, \"tpr\": 0.25, \"n\": 3}, {\"threshold\": 0.681, \"p\": 4, \"fpr\": 0.0, \"tpr\": 0.25, \"n\": 3}, {\"threshold\": 0.682, \"p\": 4, \"fpr\": 0.0, \"tpr\": 0.25, \"n\": 3}, {\"threshold\": 0.683, \"p\": 4, \"fpr\": 0.0, \"tpr\": 0.25, \"n\": 3}, {\"threshold\": 0.684, \"p\": 4, \"fpr\": 0.0, \"tpr\": 0.25, \"n\": 3}, {\"threshold\": 0.685, \"p\": 4, \"fpr\": 0.0, \"tpr\": 0.25, \"n\": 3}, {\"threshold\": 0.686, \"p\": 4, \"fpr\": 0.0, \"tpr\": 0.25, \"n\": 3}, {\"threshold\": 0.687, \"p\": 4, \"fpr\": 0.0, \"tpr\": 0.25, \"n\": 3}, {\"threshold\": 0.688, \"p\": 4, \"fpr\": 0.0, \"tpr\": 0.25, \"n\": 3}, {\"threshold\": 0.689, \"p\": 4, \"fpr\": 0.0, \"tpr\": 0.25, \"n\": 3}, {\"threshold\": 0.69, \"p\": 4, \"fpr\": 0.0, \"tpr\": 0.25, \"n\": 3}, {\"threshold\": 0.691, \"p\": 4, \"fpr\": 0.0, \"tpr\": 0.25, \"n\": 3}, {\"threshold\": 0.692, \"p\": 4, \"fpr\": 0.0, \"tpr\": 0.25, \"n\": 3}, {\"threshold\": 0.693, \"p\": 4, \"fpr\": 0.0, \"tpr\": 0.25, \"n\": 3}, {\"threshold\": 0.694, \"p\": 4, \"fpr\": 0.0, \"tpr\": 0.25, \"n\": 3}, {\"threshold\": 0.695, \"p\": 4, \"fpr\": 0.0, \"tpr\": 0.25, \"n\": 3}, {\"threshold\": 0.696, \"p\": 4, \"fpr\": 0.0, \"tpr\": 0.25, \"n\": 3}, {\"threshold\": 0.697, \"p\": 4, \"fpr\": 0.0, \"tpr\": 0.25, \"n\": 3}, {\"threshold\": 0.698, \"p\": 4, \"fpr\": 0.0, \"tpr\": 0.25, \"n\": 3}, {\"threshold\": 0.699, \"p\": 4, \"fpr\": 0.0, \"tpr\": 0.25, \"n\": 3}, {\"threshold\": 0.7, \"p\": 4, \"fpr\": 0.0, \"tpr\": 0.25, \"n\": 3}, {\"threshold\": 0.701, \"p\": 4, \"fpr\": 0.0, \"tpr\": 0.25, \"n\": 3}, {\"threshold\": 0.702, \"p\": 4, \"fpr\": 0.0, \"tpr\": 0.25, \"n\": 3}, {\"threshold\": 0.703, \"p\": 4, \"fpr\": 0.0, \"tpr\": 0.25, \"n\": 3}, {\"threshold\": 0.704, \"p\": 4, \"fpr\": 0.0, \"tpr\": 0.25, \"n\": 3}, {\"threshold\": 0.705, \"p\": 4, \"fpr\": 0.0, \"tpr\": 0.25, \"n\": 3}, {\"threshold\": 0.706, \"p\": 4, \"fpr\": 0.0, \"tpr\": 0.25, \"n\": 3}, {\"threshold\": 0.707, \"p\": 4, \"fpr\": 0.0, \"tpr\": 0.25, \"n\": 3}, {\"threshold\": 0.708, \"p\": 4, \"fpr\": 0.0, \"tpr\": 0.25, \"n\": 3}, {\"threshold\": 0.709, \"p\": 4, \"fpr\": 0.0, \"tpr\": 0.25, \"n\": 3}, {\"threshold\": 0.71, \"p\": 4, \"fpr\": 0.0, \"tpr\": 0.25, \"n\": 3}, {\"threshold\": 0.711, \"p\": 4, \"fpr\": 0.0, \"tpr\": 0.25, \"n\": 3}, {\"threshold\": 0.712, \"p\": 4, \"fpr\": 0.0, \"tpr\": 0.25, \"n\": 3}, {\"threshold\": 0.713, \"p\": 4, \"fpr\": 0.0, \"tpr\": 0.25, \"n\": 3}, {\"threshold\": 0.714, \"p\": 4, \"fpr\": 0.0, \"tpr\": 0.25, \"n\": 3}, {\"threshold\": 0.715, \"p\": 4, \"fpr\": 0.0, \"tpr\": 0.25, \"n\": 3}, {\"threshold\": 0.716, \"p\": 4, \"fpr\": 0.0, \"tpr\": 0.25, \"n\": 3}, {\"threshold\": 0.717, \"p\": 4, \"fpr\": 0.0, \"tpr\": 0.25, \"n\": 3}, {\"threshold\": 0.718, \"p\": 4, \"fpr\": 0.0, \"tpr\": 0.25, \"n\": 3}, {\"threshold\": 0.719, \"p\": 4, \"fpr\": 0.0, \"tpr\": 0.25, \"n\": 3}, {\"threshold\": 0.72, \"p\": 4, \"fpr\": 0.0, \"tpr\": 0.25, \"n\": 3}, {\"threshold\": 0.721, \"p\": 4, \"fpr\": 0.0, \"tpr\": 0.25, \"n\": 3}, {\"threshold\": 0.722, \"p\": 4, \"fpr\": 0.0, \"tpr\": 0.25, \"n\": 3}, {\"threshold\": 0.723, \"p\": 4, \"fpr\": 0.0, \"tpr\": 0.25, \"n\": 3}, {\"threshold\": 0.724, \"p\": 4, \"fpr\": 0.0, \"tpr\": 0.25, \"n\": 3}, {\"threshold\": 0.725, \"p\": 4, \"fpr\": 0.0, \"tpr\": 0.25, \"n\": 3}, {\"threshold\": 0.726, \"p\": 4, \"fpr\": 0.0, \"tpr\": 0.25, \"n\": 3}, {\"threshold\": 0.727, \"p\": 4, \"fpr\": 0.0, \"tpr\": 0.25, \"n\": 3}, {\"threshold\": 0.728, \"p\": 4, \"fpr\": 0.0, \"tpr\": 0.25, \"n\": 3}, {\"threshold\": 0.729, \"p\": 4, \"fpr\": 0.0, \"tpr\": 0.25, \"n\": 3}, {\"threshold\": 0.73, \"p\": 4, \"fpr\": 0.0, \"tpr\": 0.25, \"n\": 3}, {\"threshold\": 0.731, \"p\": 4, \"fpr\": 0.0, \"tpr\": 0.25, \"n\": 3}, {\"threshold\": 0.732, \"p\": 4, \"fpr\": 0.0, \"tpr\": 0.25, \"n\": 3}, {\"threshold\": 0.733, \"p\": 4, \"fpr\": 0.0, \"tpr\": 0.25, \"n\": 3}, {\"threshold\": 0.734, \"p\": 4, \"fpr\": 0.0, \"tpr\": 0.25, \"n\": 3}, {\"threshold\": 0.735, \"p\": 4, \"fpr\": 0.0, \"tpr\": 0.25, \"n\": 3}, {\"threshold\": 0.736, \"p\": 4, \"fpr\": 0.0, \"tpr\": 0.25, \"n\": 3}, {\"threshold\": 0.737, \"p\": 4, \"fpr\": 0.0, \"tpr\": 0.25, \"n\": 3}, {\"threshold\": 0.738, \"p\": 4, \"fpr\": 0.0, \"tpr\": 0.25, \"n\": 3}, {\"threshold\": 0.739, \"p\": 4, \"fpr\": 0.0, \"tpr\": 0.25, \"n\": 3}, {\"threshold\": 0.74, \"p\": 4, \"fpr\": 0.0, \"tpr\": 0.25, \"n\": 3}, {\"threshold\": 0.741, \"p\": 4, \"fpr\": 0.0, \"tpr\": 0.25, \"n\": 3}, {\"threshold\": 0.742, \"p\": 4, \"fpr\": 0.0, \"tpr\": 0.25, \"n\": 3}, {\"threshold\": 0.743, \"p\": 4, \"fpr\": 0.0, \"tpr\": 0.25, \"n\": 3}, {\"threshold\": 0.744, \"p\": 4, \"fpr\": 0.0, \"tpr\": 0.25, \"n\": 3}, {\"threshold\": 0.745, \"p\": 4, \"fpr\": 0.0, \"tpr\": 0.25, \"n\": 3}, {\"threshold\": 0.746, \"p\": 4, \"fpr\": 0.0, \"tpr\": 0.25, \"n\": 3}, {\"threshold\": 0.747, \"p\": 4, \"fpr\": 0.0, \"tpr\": 0.25, \"n\": 3}, {\"threshold\": 0.748, \"p\": 4, \"fpr\": 0.0, \"tpr\": 0.25, \"n\": 3}, {\"threshold\": 0.749, \"p\": 4, \"fpr\": 0.0, \"tpr\": 0.25, \"n\": 3}, {\"threshold\": 0.75, \"p\": 4, \"fpr\": 0.0, \"tpr\": 0.25, \"n\": 3}, {\"threshold\": 0.751, \"p\": 4, \"fpr\": 0.0, \"tpr\": 0.25, \"n\": 3}, {\"threshold\": 0.752, \"p\": 4, \"fpr\": 0.0, \"tpr\": 0.25, \"n\": 3}, {\"threshold\": 0.753, \"p\": 4, \"fpr\": 0.0, \"tpr\": 0.25, \"n\": 3}, {\"threshold\": 0.754, \"p\": 4, \"fpr\": 0.0, \"tpr\": 0.25, \"n\": 3}, {\"threshold\": 0.755, \"p\": 4, \"fpr\": 0.0, \"tpr\": 0.25, \"n\": 3}, {\"threshold\": 0.756, \"p\": 4, \"fpr\": 0.0, \"tpr\": 0.25, \"n\": 3}, {\"threshold\": 0.757, \"p\": 4, \"fpr\": 0.0, \"tpr\": 0.25, \"n\": 3}, {\"threshold\": 0.758, \"p\": 4, \"fpr\": 0.0, \"tpr\": 0.25, \"n\": 3}, {\"threshold\": 0.759, \"p\": 4, \"fpr\": 0.0, \"tpr\": 0.25, \"n\": 3}, {\"threshold\": 0.76, \"p\": 4, \"fpr\": 0.0, \"tpr\": 0.25, \"n\": 3}, {\"threshold\": 0.761, \"p\": 4, \"fpr\": 0.0, \"tpr\": 0.25, \"n\": 3}, {\"threshold\": 0.762, \"p\": 4, \"fpr\": 0.0, \"tpr\": 0.25, \"n\": 3}, {\"threshold\": 0.763, \"p\": 4, \"fpr\": 0.0, \"tpr\": 0.25, \"n\": 3}, {\"threshold\": 0.764, \"p\": 4, \"fpr\": 0.0, \"tpr\": 0.25, \"n\": 3}, {\"threshold\": 0.765, \"p\": 4, \"fpr\": 0.0, \"tpr\": 0.25, \"n\": 3}, {\"threshold\": 0.766, \"p\": 4, \"fpr\": 0.0, \"tpr\": 0.25, \"n\": 3}, {\"threshold\": 0.767, \"p\": 4, \"fpr\": 0.0, \"tpr\": 0.25, \"n\": 3}, {\"threshold\": 0.768, \"p\": 4, \"fpr\": 0.0, \"tpr\": 0.25, \"n\": 3}, {\"threshold\": 0.769, \"p\": 4, \"fpr\": 0.0, \"tpr\": 0.25, \"n\": 3}, {\"threshold\": 0.77, \"p\": 4, \"fpr\": 0.0, \"tpr\": 0.25, \"n\": 3}, {\"threshold\": 0.771, \"p\": 4, \"fpr\": 0.0, \"tpr\": 0.25, \"n\": 3}, {\"threshold\": 0.772, \"p\": 4, \"fpr\": 0.0, \"tpr\": 0.25, \"n\": 3}, {\"threshold\": 0.773, \"p\": 4, \"fpr\": 0.0, \"tpr\": 0.25, \"n\": 3}, {\"threshold\": 0.774, \"p\": 4, \"fpr\": 0.0, \"tpr\": 0.25, \"n\": 3}, {\"threshold\": 0.775, \"p\": 4, \"fpr\": 0.0, \"tpr\": 0.25, \"n\": 3}, {\"threshold\": 0.776, \"p\": 4, \"fpr\": 0.0, \"tpr\": 0.25, \"n\": 3}, {\"threshold\": 0.777, \"p\": 4, \"fpr\": 0.0, \"tpr\": 0.25, \"n\": 3}, {\"threshold\": 0.778, \"p\": 4, \"fpr\": 0.0, \"tpr\": 0.25, \"n\": 3}, {\"threshold\": 0.779, \"p\": 4, \"fpr\": 0.0, \"tpr\": 0.25, \"n\": 3}, {\"threshold\": 0.78, \"p\": 4, \"fpr\": 0.0, \"tpr\": 0.25, \"n\": 3}, {\"threshold\": 0.781, \"p\": 4, \"fpr\": 0.0, \"tpr\": 0.25, \"n\": 3}, {\"threshold\": 0.782, \"p\": 4, \"fpr\": 0.0, \"tpr\": 0.25, \"n\": 3}, {\"threshold\": 0.783, \"p\": 4, \"fpr\": 0.0, \"tpr\": 0.25, \"n\": 3}, {\"threshold\": 0.784, \"p\": 4, \"fpr\": 0.0, \"tpr\": 0.25, \"n\": 3}, {\"threshold\": 0.785, \"p\": 4, \"fpr\": 0.0, \"tpr\": 0.25, \"n\": 3}, {\"threshold\": 0.786, \"p\": 4, \"fpr\": 0.0, \"tpr\": 0.25, \"n\": 3}, {\"threshold\": 0.787, \"p\": 4, \"fpr\": 0.0, \"tpr\": 0.25, \"n\": 3}, {\"threshold\": 0.788, \"p\": 4, \"fpr\": 0.0, \"tpr\": 0.25, \"n\": 3}, {\"threshold\": 0.789, \"p\": 4, \"fpr\": 0.0, \"tpr\": 0.25, \"n\": 3}, {\"threshold\": 0.79, \"p\": 4, \"fpr\": 0.0, \"tpr\": 0.25, \"n\": 3}, {\"threshold\": 0.791, \"p\": 4, \"fpr\": 0.0, \"tpr\": 0.25, \"n\": 3}, {\"threshold\": 0.792, \"p\": 4, \"fpr\": 0.0, \"tpr\": 0.25, \"n\": 3}, {\"threshold\": 0.793, \"p\": 4, \"fpr\": 0.0, \"tpr\": 0.25, \"n\": 3}, {\"threshold\": 0.794, \"p\": 4, \"fpr\": 0.0, \"tpr\": 0.25, \"n\": 3}, {\"threshold\": 0.795, \"p\": 4, \"fpr\": 0.0, \"tpr\": 0.25, \"n\": 3}, {\"threshold\": 0.796, \"p\": 4, \"fpr\": 0.0, \"tpr\": 0.25, \"n\": 3}, {\"threshold\": 0.797, \"p\": 4, \"fpr\": 0.0, \"tpr\": 0.25, \"n\": 3}, {\"threshold\": 0.798, \"p\": 4, \"fpr\": 0.0, \"tpr\": 0.25, \"n\": 3}, {\"threshold\": 0.799, \"p\": 4, \"fpr\": 0.0, \"tpr\": 0.25, \"n\": 3}, {\"threshold\": 0.8, \"p\": 4, \"fpr\": 0.0, \"tpr\": 0.25, \"n\": 3}, {\"threshold\": 0.801, \"p\": 4, \"fpr\": 0.0, \"tpr\": 0.25, \"n\": 3}, {\"threshold\": 0.802, \"p\": 4, \"fpr\": 0.0, \"tpr\": 0.25, \"n\": 3}, {\"threshold\": 0.803, \"p\": 4, \"fpr\": 0.0, \"tpr\": 0.25, \"n\": 3}, {\"threshold\": 0.804, \"p\": 4, \"fpr\": 0.0, \"tpr\": 0.25, \"n\": 3}, {\"threshold\": 0.805, \"p\": 4, \"fpr\": 0.0, \"tpr\": 0.25, \"n\": 3}, {\"threshold\": 0.806, \"p\": 4, \"fpr\": 0.0, \"tpr\": 0.25, \"n\": 3}, {\"threshold\": 0.807, \"p\": 4, \"fpr\": 0.0, \"tpr\": 0.25, \"n\": 3}, {\"threshold\": 0.808, \"p\": 4, \"fpr\": 0.0, \"tpr\": 0.25, \"n\": 3}, {\"threshold\": 0.809, \"p\": 4, \"fpr\": 0.0, \"tpr\": 0.25, \"n\": 3}, {\"threshold\": 0.81, \"p\": 4, \"fpr\": 0.0, \"tpr\": 0.25, \"n\": 3}, {\"threshold\": 0.811, \"p\": 4, \"fpr\": 0.0, \"tpr\": 0.25, \"n\": 3}, {\"threshold\": 0.812, \"p\": 4, \"fpr\": 0.0, \"tpr\": 0.25, \"n\": 3}, {\"threshold\": 0.813, \"p\": 4, \"fpr\": 0.0, \"tpr\": 0.25, \"n\": 3}, {\"threshold\": 0.814, \"p\": 4, \"fpr\": 0.0, \"tpr\": 0.25, \"n\": 3}, {\"threshold\": 0.815, \"p\": 4, \"fpr\": 0.0, \"tpr\": 0.25, \"n\": 3}, {\"threshold\": 0.816, \"p\": 4, \"fpr\": 0.0, \"tpr\": 0.25, \"n\": 3}, {\"threshold\": 0.817, \"p\": 4, \"fpr\": 0.0, \"tpr\": 0.25, \"n\": 3}, {\"threshold\": 0.818, \"p\": 4, \"fpr\": 0.0, \"tpr\": 0.25, \"n\": 3}, {\"threshold\": 0.819, \"p\": 4, \"fpr\": 0.0, \"tpr\": 0.25, \"n\": 3}, {\"threshold\": 0.82, \"p\": 4, \"fpr\": 0.0, \"tpr\": 0.25, \"n\": 3}, {\"threshold\": 0.821, \"p\": 4, \"fpr\": 0.0, \"tpr\": 0.25, \"n\": 3}, {\"threshold\": 0.822, \"p\": 4, \"fpr\": 0.0, \"tpr\": 0.25, \"n\": 3}, {\"threshold\": 0.823, \"p\": 4, \"fpr\": 0.0, \"tpr\": 0.25, \"n\": 3}, {\"threshold\": 0.824, \"p\": 4, \"fpr\": 0.0, \"tpr\": 0.25, \"n\": 3}, {\"threshold\": 0.825, \"p\": 4, \"fpr\": 0.0, \"tpr\": 0.25, \"n\": 3}, {\"threshold\": 0.826, \"p\": 4, \"fpr\": 0.0, \"tpr\": 0.25, \"n\": 3}, {\"threshold\": 0.827, \"p\": 4, \"fpr\": 0.0, \"tpr\": 0.25, \"n\": 3}, {\"threshold\": 0.828, \"p\": 4, \"fpr\": 0.0, \"tpr\": 0.25, \"n\": 3}, {\"threshold\": 0.829, \"p\": 4, \"fpr\": 0.0, \"tpr\": 0.25, \"n\": 3}, {\"threshold\": 0.83, \"p\": 4, \"fpr\": 0.0, \"tpr\": 0.25, \"n\": 3}, {\"threshold\": 0.831, \"p\": 4, \"fpr\": 0.0, \"tpr\": 0.25, \"n\": 3}, {\"threshold\": 0.832, \"p\": 4, \"fpr\": 0.0, \"tpr\": 0.25, \"n\": 3}, {\"threshold\": 0.833, \"p\": 4, \"fpr\": 0.0, \"tpr\": 0.25, \"n\": 3}, {\"threshold\": 0.834, \"p\": 4, \"fpr\": 0.0, \"tpr\": 0.25, \"n\": 3}, {\"threshold\": 0.835, \"p\": 4, \"fpr\": 0.0, \"tpr\": 0.25, \"n\": 3}, {\"threshold\": 0.836, \"p\": 4, \"fpr\": 0.0, \"tpr\": 0.25, \"n\": 3}, {\"threshold\": 0.837, \"p\": 4, \"fpr\": 0.0, \"tpr\": 0.25, \"n\": 3}, {\"threshold\": 0.838, \"p\": 4, \"fpr\": 0.0, \"tpr\": 0.25, \"n\": 3}, {\"threshold\": 0.839, \"p\": 4, \"fpr\": 0.0, \"tpr\": 0.25, \"n\": 3}, {\"threshold\": 0.84, \"p\": 4, \"fpr\": 0.0, \"tpr\": 0.25, \"n\": 3}, {\"threshold\": 0.841, \"p\": 4, \"fpr\": 0.0, \"tpr\": 0.25, \"n\": 3}, {\"threshold\": 0.842, \"p\": 4, \"fpr\": 0.0, \"tpr\": 0.25, \"n\": 3}, {\"threshold\": 0.843, \"p\": 4, \"fpr\": 0.0, \"tpr\": 0.25, \"n\": 3}, {\"threshold\": 0.844, \"p\": 4, \"fpr\": 0.0, \"tpr\": 0.25, \"n\": 3}, {\"threshold\": 0.845, \"p\": 4, \"fpr\": 0.0, \"tpr\": 0.25, \"n\": 3}, {\"threshold\": 0.846, \"p\": 4, \"fpr\": 0.0, \"tpr\": 0.25, \"n\": 3}, {\"threshold\": 0.847, \"p\": 4, \"fpr\": 0.0, \"tpr\": 0.25, \"n\": 3}, {\"threshold\": 0.848, \"p\": 4, \"fpr\": 0.0, \"tpr\": 0.25, \"n\": 3}, {\"threshold\": 0.849, \"p\": 4, \"fpr\": 0.0, \"tpr\": 0.25, \"n\": 3}, {\"threshold\": 0.85, \"p\": 4, \"fpr\": 0.0, \"tpr\": 0.25, \"n\": 3}, {\"threshold\": 0.851, \"p\": 4, \"fpr\": 0.0, \"tpr\": 0.25, \"n\": 3}, {\"threshold\": 0.852, \"p\": 4, \"fpr\": 0.0, \"tpr\": 0.25, \"n\": 3}, {\"threshold\": 0.853, \"p\": 4, \"fpr\": 0.0, \"tpr\": 0.25, \"n\": 3}, {\"threshold\": 0.854, \"p\": 4, \"fpr\": 0.0, \"tpr\": 0.25, \"n\": 3}, {\"threshold\": 0.855, \"p\": 4, \"fpr\": 0.0, \"tpr\": 0.25, \"n\": 3}, {\"threshold\": 0.856, \"p\": 4, \"fpr\": 0.0, \"tpr\": 0.25, \"n\": 3}, {\"threshold\": 0.857, \"p\": 4, \"fpr\": 0.0, \"tpr\": 0.25, \"n\": 3}, {\"threshold\": 0.858, \"p\": 4, \"fpr\": 0.0, \"tpr\": 0.25, \"n\": 3}, {\"threshold\": 0.859, \"p\": 4, \"fpr\": 0.0, \"tpr\": 0.25, \"n\": 3}, {\"threshold\": 0.86, \"p\": 4, \"fpr\": 0.0, \"tpr\": 0.25, \"n\": 3}, {\"threshold\": 0.861, \"p\": 4, \"fpr\": 0.0, \"tpr\": 0.25, \"n\": 3}, {\"threshold\": 0.862, \"p\": 4, \"fpr\": 0.0, \"tpr\": 0.25, \"n\": 3}, {\"threshold\": 0.863, \"p\": 4, \"fpr\": 0.0, \"tpr\": 0.25, \"n\": 3}, {\"threshold\": 0.864, \"p\": 4, \"fpr\": 0.0, \"tpr\": 0.25, \"n\": 3}, {\"threshold\": 0.865, \"p\": 4, \"fpr\": 0.0, \"tpr\": 0.25, \"n\": 3}, {\"threshold\": 0.866, \"p\": 4, \"fpr\": 0.0, \"tpr\": 0.25, \"n\": 3}, {\"threshold\": 0.867, \"p\": 4, \"fpr\": 0.0, \"tpr\": 0.25, \"n\": 3}, {\"threshold\": 0.868, \"p\": 4, \"fpr\": 0.0, \"tpr\": 0.25, \"n\": 3}, {\"threshold\": 0.869, \"p\": 4, \"fpr\": 0.0, \"tpr\": 0.25, \"n\": 3}, {\"threshold\": 0.87, \"p\": 4, \"fpr\": 0.0, \"tpr\": 0.25, \"n\": 3}, {\"threshold\": 0.871, \"p\": 4, \"fpr\": 0.0, \"tpr\": 0.25, \"n\": 3}, {\"threshold\": 0.872, \"p\": 4, \"fpr\": 0.0, \"tpr\": 0.25, \"n\": 3}, {\"threshold\": 0.873, \"p\": 4, \"fpr\": 0.0, \"tpr\": 0.25, \"n\": 3}, {\"threshold\": 0.874, \"p\": 4, \"fpr\": 0.0, \"tpr\": 0.25, \"n\": 3}, {\"threshold\": 0.875, \"p\": 4, \"fpr\": 0.0, \"tpr\": 0.25, \"n\": 3}, {\"threshold\": 0.876, \"p\": 4, \"fpr\": 0.0, \"tpr\": 0.25, \"n\": 3}, {\"threshold\": 0.877, \"p\": 4, \"fpr\": 0.0, \"tpr\": 0.25, \"n\": 3}, {\"threshold\": 0.878, \"p\": 4, \"fpr\": 0.0, \"tpr\": 0.25, \"n\": 3}, {\"threshold\": 0.879, \"p\": 4, \"fpr\": 0.0, \"tpr\": 0.25, \"n\": 3}, {\"threshold\": 0.88, \"p\": 4, \"fpr\": 0.0, \"tpr\": 0.25, \"n\": 3}, {\"threshold\": 0.881, \"p\": 4, \"fpr\": 0.0, \"tpr\": 0.25, \"n\": 3}, {\"threshold\": 0.882, \"p\": 4, \"fpr\": 0.0, \"tpr\": 0.25, \"n\": 3}, {\"threshold\": 0.883, \"p\": 4, \"fpr\": 0.0, \"tpr\": 0.25, \"n\": 3}, {\"threshold\": 0.884, \"p\": 4, \"fpr\": 0.0, \"tpr\": 0.25, \"n\": 3}, {\"threshold\": 0.885, \"p\": 4, \"fpr\": 0.0, \"tpr\": 0.25, \"n\": 3}, {\"threshold\": 0.886, \"p\": 4, \"fpr\": 0.0, \"tpr\": 0.25, \"n\": 3}, {\"threshold\": 0.887, \"p\": 4, \"fpr\": 0.0, \"tpr\": 0.25, \"n\": 3}, {\"threshold\": 0.888, \"p\": 4, \"fpr\": 0.0, \"tpr\": 0.25, \"n\": 3}, {\"threshold\": 0.889, \"p\": 4, \"fpr\": 0.0, \"tpr\": 0.25, \"n\": 3}, {\"threshold\": 0.89, \"p\": 4, \"fpr\": 0.0, \"tpr\": 0.25, \"n\": 3}, {\"threshold\": 0.891, \"p\": 4, \"fpr\": 0.0, \"tpr\": 0.25, \"n\": 3}, {\"threshold\": 0.892, \"p\": 4, \"fpr\": 0.0, \"tpr\": 0.25, \"n\": 3}, {\"threshold\": 0.893, \"p\": 4, \"fpr\": 0.0, \"tpr\": 0.25, \"n\": 3}, {\"threshold\": 0.894, \"p\": 4, \"fpr\": 0.0, \"tpr\": 0.0, \"n\": 3}, {\"threshold\": 0.895, \"p\": 4, \"fpr\": 0.0, \"tpr\": 0.0, \"n\": 3}, {\"threshold\": 0.896, \"p\": 4, \"fpr\": 0.0, \"tpr\": 0.0, \"n\": 3}, {\"threshold\": 0.897, \"p\": 4, \"fpr\": 0.0, \"tpr\": 0.0, \"n\": 3}, {\"threshold\": 0.898, \"p\": 4, \"fpr\": 0.0, \"tpr\": 0.0, \"n\": 3}, {\"threshold\": 0.899, \"p\": 4, \"fpr\": 0.0, \"tpr\": 0.0, \"n\": 3}, {\"threshold\": 0.9, \"p\": 4, \"fpr\": 0.0, \"tpr\": 0.0, \"n\": 3}, {\"threshold\": 0.901, \"p\": 4, \"fpr\": 0.0, \"tpr\": 0.0, \"n\": 3}, {\"threshold\": 0.902, \"p\": 4, \"fpr\": 0.0, \"tpr\": 0.0, \"n\": 3}, {\"threshold\": 0.903, \"p\": 4, \"fpr\": 0.0, \"tpr\": 0.0, \"n\": 3}, {\"threshold\": 0.904, \"p\": 4, \"fpr\": 0.0, \"tpr\": 0.0, \"n\": 3}, {\"threshold\": 0.905, \"p\": 4, \"fpr\": 0.0, \"tpr\": 0.0, \"n\": 3}, {\"threshold\": 0.906, \"p\": 4, \"fpr\": 0.0, \"tpr\": 0.0, \"n\": 3}, {\"threshold\": 0.907, \"p\": 4, \"fpr\": 0.0, \"tpr\": 0.0, \"n\": 3}, {\"threshold\": 0.908, \"p\": 4, \"fpr\": 0.0, \"tpr\": 0.0, \"n\": 3}, {\"threshold\": 0.909, \"p\": 4, \"fpr\": 0.0, \"tpr\": 0.0, \"n\": 3}, {\"threshold\": 0.91, \"p\": 4, \"fpr\": 0.0, \"tpr\": 0.0, \"n\": 3}, {\"threshold\": 0.911, \"p\": 4, \"fpr\": 0.0, \"tpr\": 0.0, \"n\": 3}, {\"threshold\": 0.912, \"p\": 4, \"fpr\": 0.0, \"tpr\": 0.0, \"n\": 3}, {\"threshold\": 0.913, \"p\": 4, \"fpr\": 0.0, \"tpr\": 0.0, \"n\": 3}, {\"threshold\": 0.914, \"p\": 4, \"fpr\": 0.0, \"tpr\": 0.0, \"n\": 3}, {\"threshold\": 0.915, \"p\": 4, \"fpr\": 0.0, \"tpr\": 0.0, \"n\": 3}, {\"threshold\": 0.916, \"p\": 4, \"fpr\": 0.0, \"tpr\": 0.0, \"n\": 3}, {\"threshold\": 0.917, \"p\": 4, \"fpr\": 0.0, \"tpr\": 0.0, \"n\": 3}, {\"threshold\": 0.918, \"p\": 4, \"fpr\": 0.0, \"tpr\": 0.0, \"n\": 3}, {\"threshold\": 0.919, \"p\": 4, \"fpr\": 0.0, \"tpr\": 0.0, \"n\": 3}, {\"threshold\": 0.92, \"p\": 4, \"fpr\": 0.0, \"tpr\": 0.0, \"n\": 3}, {\"threshold\": 0.921, \"p\": 4, \"fpr\": 0.0, \"tpr\": 0.0, \"n\": 3}, {\"threshold\": 0.922, \"p\": 4, \"fpr\": 0.0, \"tpr\": 0.0, \"n\": 3}, {\"threshold\": 0.923, \"p\": 4, \"fpr\": 0.0, \"tpr\": 0.0, \"n\": 3}, {\"threshold\": 0.924, \"p\": 4, \"fpr\": 0.0, \"tpr\": 0.0, \"n\": 3}, {\"threshold\": 0.925, \"p\": 4, \"fpr\": 0.0, \"tpr\": 0.0, \"n\": 3}, {\"threshold\": 0.926, \"p\": 4, \"fpr\": 0.0, \"tpr\": 0.0, \"n\": 3}, {\"threshold\": 0.927, \"p\": 4, \"fpr\": 0.0, \"tpr\": 0.0, \"n\": 3}, {\"threshold\": 0.928, \"p\": 4, \"fpr\": 0.0, \"tpr\": 0.0, \"n\": 3}, {\"threshold\": 0.929, \"p\": 4, \"fpr\": 0.0, \"tpr\": 0.0, \"n\": 3}, {\"threshold\": 0.93, \"p\": 4, \"fpr\": 0.0, \"tpr\": 0.0, \"n\": 3}, {\"threshold\": 0.931, \"p\": 4, \"fpr\": 0.0, \"tpr\": 0.0, \"n\": 3}, {\"threshold\": 0.932, \"p\": 4, \"fpr\": 0.0, \"tpr\": 0.0, \"n\": 3}, {\"threshold\": 0.933, \"p\": 4, \"fpr\": 0.0, \"tpr\": 0.0, \"n\": 3}, {\"threshold\": 0.934, \"p\": 4, \"fpr\": 0.0, \"tpr\": 0.0, \"n\": 3}, {\"threshold\": 0.935, \"p\": 4, \"fpr\": 0.0, \"tpr\": 0.0, \"n\": 3}, {\"threshold\": 0.936, \"p\": 4, \"fpr\": 0.0, \"tpr\": 0.0, \"n\": 3}, {\"threshold\": 0.937, \"p\": 4, \"fpr\": 0.0, \"tpr\": 0.0, \"n\": 3}, {\"threshold\": 0.938, \"p\": 4, \"fpr\": 0.0, \"tpr\": 0.0, \"n\": 3}, {\"threshold\": 0.939, \"p\": 4, \"fpr\": 0.0, \"tpr\": 0.0, \"n\": 3}, {\"threshold\": 0.94, \"p\": 4, \"fpr\": 0.0, \"tpr\": 0.0, \"n\": 3}, {\"threshold\": 0.941, \"p\": 4, \"fpr\": 0.0, \"tpr\": 0.0, \"n\": 3}, {\"threshold\": 0.942, \"p\": 4, \"fpr\": 0.0, \"tpr\": 0.0, \"n\": 3}, {\"threshold\": 0.943, \"p\": 4, \"fpr\": 0.0, \"tpr\": 0.0, \"n\": 3}, {\"threshold\": 0.944, \"p\": 4, \"fpr\": 0.0, \"tpr\": 0.0, \"n\": 3}, {\"threshold\": 0.945, \"p\": 4, \"fpr\": 0.0, \"tpr\": 0.0, \"n\": 3}, {\"threshold\": 0.946, \"p\": 4, \"fpr\": 0.0, \"tpr\": 0.0, \"n\": 3}, {\"threshold\": 0.947, \"p\": 4, \"fpr\": 0.0, \"tpr\": 0.0, \"n\": 3}, {\"threshold\": 0.948, \"p\": 4, \"fpr\": 0.0, \"tpr\": 0.0, \"n\": 3}, {\"threshold\": 0.949, \"p\": 4, \"fpr\": 0.0, \"tpr\": 0.0, \"n\": 3}, {\"threshold\": 0.95, \"p\": 4, \"fpr\": 0.0, \"tpr\": 0.0, \"n\": 3}, {\"threshold\": 0.951, \"p\": 4, \"fpr\": 0.0, \"tpr\": 0.0, \"n\": 3}, {\"threshold\": 0.952, \"p\": 4, \"fpr\": 0.0, \"tpr\": 0.0, \"n\": 3}, {\"threshold\": 0.953, \"p\": 4, \"fpr\": 0.0, \"tpr\": 0.0, \"n\": 3}, {\"threshold\": 0.954, \"p\": 4, \"fpr\": 0.0, \"tpr\": 0.0, \"n\": 3}, {\"threshold\": 0.955, \"p\": 4, \"fpr\": 0.0, \"tpr\": 0.0, \"n\": 3}, {\"threshold\": 0.956, \"p\": 4, \"fpr\": 0.0, \"tpr\": 0.0, \"n\": 3}, {\"threshold\": 0.957, \"p\": 4, \"fpr\": 0.0, \"tpr\": 0.0, \"n\": 3}, {\"threshold\": 0.958, \"p\": 4, \"fpr\": 0.0, \"tpr\": 0.0, \"n\": 3}, {\"threshold\": 0.959, \"p\": 4, \"fpr\": 0.0, \"tpr\": 0.0, \"n\": 3}, {\"threshold\": 0.96, \"p\": 4, \"fpr\": 0.0, \"tpr\": 0.0, \"n\": 3}, {\"threshold\": 0.961, \"p\": 4, \"fpr\": 0.0, \"tpr\": 0.0, \"n\": 3}, {\"threshold\": 0.962, \"p\": 4, \"fpr\": 0.0, \"tpr\": 0.0, \"n\": 3}, {\"threshold\": 0.963, \"p\": 4, \"fpr\": 0.0, \"tpr\": 0.0, \"n\": 3}, {\"threshold\": 0.964, \"p\": 4, \"fpr\": 0.0, \"tpr\": 0.0, \"n\": 3}, {\"threshold\": 0.965, \"p\": 4, \"fpr\": 0.0, \"tpr\": 0.0, \"n\": 3}, {\"threshold\": 0.966, \"p\": 4, \"fpr\": 0.0, \"tpr\": 0.0, \"n\": 3}, {\"threshold\": 0.967, \"p\": 4, \"fpr\": 0.0, \"tpr\": 0.0, \"n\": 3}, {\"threshold\": 0.968, \"p\": 4, \"fpr\": 0.0, \"tpr\": 0.0, \"n\": 3}, {\"threshold\": 0.969, \"p\": 4, \"fpr\": 0.0, \"tpr\": 0.0, \"n\": 3}, {\"threshold\": 0.97, \"p\": 4, \"fpr\": 0.0, \"tpr\": 0.0, \"n\": 3}, {\"threshold\": 0.971, \"p\": 4, \"fpr\": 0.0, \"tpr\": 0.0, \"n\": 3}, {\"threshold\": 0.972, \"p\": 4, \"fpr\": 0.0, \"tpr\": 0.0, \"n\": 3}, {\"threshold\": 0.973, \"p\": 4, \"fpr\": 0.0, \"tpr\": 0.0, \"n\": 3}, {\"threshold\": 0.974, \"p\": 4, \"fpr\": 0.0, \"tpr\": 0.0, \"n\": 3}, {\"threshold\": 0.975, \"p\": 4, \"fpr\": 0.0, \"tpr\": 0.0, \"n\": 3}, {\"threshold\": 0.976, \"p\": 4, \"fpr\": 0.0, \"tpr\": 0.0, \"n\": 3}, {\"threshold\": 0.977, \"p\": 4, \"fpr\": 0.0, \"tpr\": 0.0, \"n\": 3}, {\"threshold\": 0.978, \"p\": 4, \"fpr\": 0.0, \"tpr\": 0.0, \"n\": 3}, {\"threshold\": 0.979, \"p\": 4, \"fpr\": 0.0, \"tpr\": 0.0, \"n\": 3}, {\"threshold\": 0.98, \"p\": 4, \"fpr\": 0.0, \"tpr\": 0.0, \"n\": 3}, {\"threshold\": 0.981, \"p\": 4, \"fpr\": 0.0, \"tpr\": 0.0, \"n\": 3}, {\"threshold\": 0.982, \"p\": 4, \"fpr\": 0.0, \"tpr\": 0.0, \"n\": 3}, {\"threshold\": 0.983, \"p\": 4, \"fpr\": 0.0, \"tpr\": 0.0, \"n\": 3}, {\"threshold\": 0.984, \"p\": 4, \"fpr\": 0.0, \"tpr\": 0.0, \"n\": 3}, {\"threshold\": 0.985, \"p\": 4, \"fpr\": 0.0, \"tpr\": 0.0, \"n\": 3}, {\"threshold\": 0.986, \"p\": 4, \"fpr\": 0.0, \"tpr\": 0.0, \"n\": 3}, {\"threshold\": 0.987, \"p\": 4, \"fpr\": 0.0, \"tpr\": 0.0, \"n\": 3}, {\"threshold\": 0.988, \"p\": 4, \"fpr\": 0.0, \"tpr\": 0.0, \"n\": 3}, {\"threshold\": 0.989, \"p\": 4, \"fpr\": 0.0, \"tpr\": 0.0, \"n\": 3}, {\"threshold\": 0.99, \"p\": 4, \"fpr\": 0.0, \"tpr\": 0.0, \"n\": 3}, {\"threshold\": 0.991, \"p\": 4, \"fpr\": 0.0, \"tpr\": 0.0, \"n\": 3}, {\"threshold\": 0.992, \"p\": 4, \"fpr\": 0.0, \"tpr\": 0.0, \"n\": 3}, {\"threshold\": 0.993, \"p\": 4, \"fpr\": 0.0, \"tpr\": 0.0, \"n\": 3}, {\"threshold\": 0.994, \"p\": 4, \"fpr\": 0.0, \"tpr\": 0.0, \"n\": 3}, {\"threshold\": 0.995, \"p\": 4, \"fpr\": 0.0, \"tpr\": 0.0, \"n\": 3}, {\"threshold\": 0.996, \"p\": 4, \"fpr\": 0.0, \"tpr\": 0.0, \"n\": 3}, {\"threshold\": 0.997, \"p\": 4, \"fpr\": 0.0, \"tpr\": 0.0, \"n\": 3}, {\"threshold\": 0.998, \"p\": 4, \"fpr\": 0.0, \"tpr\": 0.0, \"n\": 3}, {\"threshold\": 0.999, \"p\": 4, \"fpr\": 0.0, \"tpr\": 0.0, \"n\": 3}, {\"threshold\": 1.0, \"p\": 4, \"fpr\": 0.0, \"tpr\": 0.0, \"n\": 3}]}]], \"type\": \"Model\"}, \"ipython\": true, \"view_params\": {\"model_type\": \"regression\", \"view\": \"Evaluation\"}, \"model_type\": \"regression\", \"attributes\": {\"section_titles\": [\"Schema\", \"Hyperparameters\", \"Training Summary\", \"Settings\", \"Highest Positive Coefficients\", \"Lowest Negative Coefficients\"], \"sections\": [[[\"Number of coefficients\", 743], [\"Number of examples\", 41], [\"Number of classes\", 2], [\"Number of feature columns\", 1], [\"Number of unpacked features\", 742]], [[\"L1 penalty\", 0.0], [\"L2 penalty\", 0.01]], [[\"Solver\", \"lbfgs\"], [\"Solver iterations\", 8], [\"Solver status\", \"SUCCESS: Optimal solution found.\"], [\"Training time (sec)\", 1.0503]], [[\"Log-likelihood\", 0.0127]], [[\"word_count[xuntei]\", 1.9047], [\"word_count[zasalttai]\", 1.9047], [\"word_count[uulchulgee]\", 1.0924], [\"word_count[bsan,]\", 1.0924], [\"word_count[sain]\", 1.0924]], [[\"word_count[yumoo]\", -1.2937], [\"word_count[uzsenguu]\", -1.2922], [\"word_count[amidraldaa]\", -1.2922], [\"word_count[za]\", -1.2922], [\"word_count[eeldee]\", -1.2922]]]}, \"evaluations\": [[\"test_data\", {\"roc_curve\": [{\"threshold\": 0.0, \"p\": 4, \"fpr\": 1.0, \"tpr\": 1.0, \"n\": 3}, {\"threshold\": 0.001, \"p\": 4, \"fpr\": 0.6666666666666666, \"tpr\": 1.0, \"n\": 3}, {\"threshold\": 0.002, \"p\": 4, \"fpr\": 0.6666666666666666, \"tpr\": 1.0, \"n\": 3}, {\"threshold\": 0.003, \"p\": 4, \"fpr\": 0.6666666666666666, \"tpr\": 1.0, \"n\": 3}, {\"threshold\": 0.004, \"p\": 4, \"fpr\": 0.6666666666666666, \"tpr\": 1.0, \"n\": 3}, {\"threshold\": 0.005, \"p\": 4, \"fpr\": 0.6666666666666666, \"tpr\": 1.0, \"n\": 3}, {\"threshold\": 0.006, \"p\": 4, \"fpr\": 0.6666666666666666, \"tpr\": 1.0, \"n\": 3}, {\"threshold\": 0.007, \"p\": 4, \"fpr\": 0.6666666666666666, \"tpr\": 1.0, \"n\": 3}, {\"threshold\": 0.008, \"p\": 4, \"fpr\": 0.6666666666666666, \"tpr\": 1.0, \"n\": 3}, {\"threshold\": 0.009, \"p\": 4, \"fpr\": 0.6666666666666666, \"tpr\": 1.0, \"n\": 3}, {\"threshold\": 0.01, \"p\": 4, \"fpr\": 0.6666666666666666, \"tpr\": 1.0, \"n\": 3}, {\"threshold\": 0.011, \"p\": 4, \"fpr\": 0.6666666666666666, \"tpr\": 1.0, \"n\": 3}, {\"threshold\": 0.012, \"p\": 4, \"fpr\": 0.6666666666666666, \"tpr\": 1.0, \"n\": 3}, {\"threshold\": 0.013, \"p\": 4, \"fpr\": 0.6666666666666666, \"tpr\": 1.0, \"n\": 3}, {\"threshold\": 0.014, \"p\": 4, \"fpr\": 0.6666666666666666, \"tpr\": 1.0, \"n\": 3}, {\"threshold\": 0.015, \"p\": 4, \"fpr\": 0.6666666666666666, \"tpr\": 1.0, \"n\": 3}, {\"threshold\": 0.016, \"p\": 4, \"fpr\": 0.6666666666666666, \"tpr\": 1.0, \"n\": 3}, {\"threshold\": 0.017, \"p\": 4, \"fpr\": 0.6666666666666666, \"tpr\": 1.0, \"n\": 3}, {\"threshold\": 0.018, \"p\": 4, \"fpr\": 0.6666666666666666, \"tpr\": 1.0, \"n\": 3}, {\"threshold\": 0.019, \"p\": 4, \"fpr\": 0.6666666666666666, \"tpr\": 1.0, \"n\": 3}, {\"threshold\": 0.02, \"p\": 4, \"fpr\": 0.6666666666666666, \"tpr\": 1.0, \"n\": 3}, {\"threshold\": 0.021, \"p\": 4, \"fpr\": 0.6666666666666666, \"tpr\": 1.0, \"n\": 3}, {\"threshold\": 0.022, \"p\": 4, \"fpr\": 0.6666666666666666, \"tpr\": 1.0, \"n\": 3}, {\"threshold\": 0.023, \"p\": 4, \"fpr\": 0.6666666666666666, \"tpr\": 1.0, \"n\": 3}, {\"threshold\": 0.024, \"p\": 4, \"fpr\": 0.6666666666666666, \"tpr\": 1.0, \"n\": 3}, {\"threshold\": 0.025, \"p\": 4, \"fpr\": 0.6666666666666666, \"tpr\": 1.0, \"n\": 3}, {\"threshold\": 0.026, \"p\": 4, \"fpr\": 0.6666666666666666, \"tpr\": 1.0, \"n\": 3}, {\"threshold\": 0.027, \"p\": 4, \"fpr\": 0.6666666666666666, \"tpr\": 1.0, \"n\": 3}, {\"threshold\": 0.028, \"p\": 4, \"fpr\": 0.3333333333333333, \"tpr\": 1.0, \"n\": 3}, {\"threshold\": 0.029, \"p\": 4, \"fpr\": 0.3333333333333333, \"tpr\": 1.0, \"n\": 3}, {\"threshold\": 0.03, \"p\": 4, \"fpr\": 0.3333333333333333, \"tpr\": 1.0, \"n\": 3}, {\"threshold\": 0.031, \"p\": 4, \"fpr\": 0.3333333333333333, \"tpr\": 1.0, \"n\": 3}, {\"threshold\": 0.032, \"p\": 4, \"fpr\": 0.3333333333333333, \"tpr\": 1.0, \"n\": 3}, {\"threshold\": 0.033, \"p\": 4, \"fpr\": 0.3333333333333333, \"tpr\": 1.0, \"n\": 3}, {\"threshold\": 0.034, \"p\": 4, \"fpr\": 0.3333333333333333, \"tpr\": 1.0, \"n\": 3}, {\"threshold\": 0.035, \"p\": 4, \"fpr\": 0.3333333333333333, \"tpr\": 1.0, \"n\": 3}, {\"threshold\": 0.036, \"p\": 4, \"fpr\": 0.3333333333333333, \"tpr\": 1.0, \"n\": 3}, {\"threshold\": 0.037, \"p\": 4, \"fpr\": 0.3333333333333333, \"tpr\": 1.0, \"n\": 3}, {\"threshold\": 0.038, \"p\": 4, \"fpr\": 0.3333333333333333, \"tpr\": 1.0, \"n\": 3}, {\"threshold\": 0.039, \"p\": 4, \"fpr\": 0.3333333333333333, \"tpr\": 1.0, \"n\": 3}, {\"threshold\": 0.04, \"p\": 4, \"fpr\": 0.3333333333333333, \"tpr\": 1.0, \"n\": 3}, {\"threshold\": 0.041, \"p\": 4, \"fpr\": 0.3333333333333333, \"tpr\": 1.0, \"n\": 3}, {\"threshold\": 0.042, \"p\": 4, \"fpr\": 0.3333333333333333, \"tpr\": 1.0, \"n\": 3}, {\"threshold\": 0.043, \"p\": 4, \"fpr\": 0.3333333333333333, \"tpr\": 1.0, \"n\": 3}, {\"threshold\": 0.044, \"p\": 4, \"fpr\": 0.3333333333333333, \"tpr\": 1.0, \"n\": 3}, {\"threshold\": 0.045, \"p\": 4, \"fpr\": 0.3333333333333333, \"tpr\": 1.0, \"n\": 3}, {\"threshold\": 0.046, \"p\": 4, \"fpr\": 0.3333333333333333, \"tpr\": 1.0, \"n\": 3}, {\"threshold\": 0.047, \"p\": 4, \"fpr\": 0.3333333333333333, \"tpr\": 1.0, \"n\": 3}, {\"threshold\": 0.048, \"p\": 4, \"fpr\": 0.3333333333333333, \"tpr\": 1.0, \"n\": 3}, {\"threshold\": 0.049, \"p\": 4, \"fpr\": 0.3333333333333333, \"tpr\": 1.0, \"n\": 3}, {\"threshold\": 0.05, \"p\": 4, \"fpr\": 0.3333333333333333, \"tpr\": 1.0, \"n\": 3}, {\"threshold\": 0.051, \"p\": 4, \"fpr\": 0.3333333333333333, \"tpr\": 1.0, \"n\": 3}, {\"threshold\": 0.052, \"p\": 4, \"fpr\": 0.3333333333333333, \"tpr\": 1.0, \"n\": 3}, {\"threshold\": 0.053, \"p\": 4, \"fpr\": 0.3333333333333333, \"tpr\": 1.0, \"n\": 3}, {\"threshold\": 0.054, \"p\": 4, \"fpr\": 0.3333333333333333, \"tpr\": 1.0, \"n\": 3}, {\"threshold\": 0.055, \"p\": 4, \"fpr\": 0.3333333333333333, \"tpr\": 1.0, \"n\": 3}, {\"threshold\": 0.056, \"p\": 4, \"fpr\": 0.3333333333333333, \"tpr\": 1.0, \"n\": 3}, {\"threshold\": 0.057, \"p\": 4, \"fpr\": 0.3333333333333333, \"tpr\": 1.0, \"n\": 3}, {\"threshold\": 0.058, \"p\": 4, \"fpr\": 0.3333333333333333, \"tpr\": 1.0, \"n\": 3}, {\"threshold\": 0.059, \"p\": 4, \"fpr\": 0.3333333333333333, \"tpr\": 1.0, \"n\": 3}, {\"threshold\": 0.06, \"p\": 4, \"fpr\": 0.3333333333333333, \"tpr\": 1.0, \"n\": 3}, {\"threshold\": 0.061, \"p\": 4, \"fpr\": 0.3333333333333333, \"tpr\": 1.0, \"n\": 3}, {\"threshold\": 0.062, \"p\": 4, \"fpr\": 0.3333333333333333, \"tpr\": 1.0, \"n\": 3}, {\"threshold\": 0.063, \"p\": 4, \"fpr\": 0.3333333333333333, \"tpr\": 0.75, \"n\": 3}, {\"threshold\": 0.064, \"p\": 4, \"fpr\": 0.3333333333333333, \"tpr\": 0.75, \"n\": 3}, {\"threshold\": 0.065, \"p\": 4, \"fpr\": 0.3333333333333333, \"tpr\": 0.75, \"n\": 3}, {\"threshold\": 0.066, \"p\": 4, \"fpr\": 0.3333333333333333, \"tpr\": 0.75, \"n\": 3}, {\"threshold\": 0.067, \"p\": 4, \"fpr\": 0.3333333333333333, \"tpr\": 0.75, \"n\": 3}, {\"threshold\": 0.068, \"p\": 4, \"fpr\": 0.3333333333333333, \"tpr\": 0.75, \"n\": 3}, {\"threshold\": 0.069, \"p\": 4, \"fpr\": 0.3333333333333333, \"tpr\": 0.75, \"n\": 3}, {\"threshold\": 0.07, \"p\": 4, \"fpr\": 0.3333333333333333, \"tpr\": 0.75, \"n\": 3}, {\"threshold\": 0.071, \"p\": 4, \"fpr\": 0.3333333333333333, \"tpr\": 0.75, \"n\": 3}, {\"threshold\": 0.072, \"p\": 4, \"fpr\": 0.3333333333333333, \"tpr\": 0.75, \"n\": 3}, {\"threshold\": 0.073, \"p\": 4, \"fpr\": 0.3333333333333333, \"tpr\": 0.75, \"n\": 3}, {\"threshold\": 0.074, \"p\": 4, \"fpr\": 0.3333333333333333, \"tpr\": 0.75, \"n\": 3}, {\"threshold\": 0.075, \"p\": 4, \"fpr\": 0.3333333333333333, \"tpr\": 0.75, \"n\": 3}, {\"threshold\": 0.076, \"p\": 4, \"fpr\": 0.3333333333333333, \"tpr\": 0.75, \"n\": 3}, {\"threshold\": 0.077, \"p\": 4, \"fpr\": 0.3333333333333333, \"tpr\": 0.75, \"n\": 3}, {\"threshold\": 0.078, \"p\": 4, \"fpr\": 0.3333333333333333, \"tpr\": 0.75, \"n\": 3}, {\"threshold\": 0.079, \"p\": 4, \"fpr\": 0.3333333333333333, \"tpr\": 0.75, \"n\": 3}, {\"threshold\": 0.08, \"p\": 4, \"fpr\": 0.3333333333333333, \"tpr\": 0.75, \"n\": 3}, {\"threshold\": 0.081, \"p\": 4, \"fpr\": 0.3333333333333333, \"tpr\": 0.75, \"n\": 3}, {\"threshold\": 0.082, \"p\": 4, \"fpr\": 0.3333333333333333, \"tpr\": 0.75, \"n\": 3}, {\"threshold\": 0.083, \"p\": 4, \"fpr\": 0.3333333333333333, \"tpr\": 0.75, \"n\": 3}, {\"threshold\": 0.084, \"p\": 4, \"fpr\": 0.3333333333333333, \"tpr\": 0.75, \"n\": 3}, {\"threshold\": 0.085, \"p\": 4, \"fpr\": 0.3333333333333333, \"tpr\": 0.75, \"n\": 3}, {\"threshold\": 0.086, \"p\": 4, \"fpr\": 0.3333333333333333, \"tpr\": 0.75, \"n\": 3}, {\"threshold\": 0.087, \"p\": 4, \"fpr\": 0.3333333333333333, \"tpr\": 0.75, \"n\": 3}, {\"threshold\": 0.088, \"p\": 4, \"fpr\": 0.3333333333333333, \"tpr\": 0.75, \"n\": 3}, {\"threshold\": 0.089, \"p\": 4, \"fpr\": 0.3333333333333333, \"tpr\": 0.75, \"n\": 3}, {\"threshold\": 0.09, \"p\": 4, \"fpr\": 0.3333333333333333, \"tpr\": 0.75, \"n\": 3}, {\"threshold\": 0.091, \"p\": 4, \"fpr\": 0.3333333333333333, \"tpr\": 0.75, \"n\": 3}, {\"threshold\": 0.092, \"p\": 4, \"fpr\": 0.3333333333333333, \"tpr\": 0.75, \"n\": 3}, {\"threshold\": 0.093, \"p\": 4, \"fpr\": 0.3333333333333333, \"tpr\": 0.75, \"n\": 3}, {\"threshold\": 0.094, \"p\": 4, \"fpr\": 0.3333333333333333, \"tpr\": 0.75, \"n\": 3}, {\"threshold\": 0.095, \"p\": 4, \"fpr\": 0.3333333333333333, \"tpr\": 0.75, \"n\": 3}, {\"threshold\": 0.096, \"p\": 4, \"fpr\": 0.3333333333333333, \"tpr\": 0.75, \"n\": 3}, {\"threshold\": 0.097, \"p\": 4, \"fpr\": 0.3333333333333333, \"tpr\": 0.75, \"n\": 3}, {\"threshold\": 0.098, \"p\": 4, \"fpr\": 0.3333333333333333, \"tpr\": 0.75, \"n\": 3}, {\"threshold\": 0.099, \"p\": 4, \"fpr\": 0.3333333333333333, \"tpr\": 0.75, \"n\": 3}, {\"threshold\": 0.1, \"p\": 4, \"fpr\": 0.3333333333333333, \"tpr\": 0.75, \"n\": 3}, {\"threshold\": 0.101, \"p\": 4, \"fpr\": 0.3333333333333333, \"tpr\": 0.75, \"n\": 3}, {\"threshold\": 0.102, \"p\": 4, \"fpr\": 0.3333333333333333, \"tpr\": 0.75, \"n\": 3}, {\"threshold\": 0.103, \"p\": 4, \"fpr\": 0.3333333333333333, \"tpr\": 0.75, \"n\": 3}, {\"threshold\": 0.104, \"p\": 4, \"fpr\": 0.3333333333333333, \"tpr\": 0.75, \"n\": 3}, {\"threshold\": 0.105, \"p\": 4, \"fpr\": 0.3333333333333333, \"tpr\": 0.75, \"n\": 3}, {\"threshold\": 0.106, \"p\": 4, \"fpr\": 0.3333333333333333, \"tpr\": 0.75, \"n\": 3}, {\"threshold\": 0.107, \"p\": 4, \"fpr\": 0.3333333333333333, \"tpr\": 0.75, \"n\": 3}, {\"threshold\": 0.108, \"p\": 4, \"fpr\": 0.3333333333333333, \"tpr\": 0.75, \"n\": 3}, {\"threshold\": 0.109, \"p\": 4, \"fpr\": 0.3333333333333333, \"tpr\": 0.75, \"n\": 3}, {\"threshold\": 0.11, \"p\": 4, \"fpr\": 0.3333333333333333, \"tpr\": 0.75, \"n\": 3}, {\"threshold\": 0.111, \"p\": 4, \"fpr\": 0.3333333333333333, \"tpr\": 0.75, \"n\": 3}, {\"threshold\": 0.112, \"p\": 4, \"fpr\": 0.3333333333333333, \"tpr\": 0.75, \"n\": 3}, {\"threshold\": 0.113, \"p\": 4, \"fpr\": 0.3333333333333333, \"tpr\": 0.75, \"n\": 3}, {\"threshold\": 0.114, \"p\": 4, \"fpr\": 0.3333333333333333, \"tpr\": 0.75, \"n\": 3}, {\"threshold\": 0.115, \"p\": 4, \"fpr\": 0.3333333333333333, \"tpr\": 0.75, \"n\": 3}, {\"threshold\": 0.116, \"p\": 4, \"fpr\": 0.3333333333333333, \"tpr\": 0.75, \"n\": 3}, {\"threshold\": 0.117, \"p\": 4, \"fpr\": 0.3333333333333333, \"tpr\": 0.75, \"n\": 3}, {\"threshold\": 0.118, \"p\": 4, \"fpr\": 0.3333333333333333, \"tpr\": 0.75, \"n\": 3}, {\"threshold\": 0.119, \"p\": 4, \"fpr\": 0.3333333333333333, \"tpr\": 0.75, \"n\": 3}, {\"threshold\": 0.12, \"p\": 4, \"fpr\": 0.3333333333333333, \"tpr\": 0.75, \"n\": 3}, {\"threshold\": 0.121, \"p\": 4, \"fpr\": 0.3333333333333333, \"tpr\": 0.75, \"n\": 3}, {\"threshold\": 0.122, \"p\": 4, \"fpr\": 0.3333333333333333, \"tpr\": 0.75, \"n\": 3}, {\"threshold\": 0.123, \"p\": 4, \"fpr\": 0.3333333333333333, \"tpr\": 0.75, \"n\": 3}, {\"threshold\": 0.124, \"p\": 4, \"fpr\": 0.3333333333333333, \"tpr\": 0.75, \"n\": 3}, {\"threshold\": 0.125, \"p\": 4, \"fpr\": 0.3333333333333333, \"tpr\": 0.75, \"n\": 3}, {\"threshold\": 0.126, \"p\": 4, \"fpr\": 0.3333333333333333, \"tpr\": 0.75, \"n\": 3}, {\"threshold\": 0.127, \"p\": 4, \"fpr\": 0.3333333333333333, \"tpr\": 0.75, \"n\": 3}, {\"threshold\": 0.128, \"p\": 4, \"fpr\": 0.3333333333333333, \"tpr\": 0.75, \"n\": 3}, {\"threshold\": 0.129, \"p\": 4, \"fpr\": 0.3333333333333333, \"tpr\": 0.75, \"n\": 3}, {\"threshold\": 0.13, \"p\": 4, \"fpr\": 0.3333333333333333, \"tpr\": 0.75, \"n\": 3}, {\"threshold\": 0.131, \"p\": 4, \"fpr\": 0.3333333333333333, \"tpr\": 0.75, \"n\": 3}, {\"threshold\": 0.132, \"p\": 4, \"fpr\": 0.3333333333333333, \"tpr\": 0.75, \"n\": 3}, {\"threshold\": 0.133, \"p\": 4, \"fpr\": 0.3333333333333333, \"tpr\": 0.75, \"n\": 3}, {\"threshold\": 0.134, \"p\": 4, \"fpr\": 0.3333333333333333, \"tpr\": 0.75, \"n\": 3}, {\"threshold\": 0.135, \"p\": 4, \"fpr\": 0.3333333333333333, \"tpr\": 0.75, \"n\": 3}, {\"threshold\": 0.136, \"p\": 4, \"fpr\": 0.3333333333333333, \"tpr\": 0.75, \"n\": 3}, {\"threshold\": 0.137, \"p\": 4, \"fpr\": 0.3333333333333333, \"tpr\": 0.75, \"n\": 3}, {\"threshold\": 0.138, \"p\": 4, \"fpr\": 0.3333333333333333, \"tpr\": 0.75, \"n\": 3}, {\"threshold\": 0.139, \"p\": 4, \"fpr\": 0.3333333333333333, \"tpr\": 0.75, \"n\": 3}, {\"threshold\": 0.14, \"p\": 4, \"fpr\": 0.3333333333333333, \"tpr\": 0.75, \"n\": 3}, {\"threshold\": 0.141, \"p\": 4, \"fpr\": 0.3333333333333333, \"tpr\": 0.75, \"n\": 3}, {\"threshold\": 0.142, \"p\": 4, \"fpr\": 0.3333333333333333, \"tpr\": 0.75, \"n\": 3}, {\"threshold\": 0.143, \"p\": 4, \"fpr\": 0.3333333333333333, \"tpr\": 0.75, \"n\": 3}, {\"threshold\": 0.144, \"p\": 4, \"fpr\": 0.3333333333333333, \"tpr\": 0.75, \"n\": 3}, {\"threshold\": 0.145, \"p\": 4, \"fpr\": 0.3333333333333333, \"tpr\": 0.75, \"n\": 3}, {\"threshold\": 0.146, \"p\": 4, \"fpr\": 0.3333333333333333, \"tpr\": 0.75, \"n\": 3}, {\"threshold\": 0.147, \"p\": 4, \"fpr\": 0.3333333333333333, \"tpr\": 0.75, \"n\": 3}, {\"threshold\": 0.148, \"p\": 4, \"fpr\": 0.3333333333333333, \"tpr\": 0.75, \"n\": 3}, {\"threshold\": 0.149, \"p\": 4, \"fpr\": 0.3333333333333333, \"tpr\": 0.75, \"n\": 3}, {\"threshold\": 0.15, \"p\": 4, \"fpr\": 0.3333333333333333, \"tpr\": 0.75, \"n\": 3}, {\"threshold\": 0.151, \"p\": 4, \"fpr\": 0.3333333333333333, \"tpr\": 0.75, \"n\": 3}, {\"threshold\": 0.152, \"p\": 4, \"fpr\": 0.3333333333333333, \"tpr\": 0.75, \"n\": 3}, {\"threshold\": 0.153, \"p\": 4, \"fpr\": 0.3333333333333333, \"tpr\": 0.75, \"n\": 3}, {\"threshold\": 0.154, \"p\": 4, \"fpr\": 0.3333333333333333, \"tpr\": 0.75, \"n\": 3}, {\"threshold\": 0.155, \"p\": 4, \"fpr\": 0.3333333333333333, \"tpr\": 0.75, \"n\": 3}, {\"threshold\": 0.156, \"p\": 4, \"fpr\": 0.3333333333333333, \"tpr\": 0.75, \"n\": 3}, {\"threshold\": 0.157, \"p\": 4, \"fpr\": 0.3333333333333333, \"tpr\": 0.75, \"n\": 3}, {\"threshold\": 0.158, \"p\": 4, \"fpr\": 0.3333333333333333, \"tpr\": 0.75, \"n\": 3}, {\"threshold\": 0.159, \"p\": 4, \"fpr\": 0.3333333333333333, \"tpr\": 0.75, \"n\": 3}, {\"threshold\": 0.16, \"p\": 4, \"fpr\": 0.3333333333333333, \"tpr\": 0.75, \"n\": 3}, {\"threshold\": 0.161, \"p\": 4, \"fpr\": 0.3333333333333333, \"tpr\": 0.75, \"n\": 3}, {\"threshold\": 0.162, \"p\": 4, \"fpr\": 0.3333333333333333, \"tpr\": 0.75, \"n\": 3}, {\"threshold\": 0.163, \"p\": 4, \"fpr\": 0.3333333333333333, \"tpr\": 0.75, \"n\": 3}, {\"threshold\": 0.164, \"p\": 4, \"fpr\": 0.3333333333333333, \"tpr\": 0.75, \"n\": 3}, {\"threshold\": 0.165, \"p\": 4, \"fpr\": 0.3333333333333333, \"tpr\": 0.75, \"n\": 3}, {\"threshold\": 0.166, \"p\": 4, \"fpr\": 0.3333333333333333, \"tpr\": 0.75, \"n\": 3}, {\"threshold\": 0.167, \"p\": 4, \"fpr\": 0.3333333333333333, \"tpr\": 0.75, \"n\": 3}, {\"threshold\": 0.168, \"p\": 4, \"fpr\": 0.3333333333333333, \"tpr\": 0.75, \"n\": 3}, {\"threshold\": 0.169, \"p\": 4, \"fpr\": 0.3333333333333333, \"tpr\": 0.75, \"n\": 3}, {\"threshold\": 0.17, \"p\": 4, \"fpr\": 0.3333333333333333, \"tpr\": 0.75, \"n\": 3}, {\"threshold\": 0.171, \"p\": 4, \"fpr\": 0.3333333333333333, \"tpr\": 0.75, \"n\": 3}, {\"threshold\": 0.172, \"p\": 4, \"fpr\": 0.3333333333333333, \"tpr\": 0.75, \"n\": 3}, {\"threshold\": 0.173, \"p\": 4, \"fpr\": 0.3333333333333333, \"tpr\": 0.75, \"n\": 3}, {\"threshold\": 0.174, \"p\": 4, \"fpr\": 0.3333333333333333, \"tpr\": 0.75, \"n\": 3}, {\"threshold\": 0.175, \"p\": 4, \"fpr\": 0.3333333333333333, \"tpr\": 0.75, \"n\": 3}, {\"threshold\": 0.176, \"p\": 4, \"fpr\": 0.3333333333333333, \"tpr\": 0.75, \"n\": 3}, {\"threshold\": 0.177, \"p\": 4, \"fpr\": 0.3333333333333333, \"tpr\": 0.75, \"n\": 3}, {\"threshold\": 0.178, \"p\": 4, \"fpr\": 0.3333333333333333, \"tpr\": 0.75, \"n\": 3}, {\"threshold\": 0.179, \"p\": 4, \"fpr\": 0.3333333333333333, \"tpr\": 0.75, \"n\": 3}, {\"threshold\": 0.18, \"p\": 4, \"fpr\": 0.3333333333333333, \"tpr\": 0.75, \"n\": 3}, {\"threshold\": 0.181, \"p\": 4, \"fpr\": 0.3333333333333333, \"tpr\": 0.75, \"n\": 3}, {\"threshold\": 0.182, \"p\": 4, \"fpr\": 0.3333333333333333, \"tpr\": 0.75, \"n\": 3}, {\"threshold\": 0.183, \"p\": 4, \"fpr\": 0.3333333333333333, \"tpr\": 0.75, \"n\": 3}, {\"threshold\": 0.184, \"p\": 4, \"fpr\": 0.3333333333333333, \"tpr\": 0.75, \"n\": 3}, {\"threshold\": 0.185, \"p\": 4, \"fpr\": 0.3333333333333333, \"tpr\": 0.75, \"n\": 3}, {\"threshold\": 0.186, \"p\": 4, \"fpr\": 0.3333333333333333, \"tpr\": 0.75, \"n\": 3}, {\"threshold\": 0.187, \"p\": 4, \"fpr\": 0.3333333333333333, \"tpr\": 0.75, \"n\": 3}, {\"threshold\": 0.188, \"p\": 4, \"fpr\": 0.3333333333333333, \"tpr\": 0.75, \"n\": 3}, {\"threshold\": 0.189, \"p\": 4, \"fpr\": 0.3333333333333333, \"tpr\": 0.75, \"n\": 3}, {\"threshold\": 0.19, \"p\": 4, \"fpr\": 0.3333333333333333, \"tpr\": 0.75, \"n\": 3}, {\"threshold\": 0.191, \"p\": 4, \"fpr\": 0.3333333333333333, \"tpr\": 0.75, \"n\": 3}, {\"threshold\": 0.192, \"p\": 4, \"fpr\": 0.3333333333333333, \"tpr\": 0.75, \"n\": 3}, {\"threshold\": 0.193, \"p\": 4, \"fpr\": 0.3333333333333333, \"tpr\": 0.75, \"n\": 3}, {\"threshold\": 0.194, \"p\": 4, \"fpr\": 0.3333333333333333, \"tpr\": 0.75, \"n\": 3}, {\"threshold\": 0.195, \"p\": 4, \"fpr\": 0.3333333333333333, \"tpr\": 0.75, \"n\": 3}, {\"threshold\": 0.196, \"p\": 4, \"fpr\": 0.3333333333333333, \"tpr\": 0.75, \"n\": 3}, {\"threshold\": 0.197, \"p\": 4, \"fpr\": 0.3333333333333333, \"tpr\": 0.75, \"n\": 3}, {\"threshold\": 0.198, \"p\": 4, \"fpr\": 0.3333333333333333, \"tpr\": 0.75, \"n\": 3}, {\"threshold\": 0.199, \"p\": 4, \"fpr\": 0.3333333333333333, \"tpr\": 0.75, \"n\": 3}, {\"threshold\": 0.2, \"p\": 4, \"fpr\": 0.3333333333333333, \"tpr\": 0.75, \"n\": 3}, {\"threshold\": 0.201, \"p\": 4, \"fpr\": 0.3333333333333333, \"tpr\": 0.75, \"n\": 3}, {\"threshold\": 0.202, \"p\": 4, \"fpr\": 0.3333333333333333, \"tpr\": 0.75, \"n\": 3}, {\"threshold\": 0.203, \"p\": 4, \"fpr\": 0.3333333333333333, \"tpr\": 0.75, \"n\": 3}, {\"threshold\": 0.204, \"p\": 4, \"fpr\": 0.3333333333333333, \"tpr\": 0.75, \"n\": 3}, {\"threshold\": 0.205, \"p\": 4, \"fpr\": 0.3333333333333333, \"tpr\": 0.75, \"n\": 3}, {\"threshold\": 0.206, \"p\": 4, \"fpr\": 0.3333333333333333, \"tpr\": 0.75, \"n\": 3}, {\"threshold\": 0.207, \"p\": 4, \"fpr\": 0.3333333333333333, \"tpr\": 0.75, \"n\": 3}, {\"threshold\": 0.208, \"p\": 4, \"fpr\": 0.3333333333333333, \"tpr\": 0.75, \"n\": 3}, {\"threshold\": 0.209, \"p\": 4, \"fpr\": 0.3333333333333333, \"tpr\": 0.75, \"n\": 3}, {\"threshold\": 0.21, \"p\": 4, \"fpr\": 0.3333333333333333, \"tpr\": 0.75, \"n\": 3}, {\"threshold\": 0.211, \"p\": 4, \"fpr\": 0.3333333333333333, \"tpr\": 0.75, \"n\": 3}, {\"threshold\": 0.212, \"p\": 4, \"fpr\": 0.3333333333333333, \"tpr\": 0.75, \"n\": 3}, {\"threshold\": 0.213, \"p\": 4, \"fpr\": 0.3333333333333333, \"tpr\": 0.75, \"n\": 3}, {\"threshold\": 0.214, \"p\": 4, \"fpr\": 0.3333333333333333, \"tpr\": 0.75, \"n\": 3}, {\"threshold\": 0.215, \"p\": 4, \"fpr\": 0.3333333333333333, \"tpr\": 0.75, \"n\": 3}, {\"threshold\": 0.216, \"p\": 4, \"fpr\": 0.3333333333333333, \"tpr\": 0.75, \"n\": 3}, {\"threshold\": 0.217, \"p\": 4, \"fpr\": 0.3333333333333333, \"tpr\": 0.75, \"n\": 3}, {\"threshold\": 0.218, \"p\": 4, \"fpr\": 0.3333333333333333, \"tpr\": 0.75, \"n\": 3}, {\"threshold\": 0.219, \"p\": 4, \"fpr\": 0.3333333333333333, \"tpr\": 0.75, \"n\": 3}, {\"threshold\": 0.22, \"p\": 4, \"fpr\": 0.3333333333333333, \"tpr\": 0.75, \"n\": 3}, {\"threshold\": 0.221, \"p\": 4, \"fpr\": 0.3333333333333333, \"tpr\": 0.75, \"n\": 3}, {\"threshold\": 0.222, \"p\": 4, \"fpr\": 0.3333333333333333, \"tpr\": 0.75, \"n\": 3}, {\"threshold\": 0.223, \"p\": 4, \"fpr\": 0.3333333333333333, \"tpr\": 0.75, \"n\": 3}, {\"threshold\": 0.224, \"p\": 4, \"fpr\": 0.3333333333333333, \"tpr\": 0.75, \"n\": 3}, {\"threshold\": 0.225, \"p\": 4, \"fpr\": 0.3333333333333333, \"tpr\": 0.75, \"n\": 3}, {\"threshold\": 0.226, \"p\": 4, \"fpr\": 0.3333333333333333, \"tpr\": 0.75, \"n\": 3}, {\"threshold\": 0.227, \"p\": 4, \"fpr\": 0.3333333333333333, \"tpr\": 0.75, \"n\": 3}, {\"threshold\": 0.228, \"p\": 4, \"fpr\": 0.3333333333333333, \"tpr\": 0.75, \"n\": 3}, {\"threshold\": 0.229, \"p\": 4, \"fpr\": 0.3333333333333333, \"tpr\": 0.75, \"n\": 3}, {\"threshold\": 0.23, \"p\": 4, \"fpr\": 0.3333333333333333, \"tpr\": 0.75, \"n\": 3}, {\"threshold\": 0.231, \"p\": 4, \"fpr\": 0.3333333333333333, \"tpr\": 0.75, \"n\": 3}, {\"threshold\": 0.232, \"p\": 4, \"fpr\": 0.3333333333333333, \"tpr\": 0.75, \"n\": 3}, {\"threshold\": 0.233, \"p\": 4, \"fpr\": 0.3333333333333333, \"tpr\": 0.75, \"n\": 3}, {\"threshold\": 0.234, \"p\": 4, \"fpr\": 0.3333333333333333, \"tpr\": 0.75, \"n\": 3}, {\"threshold\": 0.235, \"p\": 4, \"fpr\": 0.3333333333333333, \"tpr\": 0.75, \"n\": 3}, {\"threshold\": 0.236, \"p\": 4, \"fpr\": 0.3333333333333333, \"tpr\": 0.75, \"n\": 3}, {\"threshold\": 0.237, \"p\": 4, \"fpr\": 0.3333333333333333, \"tpr\": 0.75, \"n\": 3}, {\"threshold\": 0.238, \"p\": 4, \"fpr\": 0.0, \"tpr\": 0.75, \"n\": 3}, {\"threshold\": 0.239, \"p\": 4, \"fpr\": 0.0, \"tpr\": 0.75, \"n\": 3}, {\"threshold\": 0.24, \"p\": 4, \"fpr\": 0.0, \"tpr\": 0.75, \"n\": 3}, {\"threshold\": 0.241, \"p\": 4, \"fpr\": 0.0, \"tpr\": 0.75, \"n\": 3}, {\"threshold\": 0.242, \"p\": 4, \"fpr\": 0.0, \"tpr\": 0.75, \"n\": 3}, {\"threshold\": 0.243, \"p\": 4, \"fpr\": 0.0, \"tpr\": 0.75, \"n\": 3}, {\"threshold\": 0.244, \"p\": 4, \"fpr\": 0.0, \"tpr\": 0.75, \"n\": 3}, {\"threshold\": 0.245, \"p\": 4, \"fpr\": 0.0, \"tpr\": 0.75, \"n\": 3}, {\"threshold\": 0.246, \"p\": 4, \"fpr\": 0.0, \"tpr\": 0.75, \"n\": 3}, {\"threshold\": 0.247, \"p\": 4, \"fpr\": 0.0, \"tpr\": 0.75, \"n\": 3}, {\"threshold\": 0.248, \"p\": 4, \"fpr\": 0.0, \"tpr\": 0.75, \"n\": 3}, {\"threshold\": 0.249, \"p\": 4, \"fpr\": 0.0, \"tpr\": 0.75, \"n\": 3}, {\"threshold\": 0.25, \"p\": 4, \"fpr\": 0.0, \"tpr\": 0.75, \"n\": 3}, {\"threshold\": 0.251, \"p\": 4, \"fpr\": 0.0, \"tpr\": 0.75, \"n\": 3}, {\"threshold\": 0.252, \"p\": 4, \"fpr\": 0.0, \"tpr\": 0.75, \"n\": 3}, {\"threshold\": 0.253, \"p\": 4, \"fpr\": 0.0, \"tpr\": 0.75, \"n\": 3}, {\"threshold\": 0.254, \"p\": 4, \"fpr\": 0.0, \"tpr\": 0.75, \"n\": 3}, {\"threshold\": 0.255, \"p\": 4, \"fpr\": 0.0, \"tpr\": 0.75, \"n\": 3}, {\"threshold\": 0.256, \"p\": 4, \"fpr\": 0.0, \"tpr\": 0.75, \"n\": 3}, {\"threshold\": 0.257, \"p\": 4, \"fpr\": 0.0, \"tpr\": 0.75, \"n\": 3}, {\"threshold\": 0.258, \"p\": 4, \"fpr\": 0.0, \"tpr\": 0.75, \"n\": 3}, {\"threshold\": 0.259, \"p\": 4, \"fpr\": 0.0, \"tpr\": 0.75, \"n\": 3}, {\"threshold\": 0.26, \"p\": 4, \"fpr\": 0.0, \"tpr\": 0.75, \"n\": 3}, {\"threshold\": 0.261, \"p\": 4, \"fpr\": 0.0, \"tpr\": 0.75, \"n\": 3}, {\"threshold\": 0.262, \"p\": 4, \"fpr\": 0.0, \"tpr\": 0.75, \"n\": 3}, {\"threshold\": 0.263, \"p\": 4, \"fpr\": 0.0, \"tpr\": 0.75, \"n\": 3}, {\"threshold\": 0.264, \"p\": 4, \"fpr\": 0.0, \"tpr\": 0.75, \"n\": 3}, {\"threshold\": 0.265, \"p\": 4, \"fpr\": 0.0, \"tpr\": 0.75, \"n\": 3}, {\"threshold\": 0.266, \"p\": 4, \"fpr\": 0.0, \"tpr\": 0.75, \"n\": 3}, {\"threshold\": 0.267, \"p\": 4, \"fpr\": 0.0, \"tpr\": 0.75, \"n\": 3}, {\"threshold\": 0.268, \"p\": 4, \"fpr\": 0.0, \"tpr\": 0.75, \"n\": 3}, {\"threshold\": 0.269, \"p\": 4, \"fpr\": 0.0, \"tpr\": 0.75, \"n\": 3}, {\"threshold\": 0.27, \"p\": 4, \"fpr\": 0.0, \"tpr\": 0.75, \"n\": 3}, {\"threshold\": 0.271, \"p\": 4, \"fpr\": 0.0, \"tpr\": 0.75, \"n\": 3}, {\"threshold\": 0.272, \"p\": 4, \"fpr\": 0.0, \"tpr\": 0.75, \"n\": 3}, {\"threshold\": 0.273, \"p\": 4, \"fpr\": 0.0, \"tpr\": 0.75, \"n\": 3}, {\"threshold\": 0.274, \"p\": 4, \"fpr\": 0.0, \"tpr\": 0.75, \"n\": 3}, {\"threshold\": 0.275, \"p\": 4, \"fpr\": 0.0, \"tpr\": 0.75, \"n\": 3}, {\"threshold\": 0.276, \"p\": 4, \"fpr\": 0.0, \"tpr\": 0.75, \"n\": 3}, {\"threshold\": 0.277, \"p\": 4, \"fpr\": 0.0, \"tpr\": 0.75, \"n\": 3}, {\"threshold\": 0.278, \"p\": 4, \"fpr\": 0.0, \"tpr\": 0.75, \"n\": 3}, {\"threshold\": 0.279, \"p\": 4, \"fpr\": 0.0, \"tpr\": 0.75, \"n\": 3}, {\"threshold\": 0.28, \"p\": 4, \"fpr\": 0.0, \"tpr\": 0.75, \"n\": 3}, {\"threshold\": 0.281, \"p\": 4, \"fpr\": 0.0, \"tpr\": 0.75, \"n\": 3}, {\"threshold\": 0.282, \"p\": 4, \"fpr\": 0.0, \"tpr\": 0.75, \"n\": 3}, {\"threshold\": 0.283, \"p\": 4, \"fpr\": 0.0, \"tpr\": 0.75, \"n\": 3}, {\"threshold\": 0.284, \"p\": 4, \"fpr\": 0.0, \"tpr\": 0.75, \"n\": 3}, {\"threshold\": 0.285, \"p\": 4, \"fpr\": 0.0, \"tpr\": 0.75, \"n\": 3}, {\"threshold\": 0.286, \"p\": 4, \"fpr\": 0.0, \"tpr\": 0.75, \"n\": 3}, {\"threshold\": 0.287, \"p\": 4, \"fpr\": 0.0, \"tpr\": 0.75, \"n\": 3}, {\"threshold\": 0.288, \"p\": 4, \"fpr\": 0.0, \"tpr\": 0.75, \"n\": 3}, {\"threshold\": 0.289, \"p\": 4, \"fpr\": 0.0, \"tpr\": 0.75, \"n\": 3}, {\"threshold\": 0.29, \"p\": 4, \"fpr\": 0.0, \"tpr\": 0.75, \"n\": 3}, {\"threshold\": 0.291, \"p\": 4, \"fpr\": 0.0, \"tpr\": 0.75, \"n\": 3}, {\"threshold\": 0.292, \"p\": 4, \"fpr\": 0.0, \"tpr\": 0.75, \"n\": 3}, {\"threshold\": 0.293, \"p\": 4, \"fpr\": 0.0, \"tpr\": 0.75, \"n\": 3}, {\"threshold\": 0.294, \"p\": 4, \"fpr\": 0.0, \"tpr\": 0.75, \"n\": 3}, {\"threshold\": 0.295, \"p\": 4, \"fpr\": 0.0, \"tpr\": 0.75, \"n\": 3}, {\"threshold\": 0.296, \"p\": 4, \"fpr\": 0.0, \"tpr\": 0.75, \"n\": 3}, {\"threshold\": 0.297, \"p\": 4, \"fpr\": 0.0, \"tpr\": 0.75, \"n\": 3}, {\"threshold\": 0.298, \"p\": 4, \"fpr\": 0.0, \"tpr\": 0.75, \"n\": 3}, {\"threshold\": 0.299, \"p\": 4, \"fpr\": 0.0, \"tpr\": 0.75, \"n\": 3}, {\"threshold\": 0.3, \"p\": 4, \"fpr\": 0.0, \"tpr\": 0.75, \"n\": 3}, {\"threshold\": 0.301, \"p\": 4, \"fpr\": 0.0, \"tpr\": 0.75, \"n\": 3}, {\"threshold\": 0.302, \"p\": 4, \"fpr\": 0.0, \"tpr\": 0.75, \"n\": 3}, {\"threshold\": 0.303, \"p\": 4, \"fpr\": 0.0, \"tpr\": 0.75, \"n\": 3}, {\"threshold\": 0.304, \"p\": 4, \"fpr\": 0.0, \"tpr\": 0.75, \"n\": 3}, {\"threshold\": 0.305, \"p\": 4, \"fpr\": 0.0, \"tpr\": 0.75, \"n\": 3}, {\"threshold\": 0.306, \"p\": 4, \"fpr\": 0.0, \"tpr\": 0.75, \"n\": 3}, {\"threshold\": 0.307, \"p\": 4, \"fpr\": 0.0, \"tpr\": 0.75, \"n\": 3}, {\"threshold\": 0.308, \"p\": 4, \"fpr\": 0.0, \"tpr\": 0.75, \"n\": 3}, {\"threshold\": 0.309, \"p\": 4, \"fpr\": 0.0, \"tpr\": 0.75, \"n\": 3}, {\"threshold\": 0.31, \"p\": 4, \"fpr\": 0.0, \"tpr\": 0.75, \"n\": 3}, {\"threshold\": 0.311, \"p\": 4, \"fpr\": 0.0, \"tpr\": 0.75, \"n\": 3}, {\"threshold\": 0.312, \"p\": 4, \"fpr\": 0.0, \"tpr\": 0.75, \"n\": 3}, {\"threshold\": 0.313, \"p\": 4, \"fpr\": 0.0, \"tpr\": 0.75, \"n\": 3}, {\"threshold\": 0.314, \"p\": 4, \"fpr\": 0.0, \"tpr\": 0.75, \"n\": 3}, {\"threshold\": 0.315, \"p\": 4, \"fpr\": 0.0, \"tpr\": 0.75, \"n\": 3}, {\"threshold\": 0.316, \"p\": 4, \"fpr\": 0.0, \"tpr\": 0.75, \"n\": 3}, {\"threshold\": 0.317, \"p\": 4, \"fpr\": 0.0, \"tpr\": 0.75, \"n\": 3}, {\"threshold\": 0.318, \"p\": 4, \"fpr\": 0.0, \"tpr\": 0.75, \"n\": 3}, {\"threshold\": 0.319, \"p\": 4, \"fpr\": 0.0, \"tpr\": 0.75, \"n\": 3}, {\"threshold\": 0.32, \"p\": 4, \"fpr\": 0.0, \"tpr\": 0.75, \"n\": 3}, {\"threshold\": 0.321, \"p\": 4, \"fpr\": 0.0, \"tpr\": 0.75, \"n\": 3}, {\"threshold\": 0.322, \"p\": 4, \"fpr\": 0.0, \"tpr\": 0.75, \"n\": 3}, {\"threshold\": 0.323, \"p\": 4, \"fpr\": 0.0, \"tpr\": 0.75, \"n\": 3}, {\"threshold\": 0.324, \"p\": 4, \"fpr\": 0.0, \"tpr\": 0.75, \"n\": 3}, {\"threshold\": 0.325, \"p\": 4, \"fpr\": 0.0, \"tpr\": 0.75, \"n\": 3}, {\"threshold\": 0.326, \"p\": 4, \"fpr\": 0.0, \"tpr\": 0.75, \"n\": 3}, {\"threshold\": 0.327, \"p\": 4, \"fpr\": 0.0, \"tpr\": 0.75, \"n\": 3}, {\"threshold\": 0.328, \"p\": 4, \"fpr\": 0.0, \"tpr\": 0.75, \"n\": 3}, {\"threshold\": 0.329, \"p\": 4, \"fpr\": 0.0, \"tpr\": 0.75, \"n\": 3}, {\"threshold\": 0.33, \"p\": 4, \"fpr\": 0.0, \"tpr\": 0.5, \"n\": 3}, {\"threshold\": 0.331, \"p\": 4, \"fpr\": 0.0, \"tpr\": 0.5, \"n\": 3}, {\"threshold\": 0.332, \"p\": 4, \"fpr\": 0.0, \"tpr\": 0.5, \"n\": 3}, {\"threshold\": 0.333, \"p\": 4, \"fpr\": 0.0, \"tpr\": 0.5, \"n\": 3}, {\"threshold\": 0.334, \"p\": 4, \"fpr\": 0.0, \"tpr\": 0.5, \"n\": 3}, {\"threshold\": 0.335, \"p\": 4, \"fpr\": 0.0, \"tpr\": 0.5, \"n\": 3}, {\"threshold\": 0.336, \"p\": 4, \"fpr\": 0.0, \"tpr\": 0.5, \"n\": 3}, {\"threshold\": 0.337, \"p\": 4, \"fpr\": 0.0, \"tpr\": 0.5, \"n\": 3}, {\"threshold\": 0.338, \"p\": 4, \"fpr\": 0.0, \"tpr\": 0.5, \"n\": 3}, {\"threshold\": 0.339, \"p\": 4, \"fpr\": 0.0, \"tpr\": 0.5, \"n\": 3}, {\"threshold\": 0.34, \"p\": 4, \"fpr\": 0.0, \"tpr\": 0.5, \"n\": 3}, {\"threshold\": 0.341, \"p\": 4, \"fpr\": 0.0, \"tpr\": 0.5, \"n\": 3}, {\"threshold\": 0.342, \"p\": 4, \"fpr\": 0.0, \"tpr\": 0.5, \"n\": 3}, {\"threshold\": 0.343, \"p\": 4, \"fpr\": 0.0, \"tpr\": 0.5, \"n\": 3}, {\"threshold\": 0.344, \"p\": 4, \"fpr\": 0.0, \"tpr\": 0.5, \"n\": 3}, {\"threshold\": 0.345, \"p\": 4, \"fpr\": 0.0, \"tpr\": 0.5, \"n\": 3}, {\"threshold\": 0.346, \"p\": 4, \"fpr\": 0.0, \"tpr\": 0.5, \"n\": 3}, {\"threshold\": 0.347, \"p\": 4, \"fpr\": 0.0, \"tpr\": 0.5, \"n\": 3}, {\"threshold\": 0.348, \"p\": 4, \"fpr\": 0.0, \"tpr\": 0.5, \"n\": 3}, {\"threshold\": 0.349, \"p\": 4, \"fpr\": 0.0, \"tpr\": 0.5, \"n\": 3}, {\"threshold\": 0.35, \"p\": 4, \"fpr\": 0.0, \"tpr\": 0.5, \"n\": 3}, {\"threshold\": 0.351, \"p\": 4, \"fpr\": 0.0, \"tpr\": 0.5, \"n\": 3}, {\"threshold\": 0.352, \"p\": 4, \"fpr\": 0.0, \"tpr\": 0.5, \"n\": 3}, {\"threshold\": 0.353, \"p\": 4, \"fpr\": 0.0, \"tpr\": 0.5, \"n\": 3}, {\"threshold\": 0.354, \"p\": 4, \"fpr\": 0.0, \"tpr\": 0.5, \"n\": 3}, {\"threshold\": 0.355, \"p\": 4, \"fpr\": 0.0, \"tpr\": 0.5, \"n\": 3}, {\"threshold\": 0.356, \"p\": 4, \"fpr\": 0.0, \"tpr\": 0.5, \"n\": 3}, {\"threshold\": 0.357, \"p\": 4, \"fpr\": 0.0, \"tpr\": 0.5, \"n\": 3}, {\"threshold\": 0.358, \"p\": 4, \"fpr\": 0.0, \"tpr\": 0.5, \"n\": 3}, {\"threshold\": 0.359, \"p\": 4, \"fpr\": 0.0, \"tpr\": 0.5, \"n\": 3}, {\"threshold\": 0.36, \"p\": 4, \"fpr\": 0.0, \"tpr\": 0.5, \"n\": 3}, {\"threshold\": 0.361, \"p\": 4, \"fpr\": 0.0, \"tpr\": 0.5, \"n\": 3}, {\"threshold\": 0.362, \"p\": 4, \"fpr\": 0.0, \"tpr\": 0.5, \"n\": 3}, {\"threshold\": 0.363, \"p\": 4, \"fpr\": 0.0, \"tpr\": 0.5, \"n\": 3}, {\"threshold\": 0.364, \"p\": 4, \"fpr\": 0.0, \"tpr\": 0.5, \"n\": 3}, {\"threshold\": 0.365, \"p\": 4, \"fpr\": 0.0, \"tpr\": 0.5, \"n\": 3}, {\"threshold\": 0.366, \"p\": 4, \"fpr\": 0.0, \"tpr\": 0.5, \"n\": 3}, {\"threshold\": 0.367, \"p\": 4, \"fpr\": 0.0, \"tpr\": 0.5, \"n\": 3}, {\"threshold\": 0.368, \"p\": 4, \"fpr\": 0.0, \"tpr\": 0.5, \"n\": 3}, {\"threshold\": 0.369, \"p\": 4, \"fpr\": 0.0, \"tpr\": 0.5, \"n\": 3}, {\"threshold\": 0.37, \"p\": 4, \"fpr\": 0.0, \"tpr\": 0.5, \"n\": 3}, {\"threshold\": 0.371, \"p\": 4, \"fpr\": 0.0, \"tpr\": 0.5, \"n\": 3}, {\"threshold\": 0.372, \"p\": 4, \"fpr\": 0.0, \"tpr\": 0.5, \"n\": 3}, {\"threshold\": 0.373, \"p\": 4, \"fpr\": 0.0, \"tpr\": 0.5, \"n\": 3}, {\"threshold\": 0.374, \"p\": 4, \"fpr\": 0.0, \"tpr\": 0.5, \"n\": 3}, {\"threshold\": 0.375, \"p\": 4, \"fpr\": 0.0, \"tpr\": 0.5, \"n\": 3}, {\"threshold\": 0.376, \"p\": 4, \"fpr\": 0.0, \"tpr\": 0.5, \"n\": 3}, {\"threshold\": 0.377, \"p\": 4, \"fpr\": 0.0, \"tpr\": 0.5, \"n\": 3}, {\"threshold\": 0.378, \"p\": 4, \"fpr\": 0.0, \"tpr\": 0.5, \"n\": 3}, {\"threshold\": 0.379, \"p\": 4, \"fpr\": 0.0, \"tpr\": 0.5, \"n\": 3}, {\"threshold\": 0.38, \"p\": 4, \"fpr\": 0.0, \"tpr\": 0.5, \"n\": 3}, {\"threshold\": 0.381, \"p\": 4, \"fpr\": 0.0, \"tpr\": 0.5, \"n\": 3}, {\"threshold\": 0.382, \"p\": 4, \"fpr\": 0.0, \"tpr\": 0.5, \"n\": 3}, {\"threshold\": 0.383, \"p\": 4, \"fpr\": 0.0, \"tpr\": 0.5, \"n\": 3}, {\"threshold\": 0.384, \"p\": 4, \"fpr\": 0.0, \"tpr\": 0.5, \"n\": 3}, {\"threshold\": 0.385, \"p\": 4, \"fpr\": 0.0, \"tpr\": 0.5, \"n\": 3}, {\"threshold\": 0.386, \"p\": 4, \"fpr\": 0.0, \"tpr\": 0.5, \"n\": 3}, {\"threshold\": 0.387, \"p\": 4, \"fpr\": 0.0, \"tpr\": 0.5, \"n\": 3}, {\"threshold\": 0.388, \"p\": 4, \"fpr\": 0.0, \"tpr\": 0.5, \"n\": 3}, {\"threshold\": 0.389, \"p\": 4, \"fpr\": 0.0, \"tpr\": 0.5, \"n\": 3}, {\"threshold\": 0.39, \"p\": 4, \"fpr\": 0.0, \"tpr\": 0.5, \"n\": 3}, {\"threshold\": 0.391, \"p\": 4, \"fpr\": 0.0, \"tpr\": 0.5, \"n\": 3}, {\"threshold\": 0.392, \"p\": 4, \"fpr\": 0.0, \"tpr\": 0.5, \"n\": 3}, {\"threshold\": 0.393, \"p\": 4, \"fpr\": 0.0, \"tpr\": 0.5, \"n\": 3}, {\"threshold\": 0.394, \"p\": 4, \"fpr\": 0.0, \"tpr\": 0.5, \"n\": 3}, {\"threshold\": 0.395, \"p\": 4, \"fpr\": 0.0, \"tpr\": 0.5, \"n\": 3}, {\"threshold\": 0.396, \"p\": 4, \"fpr\": 0.0, \"tpr\": 0.5, \"n\": 3}, {\"threshold\": 0.397, \"p\": 4, \"fpr\": 0.0, \"tpr\": 0.5, \"n\": 3}, {\"threshold\": 0.398, \"p\": 4, \"fpr\": 0.0, \"tpr\": 0.5, \"n\": 3}, {\"threshold\": 0.399, \"p\": 4, \"fpr\": 0.0, \"tpr\": 0.5, \"n\": 3}, {\"threshold\": 0.4, \"p\": 4, \"fpr\": 0.0, \"tpr\": 0.5, \"n\": 3}, {\"threshold\": 0.401, \"p\": 4, \"fpr\": 0.0, \"tpr\": 0.5, \"n\": 3}, {\"threshold\": 0.402, \"p\": 4, \"fpr\": 0.0, \"tpr\": 0.5, \"n\": 3}, {\"threshold\": 0.403, \"p\": 4, \"fpr\": 0.0, \"tpr\": 0.5, \"n\": 3}, {\"threshold\": 0.404, \"p\": 4, \"fpr\": 0.0, \"tpr\": 0.5, \"n\": 3}, {\"threshold\": 0.405, \"p\": 4, \"fpr\": 0.0, \"tpr\": 0.5, \"n\": 3}, {\"threshold\": 0.406, \"p\": 4, \"fpr\": 0.0, \"tpr\": 0.5, \"n\": 3}, {\"threshold\": 0.407, \"p\": 4, \"fpr\": 0.0, \"tpr\": 0.5, \"n\": 3}, {\"threshold\": 0.408, \"p\": 4, \"fpr\": 0.0, \"tpr\": 0.5, \"n\": 3}, {\"threshold\": 0.409, \"p\": 4, \"fpr\": 0.0, \"tpr\": 0.5, \"n\": 3}, {\"threshold\": 0.41, \"p\": 4, \"fpr\": 0.0, \"tpr\": 0.5, \"n\": 3}, {\"threshold\": 0.411, \"p\": 4, \"fpr\": 0.0, \"tpr\": 0.5, \"n\": 3}, {\"threshold\": 0.412, \"p\": 4, \"fpr\": 0.0, \"tpr\": 0.5, \"n\": 3}, {\"threshold\": 0.413, \"p\": 4, \"fpr\": 0.0, \"tpr\": 0.5, \"n\": 3}, {\"threshold\": 0.414, \"p\": 4, \"fpr\": 0.0, \"tpr\": 0.5, \"n\": 3}, {\"threshold\": 0.415, \"p\": 4, \"fpr\": 0.0, \"tpr\": 0.5, \"n\": 3}, {\"threshold\": 0.416, \"p\": 4, \"fpr\": 0.0, \"tpr\": 0.5, \"n\": 3}, {\"threshold\": 0.417, \"p\": 4, \"fpr\": 0.0, \"tpr\": 0.5, \"n\": 3}, {\"threshold\": 0.418, \"p\": 4, \"fpr\": 0.0, \"tpr\": 0.5, \"n\": 3}, {\"threshold\": 0.419, \"p\": 4, \"fpr\": 0.0, \"tpr\": 0.5, \"n\": 3}, {\"threshold\": 0.42, \"p\": 4, \"fpr\": 0.0, \"tpr\": 0.5, \"n\": 3}, {\"threshold\": 0.421, \"p\": 4, \"fpr\": 0.0, \"tpr\": 0.5, \"n\": 3}, {\"threshold\": 0.422, \"p\": 4, \"fpr\": 0.0, \"tpr\": 0.5, \"n\": 3}, {\"threshold\": 0.423, \"p\": 4, \"fpr\": 0.0, \"tpr\": 0.5, \"n\": 3}, {\"threshold\": 0.424, \"p\": 4, \"fpr\": 0.0, \"tpr\": 0.5, \"n\": 3}, {\"threshold\": 0.425, \"p\": 4, \"fpr\": 0.0, \"tpr\": 0.5, \"n\": 3}, {\"threshold\": 0.426, \"p\": 4, \"fpr\": 0.0, \"tpr\": 0.5, \"n\": 3}, {\"threshold\": 0.427, \"p\": 4, \"fpr\": 0.0, \"tpr\": 0.5, \"n\": 3}, {\"threshold\": 0.428, \"p\": 4, \"fpr\": 0.0, \"tpr\": 0.5, \"n\": 3}, {\"threshold\": 0.429, \"p\": 4, \"fpr\": 0.0, \"tpr\": 0.5, \"n\": 3}, {\"threshold\": 0.43, \"p\": 4, \"fpr\": 0.0, \"tpr\": 0.5, \"n\": 3}, {\"threshold\": 0.431, \"p\": 4, \"fpr\": 0.0, \"tpr\": 0.25, \"n\": 3}, {\"threshold\": 0.432, \"p\": 4, \"fpr\": 0.0, \"tpr\": 0.25, \"n\": 3}, {\"threshold\": 0.433, \"p\": 4, \"fpr\": 0.0, \"tpr\": 0.25, \"n\": 3}, {\"threshold\": 0.434, \"p\": 4, \"fpr\": 0.0, \"tpr\": 0.25, \"n\": 3}, {\"threshold\": 0.435, \"p\": 4, \"fpr\": 0.0, \"tpr\": 0.25, \"n\": 3}, {\"threshold\": 0.436, \"p\": 4, \"fpr\": 0.0, \"tpr\": 0.25, \"n\": 3}, {\"threshold\": 0.437, \"p\": 4, \"fpr\": 0.0, \"tpr\": 0.25, \"n\": 3}, {\"threshold\": 0.438, \"p\": 4, \"fpr\": 0.0, \"tpr\": 0.25, \"n\": 3}, {\"threshold\": 0.439, \"p\": 4, \"fpr\": 0.0, \"tpr\": 0.25, \"n\": 3}, {\"threshold\": 0.44, \"p\": 4, \"fpr\": 0.0, \"tpr\": 0.25, \"n\": 3}, {\"threshold\": 0.441, \"p\": 4, \"fpr\": 0.0, \"tpr\": 0.25, \"n\": 3}, {\"threshold\": 0.442, \"p\": 4, \"fpr\": 0.0, \"tpr\": 0.25, \"n\": 3}, {\"threshold\": 0.443, \"p\": 4, \"fpr\": 0.0, \"tpr\": 0.25, \"n\": 3}, {\"threshold\": 0.444, \"p\": 4, \"fpr\": 0.0, \"tpr\": 0.25, \"n\": 3}, {\"threshold\": 0.445, \"p\": 4, \"fpr\": 0.0, \"tpr\": 0.25, \"n\": 3}, {\"threshold\": 0.446, \"p\": 4, \"fpr\": 0.0, \"tpr\": 0.25, \"n\": 3}, {\"threshold\": 0.447, \"p\": 4, \"fpr\": 0.0, \"tpr\": 0.25, \"n\": 3}, {\"threshold\": 0.448, \"p\": 4, \"fpr\": 0.0, \"tpr\": 0.25, \"n\": 3}, {\"threshold\": 0.449, \"p\": 4, \"fpr\": 0.0, \"tpr\": 0.25, \"n\": 3}, {\"threshold\": 0.45, \"p\": 4, \"fpr\": 0.0, \"tpr\": 0.25, \"n\": 3}, {\"threshold\": 0.451, \"p\": 4, \"fpr\": 0.0, \"tpr\": 0.25, \"n\": 3}, {\"threshold\": 0.452, \"p\": 4, \"fpr\": 0.0, \"tpr\": 0.25, \"n\": 3}, {\"threshold\": 0.453, \"p\": 4, \"fpr\": 0.0, \"tpr\": 0.25, \"n\": 3}, {\"threshold\": 0.454, \"p\": 4, \"fpr\": 0.0, \"tpr\": 0.25, \"n\": 3}, {\"threshold\": 0.455, \"p\": 4, \"fpr\": 0.0, \"tpr\": 0.25, \"n\": 3}, {\"threshold\": 0.456, \"p\": 4, \"fpr\": 0.0, \"tpr\": 0.25, \"n\": 3}, {\"threshold\": 0.457, \"p\": 4, \"fpr\": 0.0, \"tpr\": 0.25, \"n\": 3}, {\"threshold\": 0.458, \"p\": 4, \"fpr\": 0.0, \"tpr\": 0.25, \"n\": 3}, {\"threshold\": 0.459, \"p\": 4, \"fpr\": 0.0, \"tpr\": 0.25, \"n\": 3}, {\"threshold\": 0.46, \"p\": 4, \"fpr\": 0.0, \"tpr\": 0.25, \"n\": 3}, {\"threshold\": 0.461, \"p\": 4, \"fpr\": 0.0, \"tpr\": 0.25, \"n\": 3}, {\"threshold\": 0.462, \"p\": 4, \"fpr\": 0.0, \"tpr\": 0.25, \"n\": 3}, {\"threshold\": 0.463, \"p\": 4, \"fpr\": 0.0, \"tpr\": 0.25, \"n\": 3}, {\"threshold\": 0.464, \"p\": 4, \"fpr\": 0.0, \"tpr\": 0.25, \"n\": 3}, {\"threshold\": 0.465, \"p\": 4, \"fpr\": 0.0, \"tpr\": 0.25, \"n\": 3}, {\"threshold\": 0.466, \"p\": 4, \"fpr\": 0.0, \"tpr\": 0.25, \"n\": 3}, {\"threshold\": 0.467, \"p\": 4, \"fpr\": 0.0, \"tpr\": 0.25, \"n\": 3}, {\"threshold\": 0.468, \"p\": 4, \"fpr\": 0.0, \"tpr\": 0.25, \"n\": 3}, {\"threshold\": 0.469, \"p\": 4, \"fpr\": 0.0, \"tpr\": 0.25, \"n\": 3}, {\"threshold\": 0.47, \"p\": 4, \"fpr\": 0.0, \"tpr\": 0.25, \"n\": 3}, {\"threshold\": 0.471, \"p\": 4, \"fpr\": 0.0, \"tpr\": 0.25, \"n\": 3}, {\"threshold\": 0.472, \"p\": 4, \"fpr\": 0.0, \"tpr\": 0.25, \"n\": 3}, {\"threshold\": 0.473, \"p\": 4, \"fpr\": 0.0, \"tpr\": 0.25, \"n\": 3}, {\"threshold\": 0.474, \"p\": 4, \"fpr\": 0.0, \"tpr\": 0.25, \"n\": 3}, {\"threshold\": 0.475, \"p\": 4, \"fpr\": 0.0, \"tpr\": 0.25, \"n\": 3}, {\"threshold\": 0.476, \"p\": 4, \"fpr\": 0.0, \"tpr\": 0.25, \"n\": 3}, {\"threshold\": 0.477, \"p\": 4, \"fpr\": 0.0, \"tpr\": 0.25, \"n\": 3}, {\"threshold\": 0.478, \"p\": 4, \"fpr\": 0.0, \"tpr\": 0.25, \"n\": 3}, {\"threshold\": 0.479, \"p\": 4, \"fpr\": 0.0, \"tpr\": 0.25, \"n\": 3}, {\"threshold\": 0.48, \"p\": 4, \"fpr\": 0.0, \"tpr\": 0.25, \"n\": 3}, {\"threshold\": 0.481, \"p\": 4, \"fpr\": 0.0, \"tpr\": 0.25, \"n\": 3}, {\"threshold\": 0.482, \"p\": 4, \"fpr\": 0.0, \"tpr\": 0.25, \"n\": 3}, {\"threshold\": 0.483, \"p\": 4, \"fpr\": 0.0, \"tpr\": 0.25, \"n\": 3}, {\"threshold\": 0.484, \"p\": 4, \"fpr\": 0.0, \"tpr\": 0.25, \"n\": 3}, {\"threshold\": 0.485, \"p\": 4, \"fpr\": 0.0, \"tpr\": 0.25, \"n\": 3}, {\"threshold\": 0.486, \"p\": 4, \"fpr\": 0.0, \"tpr\": 0.25, \"n\": 3}, {\"threshold\": 0.487, \"p\": 4, \"fpr\": 0.0, \"tpr\": 0.25, \"n\": 3}, {\"threshold\": 0.488, \"p\": 4, \"fpr\": 0.0, \"tpr\": 0.25, \"n\": 3}, {\"threshold\": 0.489, \"p\": 4, \"fpr\": 0.0, \"tpr\": 0.25, \"n\": 3}, {\"threshold\": 0.49, \"p\": 4, \"fpr\": 0.0, \"tpr\": 0.25, \"n\": 3}, {\"threshold\": 0.491, \"p\": 4, \"fpr\": 0.0, \"tpr\": 0.25, \"n\": 3}, {\"threshold\": 0.492, \"p\": 4, \"fpr\": 0.0, \"tpr\": 0.25, \"n\": 3}, {\"threshold\": 0.493, \"p\": 4, \"fpr\": 0.0, \"tpr\": 0.25, \"n\": 3}, {\"threshold\": 0.494, \"p\": 4, \"fpr\": 0.0, \"tpr\": 0.25, \"n\": 3}, {\"threshold\": 0.495, \"p\": 4, \"fpr\": 0.0, \"tpr\": 0.25, \"n\": 3}, {\"threshold\": 0.496, \"p\": 4, \"fpr\": 0.0, \"tpr\": 0.25, \"n\": 3}, {\"threshold\": 0.497, \"p\": 4, \"fpr\": 0.0, \"tpr\": 0.25, \"n\": 3}, {\"threshold\": 0.498, \"p\": 4, \"fpr\": 0.0, \"tpr\": 0.25, \"n\": 3}, {\"threshold\": 0.499, \"p\": 4, \"fpr\": 0.0, \"tpr\": 0.25, \"n\": 3}, {\"threshold\": 0.5, \"p\": 4, \"fpr\": 0.0, \"tpr\": 0.25, \"n\": 3}, {\"threshold\": 0.501, \"p\": 4, \"fpr\": 0.0, \"tpr\": 0.25, \"n\": 3}, {\"threshold\": 0.502, \"p\": 4, \"fpr\": 0.0, \"tpr\": 0.25, \"n\": 3}, {\"threshold\": 0.503, \"p\": 4, \"fpr\": 0.0, \"tpr\": 0.25, \"n\": 3}, {\"threshold\": 0.504, \"p\": 4, \"fpr\": 0.0, \"tpr\": 0.25, \"n\": 3}, {\"threshold\": 0.505, \"p\": 4, \"fpr\": 0.0, \"tpr\": 0.25, \"n\": 3}, {\"threshold\": 0.506, \"p\": 4, \"fpr\": 0.0, \"tpr\": 0.25, \"n\": 3}, {\"threshold\": 0.507, \"p\": 4, \"fpr\": 0.0, \"tpr\": 0.25, \"n\": 3}, {\"threshold\": 0.508, \"p\": 4, \"fpr\": 0.0, \"tpr\": 0.25, \"n\": 3}, {\"threshold\": 0.509, \"p\": 4, \"fpr\": 0.0, \"tpr\": 0.25, \"n\": 3}, {\"threshold\": 0.51, \"p\": 4, \"fpr\": 0.0, \"tpr\": 0.25, \"n\": 3}, {\"threshold\": 0.511, \"p\": 4, \"fpr\": 0.0, \"tpr\": 0.25, \"n\": 3}, {\"threshold\": 0.512, \"p\": 4, \"fpr\": 0.0, \"tpr\": 0.25, \"n\": 3}, {\"threshold\": 0.513, \"p\": 4, \"fpr\": 0.0, \"tpr\": 0.25, \"n\": 3}, {\"threshold\": 0.514, \"p\": 4, \"fpr\": 0.0, \"tpr\": 0.25, \"n\": 3}, {\"threshold\": 0.515, \"p\": 4, \"fpr\": 0.0, \"tpr\": 0.25, \"n\": 3}, {\"threshold\": 0.516, \"p\": 4, \"fpr\": 0.0, \"tpr\": 0.25, \"n\": 3}, {\"threshold\": 0.517, \"p\": 4, \"fpr\": 0.0, \"tpr\": 0.25, \"n\": 3}, {\"threshold\": 0.518, \"p\": 4, \"fpr\": 0.0, \"tpr\": 0.25, \"n\": 3}, {\"threshold\": 0.519, \"p\": 4, \"fpr\": 0.0, \"tpr\": 0.25, \"n\": 3}, {\"threshold\": 0.52, \"p\": 4, \"fpr\": 0.0, \"tpr\": 0.25, \"n\": 3}, {\"threshold\": 0.521, \"p\": 4, \"fpr\": 0.0, \"tpr\": 0.25, \"n\": 3}, {\"threshold\": 0.522, \"p\": 4, \"fpr\": 0.0, \"tpr\": 0.25, \"n\": 3}, {\"threshold\": 0.523, \"p\": 4, \"fpr\": 0.0, \"tpr\": 0.25, \"n\": 3}, {\"threshold\": 0.524, \"p\": 4, \"fpr\": 0.0, \"tpr\": 0.25, \"n\": 3}, {\"threshold\": 0.525, \"p\": 4, \"fpr\": 0.0, \"tpr\": 0.25, \"n\": 3}, {\"threshold\": 0.526, \"p\": 4, \"fpr\": 0.0, \"tpr\": 0.25, \"n\": 3}, {\"threshold\": 0.527, \"p\": 4, \"fpr\": 0.0, \"tpr\": 0.25, \"n\": 3}, {\"threshold\": 0.528, \"p\": 4, \"fpr\": 0.0, \"tpr\": 0.25, \"n\": 3}, {\"threshold\": 0.529, \"p\": 4, \"fpr\": 0.0, \"tpr\": 0.25, \"n\": 3}, {\"threshold\": 0.53, \"p\": 4, \"fpr\": 0.0, \"tpr\": 0.25, \"n\": 3}, {\"threshold\": 0.531, \"p\": 4, \"fpr\": 0.0, \"tpr\": 0.25, \"n\": 3}, {\"threshold\": 0.532, \"p\": 4, \"fpr\": 0.0, \"tpr\": 0.25, \"n\": 3}, {\"threshold\": 0.533, \"p\": 4, \"fpr\": 0.0, \"tpr\": 0.25, \"n\": 3}, {\"threshold\": 0.534, \"p\": 4, \"fpr\": 0.0, \"tpr\": 0.25, \"n\": 3}, {\"threshold\": 0.535, \"p\": 4, \"fpr\": 0.0, \"tpr\": 0.25, \"n\": 3}, {\"threshold\": 0.536, \"p\": 4, \"fpr\": 0.0, \"tpr\": 0.25, \"n\": 3}, {\"threshold\": 0.537, \"p\": 4, \"fpr\": 0.0, \"tpr\": 0.25, \"n\": 3}, {\"threshold\": 0.538, \"p\": 4, \"fpr\": 0.0, \"tpr\": 0.25, \"n\": 3}, {\"threshold\": 0.539, \"p\": 4, \"fpr\": 0.0, \"tpr\": 0.25, \"n\": 3}, {\"threshold\": 0.54, \"p\": 4, \"fpr\": 0.0, \"tpr\": 0.25, \"n\": 3}, {\"threshold\": 0.541, \"p\": 4, \"fpr\": 0.0, \"tpr\": 0.25, \"n\": 3}, {\"threshold\": 0.542, \"p\": 4, \"fpr\": 0.0, \"tpr\": 0.25, \"n\": 3}, {\"threshold\": 0.543, \"p\": 4, \"fpr\": 0.0, \"tpr\": 0.25, \"n\": 3}, {\"threshold\": 0.544, \"p\": 4, \"fpr\": 0.0, \"tpr\": 0.25, \"n\": 3}, {\"threshold\": 0.545, \"p\": 4, \"fpr\": 0.0, \"tpr\": 0.25, \"n\": 3}, {\"threshold\": 0.546, \"p\": 4, \"fpr\": 0.0, \"tpr\": 0.25, \"n\": 3}, {\"threshold\": 0.547, \"p\": 4, \"fpr\": 0.0, \"tpr\": 0.25, \"n\": 3}, {\"threshold\": 0.548, \"p\": 4, \"fpr\": 0.0, \"tpr\": 0.25, \"n\": 3}, {\"threshold\": 0.549, \"p\": 4, \"fpr\": 0.0, \"tpr\": 0.25, \"n\": 3}, {\"threshold\": 0.55, \"p\": 4, \"fpr\": 0.0, \"tpr\": 0.25, \"n\": 3}, {\"threshold\": 0.551, \"p\": 4, \"fpr\": 0.0, \"tpr\": 0.25, \"n\": 3}, {\"threshold\": 0.552, \"p\": 4, \"fpr\": 0.0, \"tpr\": 0.25, \"n\": 3}, {\"threshold\": 0.553, \"p\": 4, \"fpr\": 0.0, \"tpr\": 0.25, \"n\": 3}, {\"threshold\": 0.554, \"p\": 4, \"fpr\": 0.0, \"tpr\": 0.25, \"n\": 3}, {\"threshold\": 0.555, \"p\": 4, \"fpr\": 0.0, \"tpr\": 0.25, \"n\": 3}, {\"threshold\": 0.556, \"p\": 4, \"fpr\": 0.0, \"tpr\": 0.25, \"n\": 3}, {\"threshold\": 0.557, \"p\": 4, \"fpr\": 0.0, \"tpr\": 0.25, \"n\": 3}, {\"threshold\": 0.558, \"p\": 4, \"fpr\": 0.0, \"tpr\": 0.25, \"n\": 3}, {\"threshold\": 0.559, \"p\": 4, \"fpr\": 0.0, \"tpr\": 0.25, \"n\": 3}, {\"threshold\": 0.56, \"p\": 4, \"fpr\": 0.0, \"tpr\": 0.25, \"n\": 3}, {\"threshold\": 0.561, \"p\": 4, \"fpr\": 0.0, \"tpr\": 0.25, \"n\": 3}, {\"threshold\": 0.562, \"p\": 4, \"fpr\": 0.0, \"tpr\": 0.25, \"n\": 3}, {\"threshold\": 0.563, \"p\": 4, \"fpr\": 0.0, \"tpr\": 0.25, \"n\": 3}, {\"threshold\": 0.564, \"p\": 4, \"fpr\": 0.0, \"tpr\": 0.25, \"n\": 3}, {\"threshold\": 0.565, \"p\": 4, \"fpr\": 0.0, \"tpr\": 0.25, \"n\": 3}, {\"threshold\": 0.566, \"p\": 4, \"fpr\": 0.0, \"tpr\": 0.25, \"n\": 3}, {\"threshold\": 0.567, \"p\": 4, \"fpr\": 0.0, \"tpr\": 0.25, \"n\": 3}, {\"threshold\": 0.568, \"p\": 4, \"fpr\": 0.0, \"tpr\": 0.25, \"n\": 3}, {\"threshold\": 0.569, \"p\": 4, \"fpr\": 0.0, \"tpr\": 0.25, \"n\": 3}, {\"threshold\": 0.57, \"p\": 4, \"fpr\": 0.0, \"tpr\": 0.25, \"n\": 3}, {\"threshold\": 0.571, \"p\": 4, \"fpr\": 0.0, \"tpr\": 0.25, \"n\": 3}, {\"threshold\": 0.572, \"p\": 4, \"fpr\": 0.0, \"tpr\": 0.25, \"n\": 3}, {\"threshold\": 0.573, \"p\": 4, \"fpr\": 0.0, \"tpr\": 0.25, \"n\": 3}, {\"threshold\": 0.574, \"p\": 4, \"fpr\": 0.0, \"tpr\": 0.25, \"n\": 3}, {\"threshold\": 0.575, \"p\": 4, \"fpr\": 0.0, \"tpr\": 0.25, \"n\": 3}, {\"threshold\": 0.576, \"p\": 4, \"fpr\": 0.0, \"tpr\": 0.25, \"n\": 3}, {\"threshold\": 0.577, \"p\": 4, \"fpr\": 0.0, \"tpr\": 0.25, \"n\": 3}, {\"threshold\": 0.578, \"p\": 4, \"fpr\": 0.0, \"tpr\": 0.25, \"n\": 3}, {\"threshold\": 0.579, \"p\": 4, \"fpr\": 0.0, \"tpr\": 0.25, \"n\": 3}, {\"threshold\": 0.58, \"p\": 4, \"fpr\": 0.0, \"tpr\": 0.25, \"n\": 3}, {\"threshold\": 0.581, \"p\": 4, \"fpr\": 0.0, \"tpr\": 0.25, \"n\": 3}, {\"threshold\": 0.582, \"p\": 4, \"fpr\": 0.0, \"tpr\": 0.25, \"n\": 3}, {\"threshold\": 0.583, \"p\": 4, \"fpr\": 0.0, \"tpr\": 0.25, \"n\": 3}, {\"threshold\": 0.584, \"p\": 4, \"fpr\": 0.0, \"tpr\": 0.25, \"n\": 3}, {\"threshold\": 0.585, \"p\": 4, \"fpr\": 0.0, \"tpr\": 0.25, \"n\": 3}, {\"threshold\": 0.586, \"p\": 4, \"fpr\": 0.0, \"tpr\": 0.25, \"n\": 3}, {\"threshold\": 0.587, \"p\": 4, \"fpr\": 0.0, \"tpr\": 0.25, \"n\": 3}, {\"threshold\": 0.588, \"p\": 4, \"fpr\": 0.0, \"tpr\": 0.25, \"n\": 3}, {\"threshold\": 0.589, \"p\": 4, \"fpr\": 0.0, \"tpr\": 0.25, \"n\": 3}, {\"threshold\": 0.59, \"p\": 4, \"fpr\": 0.0, \"tpr\": 0.25, \"n\": 3}, {\"threshold\": 0.591, \"p\": 4, \"fpr\": 0.0, \"tpr\": 0.25, \"n\": 3}, {\"threshold\": 0.592, \"p\": 4, \"fpr\": 0.0, \"tpr\": 0.25, \"n\": 3}, {\"threshold\": 0.593, \"p\": 4, \"fpr\": 0.0, \"tpr\": 0.25, \"n\": 3}, {\"threshold\": 0.594, \"p\": 4, \"fpr\": 0.0, \"tpr\": 0.25, \"n\": 3}, {\"threshold\": 0.595, \"p\": 4, \"fpr\": 0.0, \"tpr\": 0.25, \"n\": 3}, {\"threshold\": 0.596, \"p\": 4, \"fpr\": 0.0, \"tpr\": 0.25, \"n\": 3}, {\"threshold\": 0.597, \"p\": 4, \"fpr\": 0.0, \"tpr\": 0.25, \"n\": 3}, {\"threshold\": 0.598, \"p\": 4, \"fpr\": 0.0, \"tpr\": 0.25, \"n\": 3}, {\"threshold\": 0.599, \"p\": 4, \"fpr\": 0.0, \"tpr\": 0.25, \"n\": 3}, {\"threshold\": 0.6, \"p\": 4, \"fpr\": 0.0, \"tpr\": 0.25, \"n\": 3}, {\"threshold\": 0.601, \"p\": 4, \"fpr\": 0.0, \"tpr\": 0.25, \"n\": 3}, {\"threshold\": 0.602, \"p\": 4, \"fpr\": 0.0, \"tpr\": 0.25, \"n\": 3}, {\"threshold\": 0.603, \"p\": 4, \"fpr\": 0.0, \"tpr\": 0.25, \"n\": 3}, {\"threshold\": 0.604, \"p\": 4, \"fpr\": 0.0, \"tpr\": 0.25, \"n\": 3}, {\"threshold\": 0.605, \"p\": 4, \"fpr\": 0.0, \"tpr\": 0.25, \"n\": 3}, {\"threshold\": 0.606, \"p\": 4, \"fpr\": 0.0, \"tpr\": 0.25, \"n\": 3}, {\"threshold\": 0.607, \"p\": 4, \"fpr\": 0.0, \"tpr\": 0.25, \"n\": 3}, {\"threshold\": 0.608, \"p\": 4, \"fpr\": 0.0, \"tpr\": 0.25, \"n\": 3}, {\"threshold\": 0.609, \"p\": 4, \"fpr\": 0.0, \"tpr\": 0.25, \"n\": 3}, {\"threshold\": 0.61, \"p\": 4, \"fpr\": 0.0, \"tpr\": 0.25, \"n\": 3}, {\"threshold\": 0.611, \"p\": 4, \"fpr\": 0.0, \"tpr\": 0.25, \"n\": 3}, {\"threshold\": 0.612, \"p\": 4, \"fpr\": 0.0, \"tpr\": 0.25, \"n\": 3}, {\"threshold\": 0.613, \"p\": 4, \"fpr\": 0.0, \"tpr\": 0.25, \"n\": 3}, {\"threshold\": 0.614, \"p\": 4, \"fpr\": 0.0, \"tpr\": 0.25, \"n\": 3}, {\"threshold\": 0.615, \"p\": 4, \"fpr\": 0.0, \"tpr\": 0.25, \"n\": 3}, {\"threshold\": 0.616, \"p\": 4, \"fpr\": 0.0, \"tpr\": 0.25, \"n\": 3}, {\"threshold\": 0.617, \"p\": 4, \"fpr\": 0.0, \"tpr\": 0.25, \"n\": 3}, {\"threshold\": 0.618, \"p\": 4, \"fpr\": 0.0, \"tpr\": 0.25, \"n\": 3}, {\"threshold\": 0.619, \"p\": 4, \"fpr\": 0.0, \"tpr\": 0.25, \"n\": 3}, {\"threshold\": 0.62, \"p\": 4, \"fpr\": 0.0, \"tpr\": 0.25, \"n\": 3}, {\"threshold\": 0.621, \"p\": 4, \"fpr\": 0.0, \"tpr\": 0.25, \"n\": 3}, {\"threshold\": 0.622, \"p\": 4, \"fpr\": 0.0, \"tpr\": 0.25, \"n\": 3}, {\"threshold\": 0.623, \"p\": 4, \"fpr\": 0.0, \"tpr\": 0.25, \"n\": 3}, {\"threshold\": 0.624, \"p\": 4, \"fpr\": 0.0, \"tpr\": 0.25, \"n\": 3}, {\"threshold\": 0.625, \"p\": 4, \"fpr\": 0.0, \"tpr\": 0.25, \"n\": 3}, {\"threshold\": 0.626, \"p\": 4, \"fpr\": 0.0, \"tpr\": 0.25, \"n\": 3}, {\"threshold\": 0.627, \"p\": 4, \"fpr\": 0.0, \"tpr\": 0.25, \"n\": 3}, {\"threshold\": 0.628, \"p\": 4, \"fpr\": 0.0, \"tpr\": 0.25, \"n\": 3}, {\"threshold\": 0.629, \"p\": 4, \"fpr\": 0.0, \"tpr\": 0.25, \"n\": 3}, {\"threshold\": 0.63, \"p\": 4, \"fpr\": 0.0, \"tpr\": 0.25, \"n\": 3}, {\"threshold\": 0.631, \"p\": 4, \"fpr\": 0.0, \"tpr\": 0.25, \"n\": 3}, {\"threshold\": 0.632, \"p\": 4, \"fpr\": 0.0, \"tpr\": 0.25, \"n\": 3}, {\"threshold\": 0.633, \"p\": 4, \"fpr\": 0.0, \"tpr\": 0.25, \"n\": 3}, {\"threshold\": 0.634, \"p\": 4, \"fpr\": 0.0, \"tpr\": 0.25, \"n\": 3}, {\"threshold\": 0.635, \"p\": 4, \"fpr\": 0.0, \"tpr\": 0.25, \"n\": 3}, {\"threshold\": 0.636, \"p\": 4, \"fpr\": 0.0, \"tpr\": 0.25, \"n\": 3}, {\"threshold\": 0.637, \"p\": 4, \"fpr\": 0.0, \"tpr\": 0.25, \"n\": 3}, {\"threshold\": 0.638, \"p\": 4, \"fpr\": 0.0, \"tpr\": 0.25, \"n\": 3}, {\"threshold\": 0.639, \"p\": 4, \"fpr\": 0.0, \"tpr\": 0.25, \"n\": 3}, {\"threshold\": 0.64, \"p\": 4, \"fpr\": 0.0, \"tpr\": 0.25, \"n\": 3}, {\"threshold\": 0.641, \"p\": 4, \"fpr\": 0.0, \"tpr\": 0.25, \"n\": 3}, {\"threshold\": 0.642, \"p\": 4, \"fpr\": 0.0, \"tpr\": 0.25, \"n\": 3}, {\"threshold\": 0.643, \"p\": 4, \"fpr\": 0.0, \"tpr\": 0.25, \"n\": 3}, {\"threshold\": 0.644, \"p\": 4, \"fpr\": 0.0, \"tpr\": 0.25, \"n\": 3}, {\"threshold\": 0.645, \"p\": 4, \"fpr\": 0.0, \"tpr\": 0.25, \"n\": 3}, {\"threshold\": 0.646, \"p\": 4, \"fpr\": 0.0, \"tpr\": 0.25, \"n\": 3}, {\"threshold\": 0.647, \"p\": 4, \"fpr\": 0.0, \"tpr\": 0.25, \"n\": 3}, {\"threshold\": 0.648, \"p\": 4, \"fpr\": 0.0, \"tpr\": 0.25, \"n\": 3}, {\"threshold\": 0.649, \"p\": 4, \"fpr\": 0.0, \"tpr\": 0.25, \"n\": 3}, {\"threshold\": 0.65, \"p\": 4, \"fpr\": 0.0, \"tpr\": 0.25, \"n\": 3}, {\"threshold\": 0.651, \"p\": 4, \"fpr\": 0.0, \"tpr\": 0.25, \"n\": 3}, {\"threshold\": 0.652, \"p\": 4, \"fpr\": 0.0, \"tpr\": 0.25, \"n\": 3}, {\"threshold\": 0.653, \"p\": 4, \"fpr\": 0.0, \"tpr\": 0.25, \"n\": 3}, {\"threshold\": 0.654, \"p\": 4, \"fpr\": 0.0, \"tpr\": 0.25, \"n\": 3}, {\"threshold\": 0.655, \"p\": 4, \"fpr\": 0.0, \"tpr\": 0.25, \"n\": 3}, {\"threshold\": 0.656, \"p\": 4, \"fpr\": 0.0, \"tpr\": 0.25, \"n\": 3}, {\"threshold\": 0.657, \"p\": 4, \"fpr\": 0.0, \"tpr\": 0.25, \"n\": 3}, {\"threshold\": 0.658, \"p\": 4, \"fpr\": 0.0, \"tpr\": 0.25, \"n\": 3}, {\"threshold\": 0.659, \"p\": 4, \"fpr\": 0.0, \"tpr\": 0.25, \"n\": 3}, {\"threshold\": 0.66, \"p\": 4, \"fpr\": 0.0, \"tpr\": 0.25, \"n\": 3}, {\"threshold\": 0.661, \"p\": 4, \"fpr\": 0.0, \"tpr\": 0.25, \"n\": 3}, {\"threshold\": 0.662, \"p\": 4, \"fpr\": 0.0, \"tpr\": 0.25, \"n\": 3}, {\"threshold\": 0.663, \"p\": 4, \"fpr\": 0.0, \"tpr\": 0.25, \"n\": 3}, {\"threshold\": 0.664, \"p\": 4, \"fpr\": 0.0, \"tpr\": 0.25, \"n\": 3}, {\"threshold\": 0.665, \"p\": 4, \"fpr\": 0.0, \"tpr\": 0.25, \"n\": 3}, {\"threshold\": 0.666, \"p\": 4, \"fpr\": 0.0, \"tpr\": 0.25, \"n\": 3}, {\"threshold\": 0.667, \"p\": 4, \"fpr\": 0.0, \"tpr\": 0.25, \"n\": 3}, {\"threshold\": 0.668, \"p\": 4, \"fpr\": 0.0, \"tpr\": 0.25, \"n\": 3}, {\"threshold\": 0.669, \"p\": 4, \"fpr\": 0.0, \"tpr\": 0.25, \"n\": 3}, {\"threshold\": 0.67, \"p\": 4, \"fpr\": 0.0, \"tpr\": 0.25, \"n\": 3}, {\"threshold\": 0.671, \"p\": 4, \"fpr\": 0.0, \"tpr\": 0.25, \"n\": 3}, {\"threshold\": 0.672, \"p\": 4, \"fpr\": 0.0, \"tpr\": 0.25, \"n\": 3}, {\"threshold\": 0.673, \"p\": 4, \"fpr\": 0.0, \"tpr\": 0.25, \"n\": 3}, {\"threshold\": 0.674, \"p\": 4, \"fpr\": 0.0, \"tpr\": 0.25, \"n\": 3}, {\"threshold\": 0.675, \"p\": 4, \"fpr\": 0.0, \"tpr\": 0.25, \"n\": 3}, {\"threshold\": 0.676, \"p\": 4, \"fpr\": 0.0, \"tpr\": 0.25, \"n\": 3}, {\"threshold\": 0.677, \"p\": 4, \"fpr\": 0.0, \"tpr\": 0.25, \"n\": 3}, {\"threshold\": 0.678, \"p\": 4, \"fpr\": 0.0, \"tpr\": 0.25, \"n\": 3}, {\"threshold\": 0.679, \"p\": 4, \"fpr\": 0.0, \"tpr\": 0.25, \"n\": 3}, {\"threshold\": 0.68, \"p\": 4, \"fpr\": 0.0, \"tpr\": 0.25, \"n\": 3}, {\"threshold\": 0.681, \"p\": 4, \"fpr\": 0.0, \"tpr\": 0.25, \"n\": 3}, {\"threshold\": 0.682, \"p\": 4, \"fpr\": 0.0, \"tpr\": 0.25, \"n\": 3}, {\"threshold\": 0.683, \"p\": 4, \"fpr\": 0.0, \"tpr\": 0.25, \"n\": 3}, {\"threshold\": 0.684, \"p\": 4, \"fpr\": 0.0, \"tpr\": 0.25, \"n\": 3}, {\"threshold\": 0.685, \"p\": 4, \"fpr\": 0.0, \"tpr\": 0.25, \"n\": 3}, {\"threshold\": 0.686, \"p\": 4, \"fpr\": 0.0, \"tpr\": 0.25, \"n\": 3}, {\"threshold\": 0.687, \"p\": 4, \"fpr\": 0.0, \"tpr\": 0.25, \"n\": 3}, {\"threshold\": 0.688, \"p\": 4, \"fpr\": 0.0, \"tpr\": 0.25, \"n\": 3}, {\"threshold\": 0.689, \"p\": 4, \"fpr\": 0.0, \"tpr\": 0.25, \"n\": 3}, {\"threshold\": 0.69, \"p\": 4, \"fpr\": 0.0, \"tpr\": 0.25, \"n\": 3}, {\"threshold\": 0.691, \"p\": 4, \"fpr\": 0.0, \"tpr\": 0.25, \"n\": 3}, {\"threshold\": 0.692, \"p\": 4, \"fpr\": 0.0, \"tpr\": 0.25, \"n\": 3}, {\"threshold\": 0.693, \"p\": 4, \"fpr\": 0.0, \"tpr\": 0.25, \"n\": 3}, {\"threshold\": 0.694, \"p\": 4, \"fpr\": 0.0, \"tpr\": 0.25, \"n\": 3}, {\"threshold\": 0.695, \"p\": 4, \"fpr\": 0.0, \"tpr\": 0.25, \"n\": 3}, {\"threshold\": 0.696, \"p\": 4, \"fpr\": 0.0, \"tpr\": 0.25, \"n\": 3}, {\"threshold\": 0.697, \"p\": 4, \"fpr\": 0.0, \"tpr\": 0.25, \"n\": 3}, {\"threshold\": 0.698, \"p\": 4, \"fpr\": 0.0, \"tpr\": 0.25, \"n\": 3}, {\"threshold\": 0.699, \"p\": 4, \"fpr\": 0.0, \"tpr\": 0.25, \"n\": 3}, {\"threshold\": 0.7, \"p\": 4, \"fpr\": 0.0, \"tpr\": 0.25, \"n\": 3}, {\"threshold\": 0.701, \"p\": 4, \"fpr\": 0.0, \"tpr\": 0.25, \"n\": 3}, {\"threshold\": 0.702, \"p\": 4, \"fpr\": 0.0, \"tpr\": 0.25, \"n\": 3}, {\"threshold\": 0.703, \"p\": 4, \"fpr\": 0.0, \"tpr\": 0.25, \"n\": 3}, {\"threshold\": 0.704, \"p\": 4, \"fpr\": 0.0, \"tpr\": 0.25, \"n\": 3}, {\"threshold\": 0.705, \"p\": 4, \"fpr\": 0.0, \"tpr\": 0.25, \"n\": 3}, {\"threshold\": 0.706, \"p\": 4, \"fpr\": 0.0, \"tpr\": 0.25, \"n\": 3}, {\"threshold\": 0.707, \"p\": 4, \"fpr\": 0.0, \"tpr\": 0.25, \"n\": 3}, {\"threshold\": 0.708, \"p\": 4, \"fpr\": 0.0, \"tpr\": 0.25, \"n\": 3}, {\"threshold\": 0.709, \"p\": 4, \"fpr\": 0.0, \"tpr\": 0.25, \"n\": 3}, {\"threshold\": 0.71, \"p\": 4, \"fpr\": 0.0, \"tpr\": 0.25, \"n\": 3}, {\"threshold\": 0.711, \"p\": 4, \"fpr\": 0.0, \"tpr\": 0.25, \"n\": 3}, {\"threshold\": 0.712, \"p\": 4, \"fpr\": 0.0, \"tpr\": 0.25, \"n\": 3}, {\"threshold\": 0.713, \"p\": 4, \"fpr\": 0.0, \"tpr\": 0.25, \"n\": 3}, {\"threshold\": 0.714, \"p\": 4, \"fpr\": 0.0, \"tpr\": 0.25, \"n\": 3}, {\"threshold\": 0.715, \"p\": 4, \"fpr\": 0.0, \"tpr\": 0.25, \"n\": 3}, {\"threshold\": 0.716, \"p\": 4, \"fpr\": 0.0, \"tpr\": 0.25, \"n\": 3}, {\"threshold\": 0.717, \"p\": 4, \"fpr\": 0.0, \"tpr\": 0.25, \"n\": 3}, {\"threshold\": 0.718, \"p\": 4, \"fpr\": 0.0, \"tpr\": 0.25, \"n\": 3}, {\"threshold\": 0.719, \"p\": 4, \"fpr\": 0.0, \"tpr\": 0.25, \"n\": 3}, {\"threshold\": 0.72, \"p\": 4, \"fpr\": 0.0, \"tpr\": 0.25, \"n\": 3}, {\"threshold\": 0.721, \"p\": 4, \"fpr\": 0.0, \"tpr\": 0.25, \"n\": 3}, {\"threshold\": 0.722, \"p\": 4, \"fpr\": 0.0, \"tpr\": 0.25, \"n\": 3}, {\"threshold\": 0.723, \"p\": 4, \"fpr\": 0.0, \"tpr\": 0.25, \"n\": 3}, {\"threshold\": 0.724, \"p\": 4, \"fpr\": 0.0, \"tpr\": 0.25, \"n\": 3}, {\"threshold\": 0.725, \"p\": 4, \"fpr\": 0.0, \"tpr\": 0.25, \"n\": 3}, {\"threshold\": 0.726, \"p\": 4, \"fpr\": 0.0, \"tpr\": 0.25, \"n\": 3}, {\"threshold\": 0.727, \"p\": 4, \"fpr\": 0.0, \"tpr\": 0.25, \"n\": 3}, {\"threshold\": 0.728, \"p\": 4, \"fpr\": 0.0, \"tpr\": 0.25, \"n\": 3}, {\"threshold\": 0.729, \"p\": 4, \"fpr\": 0.0, \"tpr\": 0.25, \"n\": 3}, {\"threshold\": 0.73, \"p\": 4, \"fpr\": 0.0, \"tpr\": 0.25, \"n\": 3}, {\"threshold\": 0.731, \"p\": 4, \"fpr\": 0.0, \"tpr\": 0.25, \"n\": 3}, {\"threshold\": 0.732, \"p\": 4, \"fpr\": 0.0, \"tpr\": 0.25, \"n\": 3}, {\"threshold\": 0.733, \"p\": 4, \"fpr\": 0.0, \"tpr\": 0.25, \"n\": 3}, {\"threshold\": 0.734, \"p\": 4, \"fpr\": 0.0, \"tpr\": 0.25, \"n\": 3}, {\"threshold\": 0.735, \"p\": 4, \"fpr\": 0.0, \"tpr\": 0.25, \"n\": 3}, {\"threshold\": 0.736, \"p\": 4, \"fpr\": 0.0, \"tpr\": 0.25, \"n\": 3}, {\"threshold\": 0.737, \"p\": 4, \"fpr\": 0.0, \"tpr\": 0.25, \"n\": 3}, {\"threshold\": 0.738, \"p\": 4, \"fpr\": 0.0, \"tpr\": 0.25, \"n\": 3}, {\"threshold\": 0.739, \"p\": 4, \"fpr\": 0.0, \"tpr\": 0.25, \"n\": 3}, {\"threshold\": 0.74, \"p\": 4, \"fpr\": 0.0, \"tpr\": 0.25, \"n\": 3}, {\"threshold\": 0.741, \"p\": 4, \"fpr\": 0.0, \"tpr\": 0.25, \"n\": 3}, {\"threshold\": 0.742, \"p\": 4, \"fpr\": 0.0, \"tpr\": 0.25, \"n\": 3}, {\"threshold\": 0.743, \"p\": 4, \"fpr\": 0.0, \"tpr\": 0.25, \"n\": 3}, {\"threshold\": 0.744, \"p\": 4, \"fpr\": 0.0, \"tpr\": 0.25, \"n\": 3}, {\"threshold\": 0.745, \"p\": 4, \"fpr\": 0.0, \"tpr\": 0.25, \"n\": 3}, {\"threshold\": 0.746, \"p\": 4, \"fpr\": 0.0, \"tpr\": 0.25, \"n\": 3}, {\"threshold\": 0.747, \"p\": 4, \"fpr\": 0.0, \"tpr\": 0.25, \"n\": 3}, {\"threshold\": 0.748, \"p\": 4, \"fpr\": 0.0, \"tpr\": 0.25, \"n\": 3}, {\"threshold\": 0.749, \"p\": 4, \"fpr\": 0.0, \"tpr\": 0.25, \"n\": 3}, {\"threshold\": 0.75, \"p\": 4, \"fpr\": 0.0, \"tpr\": 0.25, \"n\": 3}, {\"threshold\": 0.751, \"p\": 4, \"fpr\": 0.0, \"tpr\": 0.25, \"n\": 3}, {\"threshold\": 0.752, \"p\": 4, \"fpr\": 0.0, \"tpr\": 0.25, \"n\": 3}, {\"threshold\": 0.753, \"p\": 4, \"fpr\": 0.0, \"tpr\": 0.25, \"n\": 3}, {\"threshold\": 0.754, \"p\": 4, \"fpr\": 0.0, \"tpr\": 0.25, \"n\": 3}, {\"threshold\": 0.755, \"p\": 4, \"fpr\": 0.0, \"tpr\": 0.25, \"n\": 3}, {\"threshold\": 0.756, \"p\": 4, \"fpr\": 0.0, \"tpr\": 0.25, \"n\": 3}, {\"threshold\": 0.757, \"p\": 4, \"fpr\": 0.0, \"tpr\": 0.25, \"n\": 3}, {\"threshold\": 0.758, \"p\": 4, \"fpr\": 0.0, \"tpr\": 0.25, \"n\": 3}, {\"threshold\": 0.759, \"p\": 4, \"fpr\": 0.0, \"tpr\": 0.25, \"n\": 3}, {\"threshold\": 0.76, \"p\": 4, \"fpr\": 0.0, \"tpr\": 0.25, \"n\": 3}, {\"threshold\": 0.761, \"p\": 4, \"fpr\": 0.0, \"tpr\": 0.25, \"n\": 3}, {\"threshold\": 0.762, \"p\": 4, \"fpr\": 0.0, \"tpr\": 0.25, \"n\": 3}, {\"threshold\": 0.763, \"p\": 4, \"fpr\": 0.0, \"tpr\": 0.25, \"n\": 3}, {\"threshold\": 0.764, \"p\": 4, \"fpr\": 0.0, \"tpr\": 0.25, \"n\": 3}, {\"threshold\": 0.765, \"p\": 4, \"fpr\": 0.0, \"tpr\": 0.25, \"n\": 3}, {\"threshold\": 0.766, \"p\": 4, \"fpr\": 0.0, \"tpr\": 0.25, \"n\": 3}, {\"threshold\": 0.767, \"p\": 4, \"fpr\": 0.0, \"tpr\": 0.25, \"n\": 3}, {\"threshold\": 0.768, \"p\": 4, \"fpr\": 0.0, \"tpr\": 0.25, \"n\": 3}, {\"threshold\": 0.769, \"p\": 4, \"fpr\": 0.0, \"tpr\": 0.25, \"n\": 3}, {\"threshold\": 0.77, \"p\": 4, \"fpr\": 0.0, \"tpr\": 0.25, \"n\": 3}, {\"threshold\": 0.771, \"p\": 4, \"fpr\": 0.0, \"tpr\": 0.25, \"n\": 3}, {\"threshold\": 0.772, \"p\": 4, \"fpr\": 0.0, \"tpr\": 0.25, \"n\": 3}, {\"threshold\": 0.773, \"p\": 4, \"fpr\": 0.0, \"tpr\": 0.25, \"n\": 3}, {\"threshold\": 0.774, \"p\": 4, \"fpr\": 0.0, \"tpr\": 0.25, \"n\": 3}, {\"threshold\": 0.775, \"p\": 4, \"fpr\": 0.0, \"tpr\": 0.25, \"n\": 3}, {\"threshold\": 0.776, \"p\": 4, \"fpr\": 0.0, \"tpr\": 0.25, \"n\": 3}, {\"threshold\": 0.777, \"p\": 4, \"fpr\": 0.0, \"tpr\": 0.25, \"n\": 3}, {\"threshold\": 0.778, \"p\": 4, \"fpr\": 0.0, \"tpr\": 0.25, \"n\": 3}, {\"threshold\": 0.779, \"p\": 4, \"fpr\": 0.0, \"tpr\": 0.25, \"n\": 3}, {\"threshold\": 0.78, \"p\": 4, \"fpr\": 0.0, \"tpr\": 0.25, \"n\": 3}, {\"threshold\": 0.781, \"p\": 4, \"fpr\": 0.0, \"tpr\": 0.25, \"n\": 3}, {\"threshold\": 0.782, \"p\": 4, \"fpr\": 0.0, \"tpr\": 0.25, \"n\": 3}, {\"threshold\": 0.783, \"p\": 4, \"fpr\": 0.0, \"tpr\": 0.25, \"n\": 3}, {\"threshold\": 0.784, \"p\": 4, \"fpr\": 0.0, \"tpr\": 0.25, \"n\": 3}, {\"threshold\": 0.785, \"p\": 4, \"fpr\": 0.0, \"tpr\": 0.25, \"n\": 3}, {\"threshold\": 0.786, \"p\": 4, \"fpr\": 0.0, \"tpr\": 0.25, \"n\": 3}, {\"threshold\": 0.787, \"p\": 4, \"fpr\": 0.0, \"tpr\": 0.25, \"n\": 3}, {\"threshold\": 0.788, \"p\": 4, \"fpr\": 0.0, \"tpr\": 0.25, \"n\": 3}, {\"threshold\": 0.789, \"p\": 4, \"fpr\": 0.0, \"tpr\": 0.25, \"n\": 3}, {\"threshold\": 0.79, \"p\": 4, \"fpr\": 0.0, \"tpr\": 0.25, \"n\": 3}, {\"threshold\": 0.791, \"p\": 4, \"fpr\": 0.0, \"tpr\": 0.25, \"n\": 3}, {\"threshold\": 0.792, \"p\": 4, \"fpr\": 0.0, \"tpr\": 0.25, \"n\": 3}, {\"threshold\": 0.793, \"p\": 4, \"fpr\": 0.0, \"tpr\": 0.25, \"n\": 3}, {\"threshold\": 0.794, \"p\": 4, \"fpr\": 0.0, \"tpr\": 0.25, \"n\": 3}, {\"threshold\": 0.795, \"p\": 4, \"fpr\": 0.0, \"tpr\": 0.25, \"n\": 3}, {\"threshold\": 0.796, \"p\": 4, \"fpr\": 0.0, \"tpr\": 0.25, \"n\": 3}, {\"threshold\": 0.797, \"p\": 4, \"fpr\": 0.0, \"tpr\": 0.25, \"n\": 3}, {\"threshold\": 0.798, \"p\": 4, \"fpr\": 0.0, \"tpr\": 0.25, \"n\": 3}, {\"threshold\": 0.799, \"p\": 4, \"fpr\": 0.0, \"tpr\": 0.25, \"n\": 3}, {\"threshold\": 0.8, \"p\": 4, \"fpr\": 0.0, \"tpr\": 0.25, \"n\": 3}, {\"threshold\": 0.801, \"p\": 4, \"fpr\": 0.0, \"tpr\": 0.25, \"n\": 3}, {\"threshold\": 0.802, \"p\": 4, \"fpr\": 0.0, \"tpr\": 0.25, \"n\": 3}, {\"threshold\": 0.803, \"p\": 4, \"fpr\": 0.0, \"tpr\": 0.25, \"n\": 3}, {\"threshold\": 0.804, \"p\": 4, \"fpr\": 0.0, \"tpr\": 0.25, \"n\": 3}, {\"threshold\": 0.805, \"p\": 4, \"fpr\": 0.0, \"tpr\": 0.25, \"n\": 3}, {\"threshold\": 0.806, \"p\": 4, \"fpr\": 0.0, \"tpr\": 0.25, \"n\": 3}, {\"threshold\": 0.807, \"p\": 4, \"fpr\": 0.0, \"tpr\": 0.25, \"n\": 3}, {\"threshold\": 0.808, \"p\": 4, \"fpr\": 0.0, \"tpr\": 0.25, \"n\": 3}, {\"threshold\": 0.809, \"p\": 4, \"fpr\": 0.0, \"tpr\": 0.25, \"n\": 3}, {\"threshold\": 0.81, \"p\": 4, \"fpr\": 0.0, \"tpr\": 0.25, \"n\": 3}, {\"threshold\": 0.811, \"p\": 4, \"fpr\": 0.0, \"tpr\": 0.25, \"n\": 3}, {\"threshold\": 0.812, \"p\": 4, \"fpr\": 0.0, \"tpr\": 0.25, \"n\": 3}, {\"threshold\": 0.813, \"p\": 4, \"fpr\": 0.0, \"tpr\": 0.25, \"n\": 3}, {\"threshold\": 0.814, \"p\": 4, \"fpr\": 0.0, \"tpr\": 0.25, \"n\": 3}, {\"threshold\": 0.815, \"p\": 4, \"fpr\": 0.0, \"tpr\": 0.25, \"n\": 3}, {\"threshold\": 0.816, \"p\": 4, \"fpr\": 0.0, \"tpr\": 0.25, \"n\": 3}, {\"threshold\": 0.817, \"p\": 4, \"fpr\": 0.0, \"tpr\": 0.25, \"n\": 3}, {\"threshold\": 0.818, \"p\": 4, \"fpr\": 0.0, \"tpr\": 0.25, \"n\": 3}, {\"threshold\": 0.819, \"p\": 4, \"fpr\": 0.0, \"tpr\": 0.25, \"n\": 3}, {\"threshold\": 0.82, \"p\": 4, \"fpr\": 0.0, \"tpr\": 0.25, \"n\": 3}, {\"threshold\": 0.821, \"p\": 4, \"fpr\": 0.0, \"tpr\": 0.25, \"n\": 3}, {\"threshold\": 0.822, \"p\": 4, \"fpr\": 0.0, \"tpr\": 0.25, \"n\": 3}, {\"threshold\": 0.823, \"p\": 4, \"fpr\": 0.0, \"tpr\": 0.25, \"n\": 3}, {\"threshold\": 0.824, \"p\": 4, \"fpr\": 0.0, \"tpr\": 0.25, \"n\": 3}, {\"threshold\": 0.825, \"p\": 4, \"fpr\": 0.0, \"tpr\": 0.25, \"n\": 3}, {\"threshold\": 0.826, \"p\": 4, \"fpr\": 0.0, \"tpr\": 0.25, \"n\": 3}, {\"threshold\": 0.827, \"p\": 4, \"fpr\": 0.0, \"tpr\": 0.25, \"n\": 3}, {\"threshold\": 0.828, \"p\": 4, \"fpr\": 0.0, \"tpr\": 0.25, \"n\": 3}, {\"threshold\": 0.829, \"p\": 4, \"fpr\": 0.0, \"tpr\": 0.25, \"n\": 3}, {\"threshold\": 0.83, \"p\": 4, \"fpr\": 0.0, \"tpr\": 0.25, \"n\": 3}, {\"threshold\": 0.831, \"p\": 4, \"fpr\": 0.0, \"tpr\": 0.25, \"n\": 3}, {\"threshold\": 0.832, \"p\": 4, \"fpr\": 0.0, \"tpr\": 0.25, \"n\": 3}, {\"threshold\": 0.833, \"p\": 4, \"fpr\": 0.0, \"tpr\": 0.25, \"n\": 3}, {\"threshold\": 0.834, \"p\": 4, \"fpr\": 0.0, \"tpr\": 0.25, \"n\": 3}, {\"threshold\": 0.835, \"p\": 4, \"fpr\": 0.0, \"tpr\": 0.25, \"n\": 3}, {\"threshold\": 0.836, \"p\": 4, \"fpr\": 0.0, \"tpr\": 0.25, \"n\": 3}, {\"threshold\": 0.837, \"p\": 4, \"fpr\": 0.0, \"tpr\": 0.25, \"n\": 3}, {\"threshold\": 0.838, \"p\": 4, \"fpr\": 0.0, \"tpr\": 0.25, \"n\": 3}, {\"threshold\": 0.839, \"p\": 4, \"fpr\": 0.0, \"tpr\": 0.25, \"n\": 3}, {\"threshold\": 0.84, \"p\": 4, \"fpr\": 0.0, \"tpr\": 0.25, \"n\": 3}, {\"threshold\": 0.841, \"p\": 4, \"fpr\": 0.0, \"tpr\": 0.25, \"n\": 3}, {\"threshold\": 0.842, \"p\": 4, \"fpr\": 0.0, \"tpr\": 0.25, \"n\": 3}, {\"threshold\": 0.843, \"p\": 4, \"fpr\": 0.0, \"tpr\": 0.25, \"n\": 3}, {\"threshold\": 0.844, \"p\": 4, \"fpr\": 0.0, \"tpr\": 0.25, \"n\": 3}, {\"threshold\": 0.845, \"p\": 4, \"fpr\": 0.0, \"tpr\": 0.25, \"n\": 3}, {\"threshold\": 0.846, \"p\": 4, \"fpr\": 0.0, \"tpr\": 0.25, \"n\": 3}, {\"threshold\": 0.847, \"p\": 4, \"fpr\": 0.0, \"tpr\": 0.25, \"n\": 3}, {\"threshold\": 0.848, \"p\": 4, \"fpr\": 0.0, \"tpr\": 0.25, \"n\": 3}, {\"threshold\": 0.849, \"p\": 4, \"fpr\": 0.0, \"tpr\": 0.25, \"n\": 3}, {\"threshold\": 0.85, \"p\": 4, \"fpr\": 0.0, \"tpr\": 0.25, \"n\": 3}, {\"threshold\": 0.851, \"p\": 4, \"fpr\": 0.0, \"tpr\": 0.25, \"n\": 3}, {\"threshold\": 0.852, \"p\": 4, \"fpr\": 0.0, \"tpr\": 0.25, \"n\": 3}, {\"threshold\": 0.853, \"p\": 4, \"fpr\": 0.0, \"tpr\": 0.25, \"n\": 3}, {\"threshold\": 0.854, \"p\": 4, \"fpr\": 0.0, \"tpr\": 0.25, \"n\": 3}, {\"threshold\": 0.855, \"p\": 4, \"fpr\": 0.0, \"tpr\": 0.25, \"n\": 3}, {\"threshold\": 0.856, \"p\": 4, \"fpr\": 0.0, \"tpr\": 0.25, \"n\": 3}, {\"threshold\": 0.857, \"p\": 4, \"fpr\": 0.0, \"tpr\": 0.25, \"n\": 3}, {\"threshold\": 0.858, \"p\": 4, \"fpr\": 0.0, \"tpr\": 0.25, \"n\": 3}, {\"threshold\": 0.859, \"p\": 4, \"fpr\": 0.0, \"tpr\": 0.25, \"n\": 3}, {\"threshold\": 0.86, \"p\": 4, \"fpr\": 0.0, \"tpr\": 0.25, \"n\": 3}, {\"threshold\": 0.861, \"p\": 4, \"fpr\": 0.0, \"tpr\": 0.25, \"n\": 3}, {\"threshold\": 0.862, \"p\": 4, \"fpr\": 0.0, \"tpr\": 0.25, \"n\": 3}, {\"threshold\": 0.863, \"p\": 4, \"fpr\": 0.0, \"tpr\": 0.25, \"n\": 3}, {\"threshold\": 0.864, \"p\": 4, \"fpr\": 0.0, \"tpr\": 0.25, \"n\": 3}, {\"threshold\": 0.865, \"p\": 4, \"fpr\": 0.0, \"tpr\": 0.25, \"n\": 3}, {\"threshold\": 0.866, \"p\": 4, \"fpr\": 0.0, \"tpr\": 0.25, \"n\": 3}, {\"threshold\": 0.867, \"p\": 4, \"fpr\": 0.0, \"tpr\": 0.25, \"n\": 3}, {\"threshold\": 0.868, \"p\": 4, \"fpr\": 0.0, \"tpr\": 0.25, \"n\": 3}, {\"threshold\": 0.869, \"p\": 4, \"fpr\": 0.0, \"tpr\": 0.25, \"n\": 3}, {\"threshold\": 0.87, \"p\": 4, \"fpr\": 0.0, \"tpr\": 0.25, \"n\": 3}, {\"threshold\": 0.871, \"p\": 4, \"fpr\": 0.0, \"tpr\": 0.25, \"n\": 3}, {\"threshold\": 0.872, \"p\": 4, \"fpr\": 0.0, \"tpr\": 0.25, \"n\": 3}, {\"threshold\": 0.873, \"p\": 4, \"fpr\": 0.0, \"tpr\": 0.25, \"n\": 3}, {\"threshold\": 0.874, \"p\": 4, \"fpr\": 0.0, \"tpr\": 0.25, \"n\": 3}, {\"threshold\": 0.875, \"p\": 4, \"fpr\": 0.0, \"tpr\": 0.25, \"n\": 3}, {\"threshold\": 0.876, \"p\": 4, \"fpr\": 0.0, \"tpr\": 0.25, \"n\": 3}, {\"threshold\": 0.877, \"p\": 4, \"fpr\": 0.0, \"tpr\": 0.25, \"n\": 3}, {\"threshold\": 0.878, \"p\": 4, \"fpr\": 0.0, \"tpr\": 0.25, \"n\": 3}, {\"threshold\": 0.879, \"p\": 4, \"fpr\": 0.0, \"tpr\": 0.25, \"n\": 3}, {\"threshold\": 0.88, \"p\": 4, \"fpr\": 0.0, \"tpr\": 0.25, \"n\": 3}, {\"threshold\": 0.881, \"p\": 4, \"fpr\": 0.0, \"tpr\": 0.25, \"n\": 3}, {\"threshold\": 0.882, \"p\": 4, \"fpr\": 0.0, \"tpr\": 0.25, \"n\": 3}, {\"threshold\": 0.883, \"p\": 4, \"fpr\": 0.0, \"tpr\": 0.25, \"n\": 3}, {\"threshold\": 0.884, \"p\": 4, \"fpr\": 0.0, \"tpr\": 0.25, \"n\": 3}, {\"threshold\": 0.885, \"p\": 4, \"fpr\": 0.0, \"tpr\": 0.25, \"n\": 3}, {\"threshold\": 0.886, \"p\": 4, \"fpr\": 0.0, \"tpr\": 0.25, \"n\": 3}, {\"threshold\": 0.887, \"p\": 4, \"fpr\": 0.0, \"tpr\": 0.25, \"n\": 3}, {\"threshold\": 0.888, \"p\": 4, \"fpr\": 0.0, \"tpr\": 0.25, \"n\": 3}, {\"threshold\": 0.889, \"p\": 4, \"fpr\": 0.0, \"tpr\": 0.25, \"n\": 3}, {\"threshold\": 0.89, \"p\": 4, \"fpr\": 0.0, \"tpr\": 0.25, \"n\": 3}, {\"threshold\": 0.891, \"p\": 4, \"fpr\": 0.0, \"tpr\": 0.25, \"n\": 3}, {\"threshold\": 0.892, \"p\": 4, \"fpr\": 0.0, \"tpr\": 0.25, \"n\": 3}, {\"threshold\": 0.893, \"p\": 4, \"fpr\": 0.0, \"tpr\": 0.25, \"n\": 3}, {\"threshold\": 0.894, \"p\": 4, \"fpr\": 0.0, \"tpr\": 0.0, \"n\": 3}, {\"threshold\": 0.895, \"p\": 4, \"fpr\": 0.0, \"tpr\": 0.0, \"n\": 3}, {\"threshold\": 0.896, \"p\": 4, \"fpr\": 0.0, \"tpr\": 0.0, \"n\": 3}, {\"threshold\": 0.897, \"p\": 4, \"fpr\": 0.0, \"tpr\": 0.0, \"n\": 3}, {\"threshold\": 0.898, \"p\": 4, \"fpr\": 0.0, \"tpr\": 0.0, \"n\": 3}, {\"threshold\": 0.899, \"p\": 4, \"fpr\": 0.0, \"tpr\": 0.0, \"n\": 3}, {\"threshold\": 0.9, \"p\": 4, \"fpr\": 0.0, \"tpr\": 0.0, \"n\": 3}, {\"threshold\": 0.901, \"p\": 4, \"fpr\": 0.0, \"tpr\": 0.0, \"n\": 3}, {\"threshold\": 0.902, \"p\": 4, \"fpr\": 0.0, \"tpr\": 0.0, \"n\": 3}, {\"threshold\": 0.903, \"p\": 4, \"fpr\": 0.0, \"tpr\": 0.0, \"n\": 3}, {\"threshold\": 0.904, \"p\": 4, \"fpr\": 0.0, \"tpr\": 0.0, \"n\": 3}, {\"threshold\": 0.905, \"p\": 4, \"fpr\": 0.0, \"tpr\": 0.0, \"n\": 3}, {\"threshold\": 0.906, \"p\": 4, \"fpr\": 0.0, \"tpr\": 0.0, \"n\": 3}, {\"threshold\": 0.907, \"p\": 4, \"fpr\": 0.0, \"tpr\": 0.0, \"n\": 3}, {\"threshold\": 0.908, \"p\": 4, \"fpr\": 0.0, \"tpr\": 0.0, \"n\": 3}, {\"threshold\": 0.909, \"p\": 4, \"fpr\": 0.0, \"tpr\": 0.0, \"n\": 3}, {\"threshold\": 0.91, \"p\": 4, \"fpr\": 0.0, \"tpr\": 0.0, \"n\": 3}, {\"threshold\": 0.911, \"p\": 4, \"fpr\": 0.0, \"tpr\": 0.0, \"n\": 3}, {\"threshold\": 0.912, \"p\": 4, \"fpr\": 0.0, \"tpr\": 0.0, \"n\": 3}, {\"threshold\": 0.913, \"p\": 4, \"fpr\": 0.0, \"tpr\": 0.0, \"n\": 3}, {\"threshold\": 0.914, \"p\": 4, \"fpr\": 0.0, \"tpr\": 0.0, \"n\": 3}, {\"threshold\": 0.915, \"p\": 4, \"fpr\": 0.0, \"tpr\": 0.0, \"n\": 3}, {\"threshold\": 0.916, \"p\": 4, \"fpr\": 0.0, \"tpr\": 0.0, \"n\": 3}, {\"threshold\": 0.917, \"p\": 4, \"fpr\": 0.0, \"tpr\": 0.0, \"n\": 3}, {\"threshold\": 0.918, \"p\": 4, \"fpr\": 0.0, \"tpr\": 0.0, \"n\": 3}, {\"threshold\": 0.919, \"p\": 4, \"fpr\": 0.0, \"tpr\": 0.0, \"n\": 3}, {\"threshold\": 0.92, \"p\": 4, \"fpr\": 0.0, \"tpr\": 0.0, \"n\": 3}, {\"threshold\": 0.921, \"p\": 4, \"fpr\": 0.0, \"tpr\": 0.0, \"n\": 3}, {\"threshold\": 0.922, \"p\": 4, \"fpr\": 0.0, \"tpr\": 0.0, \"n\": 3}, {\"threshold\": 0.923, \"p\": 4, \"fpr\": 0.0, \"tpr\": 0.0, \"n\": 3}, {\"threshold\": 0.924, \"p\": 4, \"fpr\": 0.0, \"tpr\": 0.0, \"n\": 3}, {\"threshold\": 0.925, \"p\": 4, \"fpr\": 0.0, \"tpr\": 0.0, \"n\": 3}, {\"threshold\": 0.926, \"p\": 4, \"fpr\": 0.0, \"tpr\": 0.0, \"n\": 3}, {\"threshold\": 0.927, \"p\": 4, \"fpr\": 0.0, \"tpr\": 0.0, \"n\": 3}, {\"threshold\": 0.928, \"p\": 4, \"fpr\": 0.0, \"tpr\": 0.0, \"n\": 3}, {\"threshold\": 0.929, \"p\": 4, \"fpr\": 0.0, \"tpr\": 0.0, \"n\": 3}, {\"threshold\": 0.93, \"p\": 4, \"fpr\": 0.0, \"tpr\": 0.0, \"n\": 3}, {\"threshold\": 0.931, \"p\": 4, \"fpr\": 0.0, \"tpr\": 0.0, \"n\": 3}, {\"threshold\": 0.932, \"p\": 4, \"fpr\": 0.0, \"tpr\": 0.0, \"n\": 3}, {\"threshold\": 0.933, \"p\": 4, \"fpr\": 0.0, \"tpr\": 0.0, \"n\": 3}, {\"threshold\": 0.934, \"p\": 4, \"fpr\": 0.0, \"tpr\": 0.0, \"n\": 3}, {\"threshold\": 0.935, \"p\": 4, \"fpr\": 0.0, \"tpr\": 0.0, \"n\": 3}, {\"threshold\": 0.936, \"p\": 4, \"fpr\": 0.0, \"tpr\": 0.0, \"n\": 3}, {\"threshold\": 0.937, \"p\": 4, \"fpr\": 0.0, \"tpr\": 0.0, \"n\": 3}, {\"threshold\": 0.938, \"p\": 4, \"fpr\": 0.0, \"tpr\": 0.0, \"n\": 3}, {\"threshold\": 0.939, \"p\": 4, \"fpr\": 0.0, \"tpr\": 0.0, \"n\": 3}, {\"threshold\": 0.94, \"p\": 4, \"fpr\": 0.0, \"tpr\": 0.0, \"n\": 3}, {\"threshold\": 0.941, \"p\": 4, \"fpr\": 0.0, \"tpr\": 0.0, \"n\": 3}, {\"threshold\": 0.942, \"p\": 4, \"fpr\": 0.0, \"tpr\": 0.0, \"n\": 3}, {\"threshold\": 0.943, \"p\": 4, \"fpr\": 0.0, \"tpr\": 0.0, \"n\": 3}, {\"threshold\": 0.944, \"p\": 4, \"fpr\": 0.0, \"tpr\": 0.0, \"n\": 3}, {\"threshold\": 0.945, \"p\": 4, \"fpr\": 0.0, \"tpr\": 0.0, \"n\": 3}, {\"threshold\": 0.946, \"p\": 4, \"fpr\": 0.0, \"tpr\": 0.0, \"n\": 3}, {\"threshold\": 0.947, \"p\": 4, \"fpr\": 0.0, \"tpr\": 0.0, \"n\": 3}, {\"threshold\": 0.948, \"p\": 4, \"fpr\": 0.0, \"tpr\": 0.0, \"n\": 3}, {\"threshold\": 0.949, \"p\": 4, \"fpr\": 0.0, \"tpr\": 0.0, \"n\": 3}, {\"threshold\": 0.95, \"p\": 4, \"fpr\": 0.0, \"tpr\": 0.0, \"n\": 3}, {\"threshold\": 0.951, \"p\": 4, \"fpr\": 0.0, \"tpr\": 0.0, \"n\": 3}, {\"threshold\": 0.952, \"p\": 4, \"fpr\": 0.0, \"tpr\": 0.0, \"n\": 3}, {\"threshold\": 0.953, \"p\": 4, \"fpr\": 0.0, \"tpr\": 0.0, \"n\": 3}, {\"threshold\": 0.954, \"p\": 4, \"fpr\": 0.0, \"tpr\": 0.0, \"n\": 3}, {\"threshold\": 0.955, \"p\": 4, \"fpr\": 0.0, \"tpr\": 0.0, \"n\": 3}, {\"threshold\": 0.956, \"p\": 4, \"fpr\": 0.0, \"tpr\": 0.0, \"n\": 3}, {\"threshold\": 0.957, \"p\": 4, \"fpr\": 0.0, \"tpr\": 0.0, \"n\": 3}, {\"threshold\": 0.958, \"p\": 4, \"fpr\": 0.0, \"tpr\": 0.0, \"n\": 3}, {\"threshold\": 0.959, \"p\": 4, \"fpr\": 0.0, \"tpr\": 0.0, \"n\": 3}, {\"threshold\": 0.96, \"p\": 4, \"fpr\": 0.0, \"tpr\": 0.0, \"n\": 3}, {\"threshold\": 0.961, \"p\": 4, \"fpr\": 0.0, \"tpr\": 0.0, \"n\": 3}, {\"threshold\": 0.962, \"p\": 4, \"fpr\": 0.0, \"tpr\": 0.0, \"n\": 3}, {\"threshold\": 0.963, \"p\": 4, \"fpr\": 0.0, \"tpr\": 0.0, \"n\": 3}, {\"threshold\": 0.964, \"p\": 4, \"fpr\": 0.0, \"tpr\": 0.0, \"n\": 3}, {\"threshold\": 0.965, \"p\": 4, \"fpr\": 0.0, \"tpr\": 0.0, \"n\": 3}, {\"threshold\": 0.966, \"p\": 4, \"fpr\": 0.0, \"tpr\": 0.0, \"n\": 3}, {\"threshold\": 0.967, \"p\": 4, \"fpr\": 0.0, \"tpr\": 0.0, \"n\": 3}, {\"threshold\": 0.968, \"p\": 4, \"fpr\": 0.0, \"tpr\": 0.0, \"n\": 3}, {\"threshold\": 0.969, \"p\": 4, \"fpr\": 0.0, \"tpr\": 0.0, \"n\": 3}, {\"threshold\": 0.97, \"p\": 4, \"fpr\": 0.0, \"tpr\": 0.0, \"n\": 3}, {\"threshold\": 0.971, \"p\": 4, \"fpr\": 0.0, \"tpr\": 0.0, \"n\": 3}, {\"threshold\": 0.972, \"p\": 4, \"fpr\": 0.0, \"tpr\": 0.0, \"n\": 3}, {\"threshold\": 0.973, \"p\": 4, \"fpr\": 0.0, \"tpr\": 0.0, \"n\": 3}, {\"threshold\": 0.974, \"p\": 4, \"fpr\": 0.0, \"tpr\": 0.0, \"n\": 3}, {\"threshold\": 0.975, \"p\": 4, \"fpr\": 0.0, \"tpr\": 0.0, \"n\": 3}, {\"threshold\": 0.976, \"p\": 4, \"fpr\": 0.0, \"tpr\": 0.0, \"n\": 3}, {\"threshold\": 0.977, \"p\": 4, \"fpr\": 0.0, \"tpr\": 0.0, \"n\": 3}, {\"threshold\": 0.978, \"p\": 4, \"fpr\": 0.0, \"tpr\": 0.0, \"n\": 3}, {\"threshold\": 0.979, \"p\": 4, \"fpr\": 0.0, \"tpr\": 0.0, \"n\": 3}, {\"threshold\": 0.98, \"p\": 4, \"fpr\": 0.0, \"tpr\": 0.0, \"n\": 3}, {\"threshold\": 0.981, \"p\": 4, \"fpr\": 0.0, \"tpr\": 0.0, \"n\": 3}, {\"threshold\": 0.982, \"p\": 4, \"fpr\": 0.0, \"tpr\": 0.0, \"n\": 3}, {\"threshold\": 0.983, \"p\": 4, \"fpr\": 0.0, \"tpr\": 0.0, \"n\": 3}, {\"threshold\": 0.984, \"p\": 4, \"fpr\": 0.0, \"tpr\": 0.0, \"n\": 3}, {\"threshold\": 0.985, \"p\": 4, \"fpr\": 0.0, \"tpr\": 0.0, \"n\": 3}, {\"threshold\": 0.986, \"p\": 4, \"fpr\": 0.0, \"tpr\": 0.0, \"n\": 3}, {\"threshold\": 0.987, \"p\": 4, \"fpr\": 0.0, \"tpr\": 0.0, \"n\": 3}, {\"threshold\": 0.988, \"p\": 4, \"fpr\": 0.0, \"tpr\": 0.0, \"n\": 3}, {\"threshold\": 0.989, \"p\": 4, \"fpr\": 0.0, \"tpr\": 0.0, \"n\": 3}, {\"threshold\": 0.99, \"p\": 4, \"fpr\": 0.0, \"tpr\": 0.0, \"n\": 3}, {\"threshold\": 0.991, \"p\": 4, \"fpr\": 0.0, \"tpr\": 0.0, \"n\": 3}, {\"threshold\": 0.992, \"p\": 4, \"fpr\": 0.0, \"tpr\": 0.0, \"n\": 3}, {\"threshold\": 0.993, \"p\": 4, \"fpr\": 0.0, \"tpr\": 0.0, \"n\": 3}, {\"threshold\": 0.994, \"p\": 4, \"fpr\": 0.0, \"tpr\": 0.0, \"n\": 3}, {\"threshold\": 0.995, \"p\": 4, \"fpr\": 0.0, \"tpr\": 0.0, \"n\": 3}, {\"threshold\": 0.996, \"p\": 4, \"fpr\": 0.0, \"tpr\": 0.0, \"n\": 3}, {\"threshold\": 0.997, \"p\": 4, \"fpr\": 0.0, \"tpr\": 0.0, \"n\": 3}, {\"threshold\": 0.998, \"p\": 4, \"fpr\": 0.0, \"tpr\": 0.0, \"n\": 3}, {\"threshold\": 0.999, \"p\": 4, \"fpr\": 0.0, \"tpr\": 0.0, \"n\": 3}, {\"threshold\": 1.0, \"p\": 4, \"fpr\": 0.0, \"tpr\": 0.0, \"n\": 3}]}]]}, e);\n",
       "                });\n",
       "            })();\n",
       "        "
      ]
     },
     "metadata": {},
     "output_type": "display_data"
    }
   ],
   "source": [
    "sentiment_model.show(view='Evaluation')"
   ]
  },
  {
   "cell_type": "markdown",
   "metadata": {},
   "source": [
    "# Use trained model to understand sentiment of other business reviews"
   ]
  },
  {
   "cell_type": "code",
   "execution_count": 24,
   "metadata": {
    "collapsed": true
   },
   "outputs": [],
   "source": [
    "# Most reviewed business is Burger King Mongolia. So let's try to understand reviews of Burger King Mongolia"
   ]
  },
  {
   "cell_type": "code",
   "execution_count": 25,
   "metadata": {
    "collapsed": true
   },
   "outputs": [],
   "source": [
    "business_reviews['predicted_sentiment'] = sentiment_model.predict(business_reviews, output_type='probability')"
   ]
  },
  {
   "cell_type": "code",
   "execution_count": 26,
   "metadata": {},
   "outputs": [
    {
     "data": {
      "text/html": [
       "<div style=\"max-height:1000px;max-width:1500px;overflow:auto;\"><table frame=\"box\" rules=\"cols\">\n",
       "    <tr>\n",
       "        <th style=\"padding-left: 1em; padding-right: 1em; text-align: center\">name</th>\n",
       "        <th style=\"padding-left: 1em; padding-right: 1em; text-align: center\">review</th>\n",
       "        <th style=\"padding-left: 1em; padding-right: 1em; text-align: center\">rating</th>\n",
       "        <th style=\"padding-left: 1em; padding-right: 1em; text-align: center\">word_count</th>\n",
       "        <th style=\"padding-left: 1em; padding-right: 1em; text-align: center\">predicted_sentiment</th>\n",
       "    </tr>\n",
       "    <tr>\n",
       "        <td style=\"padding-left: 1em; padding-right: 1em; text-align: center; vertical-align: top\">BBQ chicken Mongolia</td>\n",
       "        <td style=\"padding-left: 1em; padding-right: 1em; text-align: center; vertical-align: top\">Horoollin salbartaa<br>anhaarlaa handulaacee ...</td>\n",
       "        <td style=\"padding-left: 1em; padding-right: 1em; text-align: center; vertical-align: top\">1</td>\n",
       "        <td style=\"padding-left: 1em; padding-right: 1em; text-align: center; vertical-align: top\">{'bvr': 1, 'hutgaa': 1,<br>'halbaga': 1, 'tawga' ...</td>\n",
       "        <td style=\"padding-left: 1em; padding-right: 1em; text-align: center; vertical-align: top\">1.36938385948e-19</td>\n",
       "    </tr>\n",
       "    <tr>\n",
       "        <td style=\"padding-left: 1em; padding-right: 1em; text-align: center; vertical-align: top\">BBQ chicken Mongolia</td>\n",
       "        <td style=\"padding-left: 1em; padding-right: 1em; text-align: center; vertical-align: top\">Hogiin gazar. Zahialga<br>ugii geheer dandaa uur ...</td>\n",
       "        <td style=\"padding-left: 1em; padding-right: 1em; text-align: center; vertical-align: top\">1</td>\n",
       "        <td style=\"padding-left: 1em; padding-right: 1em; text-align: center; vertical-align: top\">{'oirhon': 1, 'guihimu':<br>1, 'ued': 1, 'manaih' ...</td>\n",
       "        <td style=\"padding-left: 1em; padding-right: 1em; text-align: center; vertical-align: top\">9.8826238002e-15</td>\n",
       "    </tr>\n",
       "    <tr>\n",
       "        <td style=\"padding-left: 1em; padding-right: 1em; text-align: center; vertical-align: top\">BBQ chicken Mongolia</td>\n",
       "        <td style=\"padding-left: 1em; padding-right: 1em; text-align: center; vertical-align: top\">Tahian shardag tosoo ern<br>solidiimu tanaih. Arai l ...</td>\n",
       "        <td style=\"padding-left: 1em; padding-right: 1em; text-align: center; vertical-align: top\">1</td>\n",
       "        <td style=\"padding-left: 1em; padding-right: 1em; text-align: center; vertical-align: top\">{'dahij': 1, 'heterhii':<br>1, 'zahialaltgui': 1, ...</td>\n",
       "        <td style=\"padding-left: 1em; padding-right: 1em; text-align: center; vertical-align: top\">0.0001795525193</td>\n",
       "    </tr>\n",
       "    <tr>\n",
       "        <td style=\"padding-left: 1em; padding-right: 1em; text-align: center; vertical-align: top\">BBQ chicken Mongolia</td>\n",
       "        <td style=\"padding-left: 1em; padding-right: 1em; text-align: center; vertical-align: top\">Ystoi muuhai haraajin<br>tuuhii mahand n hurtel ...</td>\n",
       "        <td style=\"padding-left: 1em; padding-right: 1em; text-align: center; vertical-align: top\">1</td>\n",
       "        <td style=\"padding-left: 1em; padding-right: 1em; text-align: center; vertical-align: top\">{'ch': 1, 'mahand': 1,<br>'shig': 1, 'gd': 1, ...</td>\n",
       "        <td style=\"padding-left: 1em; padding-right: 1em; text-align: center; vertical-align: top\">1.82925092366e-05</td>\n",
       "    </tr>\n",
       "    <tr>\n",
       "        <td style=\"padding-left: 1em; padding-right: 1em; text-align: center; vertical-align: top\">BBQ chicken Mongolia</td>\n",
       "        <td style=\"padding-left: 1em; padding-right: 1em; text-align: center; vertical-align: top\">Sous ntree hvn guisiim<br>shg hdg blchjee vneheer ...</td>\n",
       "        <td style=\"padding-left: 1em; padding-right: 1em; text-align: center; vertical-align: top\">1</td>\n",
       "        <td style=\"padding-left: 1em; padding-right: 1em; text-align: center; vertical-align: top\">{'guisiim': 1, 'hvn': 1,<br>'ee': 1, 'shgee': 1, ...</td>\n",
       "        <td style=\"padding-left: 1em; padding-right: 1em; text-align: center; vertical-align: top\">7.30063173384e-06</td>\n",
       "    </tr>\n",
       "    <tr>\n",
       "        <td style=\"padding-left: 1em; padding-right: 1em; text-align: center; vertical-align: top\">BBQ chicken Mongolia</td>\n",
       "        <td style=\"padding-left: 1em; padding-right: 1em; text-align: center; vertical-align: top\">Guurnii door bdag<br>salbariin uilchilgee ...</td>\n",
       "        <td style=\"padding-left: 1em; padding-right: 1em; text-align: center; vertical-align: top\">5</td>\n",
       "        <td style=\"padding-left: 1em; padding-right: 1em; text-align: center; vertical-align: top\">{'door': 1, 'taalagdlaa':<br>1, 'salbariin': 1, ...</td>\n",
       "        <td style=\"padding-left: 1em; padding-right: 1em; text-align: center; vertical-align: top\">0.329986932663</td>\n",
       "    </tr>\n",
       "    <tr>\n",
       "        <td style=\"padding-left: 1em; padding-right: 1em; text-align: center; vertical-align: top\">BBQ chicken Mongolia</td>\n",
       "        <td style=\"padding-left: 1em; padding-right: 1em; text-align: center; vertical-align: top\">goe tahia baina</td>\n",
       "        <td style=\"padding-left: 1em; padding-right: 1em; text-align: center; vertical-align: top\">3</td>\n",
       "        <td style=\"padding-left: 1em; padding-right: 1em; text-align: center; vertical-align: top\">{'tahia': 1, 'goe': 1,<br>'baina': 1} ...</td>\n",
       "        <td style=\"padding-left: 1em; padding-right: 1em; text-align: center; vertical-align: top\">0.490027046584</td>\n",
       "    </tr>\n",
       "    <tr>\n",
       "        <td style=\"padding-left: 1em; padding-right: 1em; text-align: center; vertical-align: top\">BBQ chicken Mongolia</td>\n",
       "        <td style=\"padding-left: 1em; padding-right: 1em; text-align: center; vertical-align: top\">Chicken dukbab bol nice2<br>jhn hymd bval humuus ih ...</td>\n",
       "        <td style=\"padding-left: 1em; padding-right: 1em; text-align: center; vertical-align: top\">5</td>\n",
       "        <td style=\"padding-left: 1em; padding-right: 1em; text-align: center; vertical-align: top\">{'daa': 1, 'nice2': 1,<br>'dukbab': 1, 'humuus' ...</td>\n",
       "        <td style=\"padding-left: 1em; padding-right: 1em; text-align: center; vertical-align: top\">0.999588244237</td>\n",
       "    </tr>\n",
       "    <tr>\n",
       "        <td style=\"padding-left: 1em; padding-right: 1em; text-align: center; vertical-align: top\">BBQ chicken Mongolia</td>\n",
       "        <td style=\"padding-left: 1em; padding-right: 1em; text-align: center; vertical-align: top\">bbg hamt olond ajiln<br>amjilt orh durtai gazarn ...</td>\n",
       "        <td style=\"padding-left: 1em; padding-right: 1em; text-align: center; vertical-align: top\">5</td>\n",
       "        <td style=\"padding-left: 1em; padding-right: 1em; text-align: center; vertical-align: top\">{'hamt': 1, 'ajiln': 1,<br>'bbg': 1, 'neg': 1, ...</td>\n",
       "        <td style=\"padding-left: 1em; padding-right: 1em; text-align: center; vertical-align: top\">0.999424896494</td>\n",
       "    </tr>\n",
       "</table>\n",
       "[9 rows x 5 columns]<br/>\n",
       "</div>"
      ],
      "text/plain": [
       "Columns:\n",
       "\tname\tstr\n",
       "\treview\tstr\n",
       "\trating\tint\n",
       "\tword_count\tdict\n",
       "\tpredicted_sentiment\tfloat\n",
       "\n",
       "Rows: 9\n",
       "\n",
       "Data:\n",
       "+----------------------+-------------------------------+--------+\n",
       "|         name         |             review            | rating |\n",
       "+----------------------+-------------------------------+--------+\n",
       "| BBQ chicken Mongolia | Horoollin salbartaa anhaar... |   1    |\n",
       "| BBQ chicken Mongolia | Hogiin gazar. Zahialga ugi... |   1    |\n",
       "| BBQ chicken Mongolia | Tahian shardag tosoo ern s... |   1    |\n",
       "| BBQ chicken Mongolia | Ystoi muuhai haraajin tuuh... |   1    |\n",
       "| BBQ chicken Mongolia | Sous ntree hvn guisiim shg... |   1    |\n",
       "| BBQ chicken Mongolia | Guurnii door bdag salbarii... |   5    |\n",
       "| BBQ chicken Mongolia |        goe tahia baina        |   3    |\n",
       "| BBQ chicken Mongolia | Chicken dukbab bol nice2 j... |   5    |\n",
       "| BBQ chicken Mongolia | bbg hamt olond ajiln amjil... |   5    |\n",
       "+----------------------+-------------------------------+--------+\n",
       "+-------------------------------+---------------------+\n",
       "|           word_count          | predicted_sentiment |\n",
       "+-------------------------------+---------------------+\n",
       "| {'bvr': 1, 'hutgaa': 1, 'h... |  1.36938385948e-19  |\n",
       "| {'oirhon': 1, 'guihimu': 1... |   9.8826238002e-15  |\n",
       "| {'dahij': 1, 'heterhii': 1... |   0.0001795525193   |\n",
       "| {'ch': 1, 'mahand': 1, 'sh... |  1.82925092366e-05  |\n",
       "| {'guisiim': 1, 'hvn': 1, '... |  7.30063173384e-06  |\n",
       "| {'door': 1, 'taalagdlaa': ... |    0.329986932663   |\n",
       "| {'tahia': 1, 'goe': 1, 'ba... |    0.490027046584   |\n",
       "| {'daa': 1, 'nice2': 1, 'du... |    0.999588244237   |\n",
       "| {'hamt': 1, 'ajiln': 1, 'b... |    0.999424896494   |\n",
       "+-------------------------------+---------------------+\n",
       "[9 rows x 5 columns]"
      ]
     },
     "execution_count": 26,
     "metadata": {},
     "output_type": "execute_result"
    }
   ],
   "source": [
    "business_reviews.head()"
   ]
  },
  {
   "cell_type": "markdown",
   "metadata": {},
   "source": [
    "# Let's sort the reviews "
   ]
  },
  {
   "cell_type": "code",
   "execution_count": 27,
   "metadata": {
    "collapsed": true
   },
   "outputs": [],
   "source": [
    "business_reviews = business_reviews.sort('predicted_sentiment', ascending=False)"
   ]
  },
  {
   "cell_type": "code",
   "execution_count": 28,
   "metadata": {},
   "outputs": [
    {
     "data": {
      "text/html": [
       "<div style=\"max-height:1000px;max-width:1500px;overflow:auto;\"><table frame=\"box\" rules=\"cols\">\n",
       "    <tr>\n",
       "        <th style=\"padding-left: 1em; padding-right: 1em; text-align: center\">name</th>\n",
       "        <th style=\"padding-left: 1em; padding-right: 1em; text-align: center\">review</th>\n",
       "        <th style=\"padding-left: 1em; padding-right: 1em; text-align: center\">rating</th>\n",
       "        <th style=\"padding-left: 1em; padding-right: 1em; text-align: center\">word_count</th>\n",
       "        <th style=\"padding-left: 1em; padding-right: 1em; text-align: center\">predicted_sentiment</th>\n",
       "    </tr>\n",
       "    <tr>\n",
       "        <td style=\"padding-left: 1em; padding-right: 1em; text-align: center; vertical-align: top\">BBQ chicken Mongolia</td>\n",
       "        <td style=\"padding-left: 1em; padding-right: 1em; text-align: center; vertical-align: top\">Chicken dukbab bol nice2<br>jhn hymd bval humuus ih ...</td>\n",
       "        <td style=\"padding-left: 1em; padding-right: 1em; text-align: center; vertical-align: top\">5</td>\n",
       "        <td style=\"padding-left: 1em; padding-right: 1em; text-align: center; vertical-align: top\">{'daa': 1, 'nice2': 1,<br>'dukbab': 1, 'humuus' ...</td>\n",
       "        <td style=\"padding-left: 1em; padding-right: 1em; text-align: center; vertical-align: top\">0.999588244237</td>\n",
       "    </tr>\n",
       "    <tr>\n",
       "        <td style=\"padding-left: 1em; padding-right: 1em; text-align: center; vertical-align: top\">BBQ chicken Mongolia</td>\n",
       "        <td style=\"padding-left: 1em; padding-right: 1em; text-align: center; vertical-align: top\">bbg hamt olond ajiln<br>amjilt orh durtai gazarn ...</td>\n",
       "        <td style=\"padding-left: 1em; padding-right: 1em; text-align: center; vertical-align: top\">5</td>\n",
       "        <td style=\"padding-left: 1em; padding-right: 1em; text-align: center; vertical-align: top\">{'hamt': 1, 'ajiln': 1,<br>'bbg': 1, 'neg': 1, ...</td>\n",
       "        <td style=\"padding-left: 1em; padding-right: 1em; text-align: center; vertical-align: top\">0.999424896494</td>\n",
       "    </tr>\n",
       "    <tr>\n",
       "        <td style=\"padding-left: 1em; padding-right: 1em; text-align: center; vertical-align: top\">BBQ chicken Mongolia</td>\n",
       "        <td style=\"padding-left: 1em; padding-right: 1em; text-align: center; vertical-align: top\">goe tahia baina</td>\n",
       "        <td style=\"padding-left: 1em; padding-right: 1em; text-align: center; vertical-align: top\">3</td>\n",
       "        <td style=\"padding-left: 1em; padding-right: 1em; text-align: center; vertical-align: top\">{'tahia': 1, 'goe': 1,<br>'baina': 1} ...</td>\n",
       "        <td style=\"padding-left: 1em; padding-right: 1em; text-align: center; vertical-align: top\">0.490027046584</td>\n",
       "    </tr>\n",
       "    <tr>\n",
       "        <td style=\"padding-left: 1em; padding-right: 1em; text-align: center; vertical-align: top\">BBQ chicken Mongolia</td>\n",
       "        <td style=\"padding-left: 1em; padding-right: 1em; text-align: center; vertical-align: top\">Guurnii door bdag<br>salbariin uilchilgee ...</td>\n",
       "        <td style=\"padding-left: 1em; padding-right: 1em; text-align: center; vertical-align: top\">5</td>\n",
       "        <td style=\"padding-left: 1em; padding-right: 1em; text-align: center; vertical-align: top\">{'door': 1, 'taalagdlaa':<br>1, 'salbariin': 1, ...</td>\n",
       "        <td style=\"padding-left: 1em; padding-right: 1em; text-align: center; vertical-align: top\">0.329986932663</td>\n",
       "    </tr>\n",
       "    <tr>\n",
       "        <td style=\"padding-left: 1em; padding-right: 1em; text-align: center; vertical-align: top\">BBQ chicken Mongolia</td>\n",
       "        <td style=\"padding-left: 1em; padding-right: 1em; text-align: center; vertical-align: top\">Tahian shardag tosoo ern<br>solidiimu tanaih. Arai l ...</td>\n",
       "        <td style=\"padding-left: 1em; padding-right: 1em; text-align: center; vertical-align: top\">1</td>\n",
       "        <td style=\"padding-left: 1em; padding-right: 1em; text-align: center; vertical-align: top\">{'dahij': 1, 'heterhii':<br>1, 'zahialaltgui': 1, ...</td>\n",
       "        <td style=\"padding-left: 1em; padding-right: 1em; text-align: center; vertical-align: top\">0.0001795525193</td>\n",
       "    </tr>\n",
       "    <tr>\n",
       "        <td style=\"padding-left: 1em; padding-right: 1em; text-align: center; vertical-align: top\">BBQ chicken Mongolia</td>\n",
       "        <td style=\"padding-left: 1em; padding-right: 1em; text-align: center; vertical-align: top\">Ystoi muuhai haraajin<br>tuuhii mahand n hurtel ...</td>\n",
       "        <td style=\"padding-left: 1em; padding-right: 1em; text-align: center; vertical-align: top\">1</td>\n",
       "        <td style=\"padding-left: 1em; padding-right: 1em; text-align: center; vertical-align: top\">{'ch': 1, 'mahand': 1,<br>'shig': 1, 'gd': 1, ...</td>\n",
       "        <td style=\"padding-left: 1em; padding-right: 1em; text-align: center; vertical-align: top\">1.82925092366e-05</td>\n",
       "    </tr>\n",
       "    <tr>\n",
       "        <td style=\"padding-left: 1em; padding-right: 1em; text-align: center; vertical-align: top\">BBQ chicken Mongolia</td>\n",
       "        <td style=\"padding-left: 1em; padding-right: 1em; text-align: center; vertical-align: top\">Sous ntree hvn guisiim<br>shg hdg blchjee vneheer ...</td>\n",
       "        <td style=\"padding-left: 1em; padding-right: 1em; text-align: center; vertical-align: top\">1</td>\n",
       "        <td style=\"padding-left: 1em; padding-right: 1em; text-align: center; vertical-align: top\">{'guisiim': 1, 'hvn': 1,<br>'ee': 1, 'shgee': 1, ...</td>\n",
       "        <td style=\"padding-left: 1em; padding-right: 1em; text-align: center; vertical-align: top\">7.30063173384e-06</td>\n",
       "    </tr>\n",
       "    <tr>\n",
       "        <td style=\"padding-left: 1em; padding-right: 1em; text-align: center; vertical-align: top\">BBQ chicken Mongolia</td>\n",
       "        <td style=\"padding-left: 1em; padding-right: 1em; text-align: center; vertical-align: top\">Hogiin gazar. Zahialga<br>ugii geheer dandaa uur ...</td>\n",
       "        <td style=\"padding-left: 1em; padding-right: 1em; text-align: center; vertical-align: top\">1</td>\n",
       "        <td style=\"padding-left: 1em; padding-right: 1em; text-align: center; vertical-align: top\">{'oirhon': 1, 'guihimu':<br>1, 'ued': 1, 'manaih' ...</td>\n",
       "        <td style=\"padding-left: 1em; padding-right: 1em; text-align: center; vertical-align: top\">9.8826238002e-15</td>\n",
       "    </tr>\n",
       "    <tr>\n",
       "        <td style=\"padding-left: 1em; padding-right: 1em; text-align: center; vertical-align: top\">BBQ chicken Mongolia</td>\n",
       "        <td style=\"padding-left: 1em; padding-right: 1em; text-align: center; vertical-align: top\">Horoollin salbartaa<br>anhaarlaa handulaacee ...</td>\n",
       "        <td style=\"padding-left: 1em; padding-right: 1em; text-align: center; vertical-align: top\">1</td>\n",
       "        <td style=\"padding-left: 1em; padding-right: 1em; text-align: center; vertical-align: top\">{'bvr': 1, 'hutgaa': 1,<br>'halbaga': 1, 'tawga' ...</td>\n",
       "        <td style=\"padding-left: 1em; padding-right: 1em; text-align: center; vertical-align: top\">1.36938385948e-19</td>\n",
       "    </tr>\n",
       "</table>\n",
       "[9 rows x 5 columns]<br/>\n",
       "</div>"
      ],
      "text/plain": [
       "Columns:\n",
       "\tname\tstr\n",
       "\treview\tstr\n",
       "\trating\tint\n",
       "\tword_count\tdict\n",
       "\tpredicted_sentiment\tfloat\n",
       "\n",
       "Rows: 9\n",
       "\n",
       "Data:\n",
       "+----------------------+-------------------------------+--------+\n",
       "|         name         |             review            | rating |\n",
       "+----------------------+-------------------------------+--------+\n",
       "| BBQ chicken Mongolia | Chicken dukbab bol nice2 j... |   5    |\n",
       "| BBQ chicken Mongolia | bbg hamt olond ajiln amjil... |   5    |\n",
       "| BBQ chicken Mongolia |        goe tahia baina        |   3    |\n",
       "| BBQ chicken Mongolia | Guurnii door bdag salbarii... |   5    |\n",
       "| BBQ chicken Mongolia | Tahian shardag tosoo ern s... |   1    |\n",
       "| BBQ chicken Mongolia | Ystoi muuhai haraajin tuuh... |   1    |\n",
       "| BBQ chicken Mongolia | Sous ntree hvn guisiim shg... |   1    |\n",
       "| BBQ chicken Mongolia | Hogiin gazar. Zahialga ugi... |   1    |\n",
       "| BBQ chicken Mongolia | Horoollin salbartaa anhaar... |   1    |\n",
       "+----------------------+-------------------------------+--------+\n",
       "+-------------------------------+---------------------+\n",
       "|           word_count          | predicted_sentiment |\n",
       "+-------------------------------+---------------------+\n",
       "| {'daa': 1, 'nice2': 1, 'du... |    0.999588244237   |\n",
       "| {'hamt': 1, 'ajiln': 1, 'b... |    0.999424896494   |\n",
       "| {'tahia': 1, 'goe': 1, 'ba... |    0.490027046584   |\n",
       "| {'door': 1, 'taalagdlaa': ... |    0.329986932663   |\n",
       "| {'dahij': 1, 'heterhii': 1... |   0.0001795525193   |\n",
       "| {'ch': 1, 'mahand': 1, 'sh... |  1.82925092366e-05  |\n",
       "| {'guisiim': 1, 'hvn': 1, '... |  7.30063173384e-06  |\n",
       "| {'oirhon': 1, 'guihimu': 1... |   9.8826238002e-15  |\n",
       "| {'bvr': 1, 'hutgaa': 1, 'h... |  1.36938385948e-19  |\n",
       "+-------------------------------+---------------------+\n",
       "[9 rows x 5 columns]"
      ]
     },
     "execution_count": 28,
     "metadata": {},
     "output_type": "execute_result"
    }
   ],
   "source": [
    "business_reviews.head()"
   ]
  },
  {
   "cell_type": "markdown",
   "metadata": {},
   "source": [
    "# The most positive reviews for the business1 "
   ]
  },
  {
   "cell_type": "code",
   "execution_count": 29,
   "metadata": {},
   "outputs": [
    {
     "data": {
      "text/plain": [
       "'Chicken dukbab bol nice2 jhn hymd bval humuus ih zahialna daa'"
      ]
     },
     "execution_count": 29,
     "metadata": {},
     "output_type": "execute_result"
    }
   ],
   "source": [
    "index = 0\n",
    "business_reviews[index]['review']\n",
    "# print \"machine rating:\" + str(business_reviews[index]['predicted_sentiment'])"
   ]
  },
  {
   "cell_type": "markdown",
   "metadata": {},
   "source": [
    "# The most negative reviews for the business1 "
   ]
  },
  {
   "cell_type": "code",
   "execution_count": 30,
   "metadata": {},
   "outputs": [
    {
     "data": {
      "text/plain": [
       "'Horoollin salbartaa anhaarlaa handulaacee ymar es surthuun hvndll bhgv ih muhai ner toriig cn unagaasn salbar we. Hool n udna zoogc n udaan gants hool idh gj bi 5 6duudlaa brg svvldee oroo orto uilcleh shahsan . Zahialga dendvv udaana. Bvvr bj bj holo ogchood tawga oghgv halbaga hutgaa ogohgvv pizza ntr idh gheer bas l... bibvr ng ngeer n duudaj oroo hlj awsan. Tgd im ym gheer urdaas urlna ogh gj bna ntr ene cn yu gsn vg ym bee?? Iim haritsaatai bj blhuu??? Ajlaa hj cadhgv bgaag n halaacde tsaguur cn l ng ajil haisan gudamj metrlsn zaluus bna yah gj ungj ner toroo unagaan bj iim hvmvvs ajluuldag ym vneheer gomdoltou bna. Uilchilgee bvr muugin muu bsn.'"
      ]
     },
     "execution_count": 30,
     "metadata": {},
     "output_type": "execute_result"
    }
   ],
   "source": [
    "# -1 is the last element of list \n",
    "index = -1\n",
    "business_reviews[index]['review']"
   ]
  }
 ],
 "metadata": {
  "kernelspec": {
   "display_name": "Python 2",
   "language": "python",
   "name": "python2"
  },
  "language_info": {
   "codemirror_mode": {
    "name": "ipython",
    "version": 2
   },
   "file_extension": ".py",
   "mimetype": "text/x-python",
   "name": "python",
   "nbconvert_exporter": "python",
   "pygments_lexer": "ipython2",
   "version": "2.7.12"
  }
 },
 "nbformat": 4,
 "nbformat_minor": 2
}
